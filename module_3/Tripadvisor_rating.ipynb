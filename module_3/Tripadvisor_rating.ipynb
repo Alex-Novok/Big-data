{
 "cells": [
  {
   "cell_type": "markdown",
   "metadata": {},
   "source": [
    "# SkillFactory. Data Science. Проект №3.  \n"
   ]
  },
  {
   "cell_type": "markdown",
   "metadata": {},
   "source": [
    "### Задача: предсказать рейтинг ресторанов в TripAdvisor.\n"
   ]
  },
  {
   "cell_type": "markdown",
   "metadata": {},
   "source": [
    "# Загрузка и инициализация "
   ]
  },
  {
   "cell_type": "markdown",
   "metadata": {},
   "source": [
    "## Библиотеки"
   ]
  },
  {
   "cell_type": "code",
   "execution_count": 1,
   "metadata": {
    "_cell_guid": "b1076dfc-b9ad-4769-8c92-a6c4dae69d19",
    "_uuid": "8f2839f25d086af736a60e9eeb907d3b93b6e0e5",
    "execution": {
     "iopub.execute_input": "2021-06-16T11:14:30.935294Z",
     "iopub.status.busy": "2021-06-16T11:14:30.934619Z",
     "iopub.status.idle": "2021-06-16T11:14:30.957807Z",
     "shell.execute_reply": "2021-06-16T11:14:30.956873Z",
     "shell.execute_reply.started": "2021-06-16T11:14:30.935240Z"
    }
   },
   "outputs": [],
   "source": [
    "# Для преобразования и математических операций:\n",
    "import numpy as np # linear algebra\n",
    "import pandas as pd # data processing, CSV file I/O (e.g. pd.read_csv)\n",
    "from collections import Counter\n",
    "from datetime import datetime\n",
    "import re\n",
    "\n",
    "# Для визуализации:\n",
    "import seaborn as sns \n",
    "import matplotlib.pyplot as plt\n",
    "%matplotlib inline\n",
    "plt.rcParams['figure.figsize'] = (10,7)\n",
    "\n",
    "# Для разделения датасета:\n",
    "from sklearn.model_selection import train_test_split\n",
    "\n",
    "# Для загрузки файлов с пути \"../input/\".\n",
    "import os\n",
    "for dirname, _, filenames in os.walk('/kaggle/input'):\n",
    "    for filename in filenames:\n",
    "        print(os.path.join(dirname, filename))"
   ]
  },
  {
   "cell_type": "code",
   "execution_count": 2,
   "metadata": {
    "execution": {
     "iopub.execute_input": "2021-06-16T11:14:30.968975Z",
     "iopub.status.busy": "2021-06-16T11:14:30.968625Z",
     "iopub.status.idle": "2021-06-16T11:14:33.493175Z",
     "shell.execute_reply": "2021-06-16T11:14:33.492114Z",
     "shell.execute_reply.started": "2021-06-16T11:14:30.968915Z"
    }
   },
   "outputs": [],
   "source": [
    "# Фиксирую RANDOM_SEED, чтобы мои эксперименты можно было воспроизвести.\n",
    "RANDOM_SEED = 42\n",
    "\n",
    "# Фиксирую версию пакетов, чтобы эксперименты были воспроизводимы:\n",
    "!pip freeze > requirements.txt"
   ]
  },
  {
   "cell_type": "markdown",
   "metadata": {},
   "source": [
    "## Датасеты\n",
    "\n",
    "Загружаются следующие датасеты:\n",
    "1. **df_train** - дата о ресторанах, на котором тренирую модель. \n",
    "2. **df_test** - дата о ресторанах, на которых тестирую модель.\n",
    "3. **data** - объединенный df_train и df_test, который анализирую, чищу и дополняю информацией.\n",
    "4. **sample_submission** - дата для вставки предсказанных значений\n",
    "5. **cities**, **concap.csv**, **worlcities.csv** - датасеты о городах и странах, добавленные с kaggle дополнительно для создания новых признаков.\n"
   ]
  },
  {
   "cell_type": "markdown",
   "metadata": {},
   "source": [
    "### main_task.csv, kaggle_task.csv, sample_submission.csv \n",
    " Предоставленные датасеты, содержащие информацию о ресторанах. "
   ]
  },
  {
   "cell_type": "code",
   "execution_count": 3,
   "metadata": {
    "_cell_guid": "79c7e3d0-c299-4dcb-8224-4455121ee9b0",
    "_uuid": "d629ff2d2480ee46fbb7e2d37f6b5fab8052498a",
    "execution": {
     "iopub.execute_input": "2021-06-16T11:14:33.495332Z",
     "iopub.status.busy": "2021-06-16T11:14:33.495007Z",
     "iopub.status.idle": "2021-06-16T11:14:33.752513Z",
     "shell.execute_reply": "2021-06-16T11:14:33.751515Z",
     "shell.execute_reply.started": "2021-06-16T11:14:33.495276Z"
    }
   },
   "outputs": [],
   "source": [
    "df_train = pd.read_csv('main_task.csv')\n",
    "df_test = pd.read_csv('kaggle_task.csv')\n",
    "sample_submission = pd.read_csv('sample_submission.csv')"
   ]
  },
  {
   "cell_type": "code",
   "execution_count": 4,
   "metadata": {
    "execution": {
     "iopub.execute_input": "2021-06-16T11:14:33.754220Z",
     "iopub.status.busy": "2021-06-16T11:14:33.753935Z",
     "iopub.status.idle": "2021-06-16T11:14:33.761659Z",
     "shell.execute_reply": "2021-06-16T11:14:33.760417Z",
     "shell.execute_reply.started": "2021-06-16T11:14:33.754181Z"
    }
   },
   "outputs": [],
   "source": [
    "# Подвожу названия столбцов под стандарт PEP-8 \n",
    "for dataset in [df_train, df_test, sample_submission]:\n",
    "    dataset.columns = list(map(lambda x: (x.replace(' ', '_')).lower(), dataset.columns))"
   ]
  },
  {
   "cell_type": "code",
   "execution_count": 5,
   "metadata": {
    "execution": {
     "iopub.execute_input": "2021-06-16T11:14:33.763919Z",
     "iopub.status.busy": "2021-06-16T11:14:33.763401Z",
     "iopub.status.idle": "2021-06-16T11:14:33.810517Z",
     "shell.execute_reply": "2021-06-16T11:14:33.809521Z",
     "shell.execute_reply.started": "2021-06-16T11:14:33.763729Z"
    }
   },
   "outputs": [],
   "source": [
    "# Для корректной обработки признаков объединяю трейн и тест в один датасет\n",
    "df_train['sample'] = 1 # помечаем где у нас трейн\n",
    "df_test['sample'] = 0 # помечаем где у нас тест\n",
    "df_test['rating'] = 0 # в тесте у нас нет значения Rating, мы его должны предсказать, по этому пока просто заполняем нулями\n",
    "\n",
    "data = df_test.append(df_train, sort=False).reset_index(drop=True) # объединяем"
   ]
  },
  {
   "cell_type": "code",
   "execution_count": 6,
   "metadata": {
    "execution": {
     "iopub.execute_input": "2021-06-16T11:14:33.815128Z",
     "iopub.status.busy": "2021-06-16T11:14:33.814767Z",
     "iopub.status.idle": "2021-06-16T11:14:33.858361Z",
     "shell.execute_reply": "2021-06-16T11:14:33.857110Z",
     "shell.execute_reply.started": "2021-06-16T11:14:33.815071Z"
    }
   },
   "outputs": [
    {
     "name": "stdout",
     "output_type": "stream",
     "text": [
      "<class 'pandas.core.frame.DataFrame'>\n",
      "RangeIndex: 50000 entries, 0 to 49999\n",
      "Data columns (total 11 columns):\n",
      " #   Column             Non-Null Count  Dtype  \n",
      "---  ------             --------------  -----  \n",
      " 0   restaurant_id      50000 non-null  object \n",
      " 1   city               50000 non-null  object \n",
      " 2   cuisine_style      38410 non-null  object \n",
      " 3   ranking            50000 non-null  float64\n",
      " 4   price_range        32639 non-null  object \n",
      " 5   number_of_reviews  46800 non-null  float64\n",
      " 6   reviews            49998 non-null  object \n",
      " 7   url_ta             50000 non-null  object \n",
      " 8   id_ta              50000 non-null  object \n",
      " 9   sample             50000 non-null  int64  \n",
      " 10  rating             50000 non-null  float64\n",
      "dtypes: float64(3), int64(1), object(7)\n",
      "memory usage: 4.2+ MB\n"
     ]
    }
   ],
   "source": [
    "data.info()"
   ]
  },
  {
   "cell_type": "markdown",
   "metadata": {},
   "source": [
    "#### Разъяснение признаков\n",
    "* **city**: Город \n",
    "* **cuisine_style**: Кухня\n",
    "* **ranking**: Ранг ресторана относительно других ресторанов в этом городе\n",
    "* **price_range**: Цены в ресторане в 3 категориях\n",
    "* **number_of_reviews**: Количество отзывов\n",
    "* **reviews**: 2 последних отзыва и даты этих отзывов\n",
    "* **url_ta**: страница ресторана на 'www.tripadvisor.com' \n",
    "* **id_ta**: ID ресторана в TripAdvisor\n",
    "* **rating**: Рейтинг ресторана"
   ]
  },
  {
   "cell_type": "code",
   "execution_count": 7,
   "metadata": {
    "execution": {
     "iopub.execute_input": "2021-06-16T11:14:33.862598Z",
     "iopub.status.busy": "2021-06-16T11:14:33.862303Z",
     "iopub.status.idle": "2021-06-16T11:14:33.884566Z",
     "shell.execute_reply": "2021-06-16T11:14:33.883423Z",
     "shell.execute_reply.started": "2021-06-16T11:14:33.862550Z"
    }
   },
   "outputs": [
    {
     "data": {
      "text/html": [
       "<div>\n",
       "<style scoped>\n",
       "    .dataframe tbody tr th:only-of-type {\n",
       "        vertical-align: middle;\n",
       "    }\n",
       "\n",
       "    .dataframe tbody tr th {\n",
       "        vertical-align: top;\n",
       "    }\n",
       "\n",
       "    .dataframe thead th {\n",
       "        text-align: right;\n",
       "    }\n",
       "</style>\n",
       "<table border=\"1\" class=\"dataframe\">\n",
       "  <thead>\n",
       "    <tr style=\"text-align: right;\">\n",
       "      <th></th>\n",
       "      <th>restaurant_id</th>\n",
       "      <th>city</th>\n",
       "      <th>cuisine_style</th>\n",
       "      <th>ranking</th>\n",
       "      <th>price_range</th>\n",
       "      <th>number_of_reviews</th>\n",
       "      <th>reviews</th>\n",
       "      <th>url_ta</th>\n",
       "      <th>id_ta</th>\n",
       "      <th>sample</th>\n",
       "      <th>rating</th>\n",
       "    </tr>\n",
       "  </thead>\n",
       "  <tbody>\n",
       "    <tr>\n",
       "      <th>24987</th>\n",
       "      <td>id_54</td>\n",
       "      <td>Milan</td>\n",
       "      <td>['Italian', 'Seafood', 'Mediterranean', 'Europ...</td>\n",
       "      <td>55.0</td>\n",
       "      <td>$$$$</td>\n",
       "      <td>1225.0</td>\n",
       "      <td>[['Best restaurant I have been in Milan', 'Lov...</td>\n",
       "      <td>/Restaurant_Review-g187849-d3701379-Reviews-Al...</td>\n",
       "      <td>d3701379</td>\n",
       "      <td>1</td>\n",
       "      <td>4.5</td>\n",
       "    </tr>\n",
       "    <tr>\n",
       "      <th>23536</th>\n",
       "      <td>id_781</td>\n",
       "      <td>Warsaw</td>\n",
       "      <td>NaN</td>\n",
       "      <td>782.0</td>\n",
       "      <td>NaN</td>\n",
       "      <td>4.0</td>\n",
       "      <td>[[\"A truly great cocktail bar in Warsaw's Upp....</td>\n",
       "      <td>/Restaurant_Review-g274856-d12001843-Reviews-B...</td>\n",
       "      <td>d12001843</td>\n",
       "      <td>1</td>\n",
       "      <td>5.0</td>\n",
       "    </tr>\n",
       "    <tr>\n",
       "      <th>39138</th>\n",
       "      <td>id_844</td>\n",
       "      <td>Barcelona</td>\n",
       "      <td>['Gastropub', 'Brew Pub', 'Bar', 'Delicatessen...</td>\n",
       "      <td>845.0</td>\n",
       "      <td>$$ - $$$</td>\n",
       "      <td>116.0</td>\n",
       "      <td>[['CRAFT BEER', 'Epic chilled eatery'], ['10/0...</td>\n",
       "      <td>/Restaurant_Review-g187497-d9596644-Reviews-Ch...</td>\n",
       "      <td>d9596644</td>\n",
       "      <td>1</td>\n",
       "      <td>4.5</td>\n",
       "    </tr>\n",
       "    <tr>\n",
       "      <th>34555</th>\n",
       "      <td>id_589</td>\n",
       "      <td>Bratislava</td>\n",
       "      <td>NaN</td>\n",
       "      <td>590.0</td>\n",
       "      <td>NaN</td>\n",
       "      <td>NaN</td>\n",
       "      <td>[[], []]</td>\n",
       "      <td>/Restaurant_Review-g274924-d4770161-Reviews-Pa...</td>\n",
       "      <td>d4770161</td>\n",
       "      <td>1</td>\n",
       "      <td>4.0</td>\n",
       "    </tr>\n",
       "    <tr>\n",
       "      <th>48101</th>\n",
       "      <td>id_5971</td>\n",
       "      <td>Madrid</td>\n",
       "      <td>NaN</td>\n",
       "      <td>5974.0</td>\n",
       "      <td>NaN</td>\n",
       "      <td>3.0</td>\n",
       "      <td>[[], []]</td>\n",
       "      <td>/Restaurant_Review-g187514-d5866647-Reviews-CA...</td>\n",
       "      <td>d5866647</td>\n",
       "      <td>1</td>\n",
       "      <td>4.0</td>\n",
       "    </tr>\n",
       "  </tbody>\n",
       "</table>\n",
       "</div>"
      ],
      "text/plain": [
       "      restaurant_id        city  \\\n",
       "24987         id_54       Milan   \n",
       "23536        id_781      Warsaw   \n",
       "39138        id_844   Barcelona   \n",
       "34555        id_589  Bratislava   \n",
       "48101       id_5971      Madrid   \n",
       "\n",
       "                                           cuisine_style  ranking price_range  \\\n",
       "24987  ['Italian', 'Seafood', 'Mediterranean', 'Europ...     55.0        $$$$   \n",
       "23536                                                NaN    782.0         NaN   \n",
       "39138  ['Gastropub', 'Brew Pub', 'Bar', 'Delicatessen...    845.0    $$ - $$$   \n",
       "34555                                                NaN    590.0         NaN   \n",
       "48101                                                NaN   5974.0         NaN   \n",
       "\n",
       "       number_of_reviews                                            reviews  \\\n",
       "24987             1225.0  [['Best restaurant I have been in Milan', 'Lov...   \n",
       "23536                4.0  [[\"A truly great cocktail bar in Warsaw's Upp....   \n",
       "39138              116.0  [['CRAFT BEER', 'Epic chilled eatery'], ['10/0...   \n",
       "34555                NaN                                           [[], []]   \n",
       "48101                3.0                                           [[], []]   \n",
       "\n",
       "                                                  url_ta      id_ta  sample  \\\n",
       "24987  /Restaurant_Review-g187849-d3701379-Reviews-Al...   d3701379       1   \n",
       "23536  /Restaurant_Review-g274856-d12001843-Reviews-B...  d12001843       1   \n",
       "39138  /Restaurant_Review-g187497-d9596644-Reviews-Ch...   d9596644       1   \n",
       "34555  /Restaurant_Review-g274924-d4770161-Reviews-Pa...   d4770161       1   \n",
       "48101  /Restaurant_Review-g187514-d5866647-Reviews-CA...   d5866647       1   \n",
       "\n",
       "       rating  \n",
       "24987     4.5  \n",
       "23536     5.0  \n",
       "39138     4.5  \n",
       "34555     4.0  \n",
       "48101     4.0  "
      ]
     },
     "execution_count": 7,
     "metadata": {},
     "output_type": "execute_result"
    }
   ],
   "source": [
    "data.sample(5)"
   ]
  },
  {
   "cell_type": "markdown",
   "metadata": {},
   "source": [
    "### worldcities.csv\n",
    "Датасет для добавления таких признаков, как страна и популяция."
   ]
  },
  {
   "cell_type": "code",
   "execution_count": 8,
   "metadata": {
    "execution": {
     "iopub.execute_input": "2021-06-16T11:14:33.886556Z",
     "iopub.status.busy": "2021-06-16T11:14:33.886182Z",
     "iopub.status.idle": "2021-06-16T11:14:33.982888Z",
     "shell.execute_reply": "2021-06-16T11:14:33.981993Z",
     "shell.execute_reply.started": "2021-06-16T11:14:33.886487Z"
    }
   },
   "outputs": [
    {
     "data": {
      "text/html": [
       "<div>\n",
       "<style scoped>\n",
       "    .dataframe tbody tr th:only-of-type {\n",
       "        vertical-align: middle;\n",
       "    }\n",
       "\n",
       "    .dataframe tbody tr th {\n",
       "        vertical-align: top;\n",
       "    }\n",
       "\n",
       "    .dataframe thead th {\n",
       "        text-align: right;\n",
       "    }\n",
       "</style>\n",
       "<table border=\"1\" class=\"dataframe\">\n",
       "  <thead>\n",
       "    <tr style=\"text-align: right;\">\n",
       "      <th></th>\n",
       "      <th>country</th>\n",
       "      <th>population</th>\n",
       "    </tr>\n",
       "    <tr>\n",
       "      <th>city</th>\n",
       "      <th></th>\n",
       "      <th></th>\n",
       "    </tr>\n",
       "  </thead>\n",
       "  <tbody>\n",
       "    <tr>\n",
       "      <th>Elva</th>\n",
       "      <td>Estonia</td>\n",
       "      <td>5669.0</td>\n",
       "    </tr>\n",
       "    <tr>\n",
       "      <th>Tierra Blanca</th>\n",
       "      <td>Mexico</td>\n",
       "      <td>14515.0</td>\n",
       "    </tr>\n",
       "    <tr>\n",
       "      <th>Palmas</th>\n",
       "      <td>Brazil</td>\n",
       "      <td>272726.0</td>\n",
       "    </tr>\n",
       "    <tr>\n",
       "      <th>Stannington</th>\n",
       "      <td>United Kingdom</td>\n",
       "      <td>10747.0</td>\n",
       "    </tr>\n",
       "    <tr>\n",
       "      <th>Butler</th>\n",
       "      <td>United States</td>\n",
       "      <td>7654.0</td>\n",
       "    </tr>\n",
       "    <tr>\n",
       "      <th>Carahue</th>\n",
       "      <td>Chile</td>\n",
       "      <td>11875.0</td>\n",
       "    </tr>\n",
       "    <tr>\n",
       "      <th>Caribou</th>\n",
       "      <td>United States</td>\n",
       "      <td>7593.0</td>\n",
       "    </tr>\n",
       "    <tr>\n",
       "      <th>Knowle</th>\n",
       "      <td>United Kingdom</td>\n",
       "      <td>10678.0</td>\n",
       "    </tr>\n",
       "    <tr>\n",
       "      <th>New Cumberland</th>\n",
       "      <td>United States</td>\n",
       "      <td>7288.0</td>\n",
       "    </tr>\n",
       "    <tr>\n",
       "      <th>Lomas del Mirador</th>\n",
       "      <td>Argentina</td>\n",
       "      <td>71479.0</td>\n",
       "    </tr>\n",
       "  </tbody>\n",
       "</table>\n",
       "</div>"
      ],
      "text/plain": [
       "                          country  population\n",
       "city                                         \n",
       "Elva                      Estonia      5669.0\n",
       "Tierra Blanca              Mexico     14515.0\n",
       "Palmas                     Brazil    272726.0\n",
       "Stannington        United Kingdom     10747.0\n",
       "Butler              United States      7654.0\n",
       "Carahue                     Chile     11875.0\n",
       "Caribou             United States      7593.0\n",
       "Knowle             United Kingdom     10678.0\n",
       "New Cumberland      United States      7288.0\n",
       "Lomas del Mirador       Argentina     71479.0"
      ]
     },
     "execution_count": 8,
     "metadata": {},
     "output_type": "execute_result"
    }
   ],
   "source": [
    "cities = pd.read_csv('worldcities.csv')\n",
    "cities = cities[['city','country','population']].copy().set_index('city')\n",
    "cities.sample(10)"
   ]
  },
  {
   "cell_type": "markdown",
   "metadata": {},
   "source": [
    "### countries of the world.csv\n",
    "Датасет для добавления признаков о стране."
   ]
  },
  {
   "cell_type": "code",
   "execution_count": 9,
   "metadata": {
    "execution": {
     "iopub.execute_input": "2021-06-16T11:14:33.985133Z",
     "iopub.status.busy": "2021-06-16T11:14:33.984876Z",
     "iopub.status.idle": "2021-06-16T11:14:34.017178Z",
     "shell.execute_reply": "2021-06-16T11:14:34.016217Z",
     "shell.execute_reply.started": "2021-06-16T11:14:33.985097Z"
    }
   },
   "outputs": [
    {
     "data": {
      "text/html": [
       "<div>\n",
       "<style scoped>\n",
       "    .dataframe tbody tr th:only-of-type {\n",
       "        vertical-align: middle;\n",
       "    }\n",
       "\n",
       "    .dataframe tbody tr th {\n",
       "        vertical-align: top;\n",
       "    }\n",
       "\n",
       "    .dataframe thead th {\n",
       "        text-align: right;\n",
       "    }\n",
       "</style>\n",
       "<table border=\"1\" class=\"dataframe\">\n",
       "  <thead>\n",
       "    <tr style=\"text-align: right;\">\n",
       "      <th></th>\n",
       "      <th>coastline</th>\n",
       "      <th>gdp</th>\n",
       "      <th>phones</th>\n",
       "      <th>agriculture</th>\n",
       "      <th>service</th>\n",
       "    </tr>\n",
       "    <tr>\n",
       "      <th>country</th>\n",
       "      <th></th>\n",
       "      <th></th>\n",
       "      <th></th>\n",
       "      <th></th>\n",
       "      <th></th>\n",
       "    </tr>\n",
       "  </thead>\n",
       "  <tbody>\n",
       "    <tr>\n",
       "      <th>Macedonia</th>\n",
       "      <td>0,00</td>\n",
       "      <td>6700.0</td>\n",
       "      <td>260,0</td>\n",
       "      <td>0,118</td>\n",
       "      <td>0,563</td>\n",
       "    </tr>\n",
       "    <tr>\n",
       "      <th>Virgin Islands</th>\n",
       "      <td>9,84</td>\n",
       "      <td>17200.0</td>\n",
       "      <td>652,8</td>\n",
       "      <td>0,01</td>\n",
       "      <td>0,8</td>\n",
       "    </tr>\n",
       "    <tr>\n",
       "      <th>Azerbaijan</th>\n",
       "      <td>0,00</td>\n",
       "      <td>3400.0</td>\n",
       "      <td>137,1</td>\n",
       "      <td>0,141</td>\n",
       "      <td>0,402</td>\n",
       "    </tr>\n",
       "    <tr>\n",
       "      <th>Maldives</th>\n",
       "      <td>214,67</td>\n",
       "      <td>3900.0</td>\n",
       "      <td>90,0</td>\n",
       "      <td>0,2</td>\n",
       "      <td>0,62</td>\n",
       "    </tr>\n",
       "    <tr>\n",
       "      <th>Palau</th>\n",
       "      <td>331,66</td>\n",
       "      <td>9000.0</td>\n",
       "      <td>325,6</td>\n",
       "      <td>0,062</td>\n",
       "      <td>0,818</td>\n",
       "    </tr>\n",
       "    <tr>\n",
       "      <th>Slovakia</th>\n",
       "      <td>0,00</td>\n",
       "      <td>13300.0</td>\n",
       "      <td>220,1</td>\n",
       "      <td>0,035</td>\n",
       "      <td>0,672</td>\n",
       "    </tr>\n",
       "    <tr>\n",
       "      <th>Cape Verde</th>\n",
       "      <td>23,93</td>\n",
       "      <td>1400.0</td>\n",
       "      <td>169,6</td>\n",
       "      <td>0,121</td>\n",
       "      <td>0,66</td>\n",
       "    </tr>\n",
       "    <tr>\n",
       "      <th>Venezuela</th>\n",
       "      <td>0,31</td>\n",
       "      <td>4800.0</td>\n",
       "      <td>140,1</td>\n",
       "      <td>0,04</td>\n",
       "      <td>0,541</td>\n",
       "    </tr>\n",
       "    <tr>\n",
       "      <th>Fiji</th>\n",
       "      <td>6,18</td>\n",
       "      <td>5800.0</td>\n",
       "      <td>112,6</td>\n",
       "      <td>0,089</td>\n",
       "      <td>0,776</td>\n",
       "    </tr>\n",
       "    <tr>\n",
       "      <th>Bermuda</th>\n",
       "      <td>194,34</td>\n",
       "      <td>36000.0</td>\n",
       "      <td>851,4</td>\n",
       "      <td>0,01</td>\n",
       "      <td>0,89</td>\n",
       "    </tr>\n",
       "  </tbody>\n",
       "</table>\n",
       "</div>"
      ],
      "text/plain": [
       "               coastline      gdp phones agriculture service\n",
       "country                                                     \n",
       "Macedonia           0,00   6700.0  260,0       0,118   0,563\n",
       "Virgin Islands      9,84  17200.0  652,8        0,01     0,8\n",
       "Azerbaijan          0,00   3400.0  137,1       0,141   0,402\n",
       "Maldives          214,67   3900.0   90,0         0,2    0,62\n",
       "Palau             331,66   9000.0  325,6       0,062   0,818\n",
       "Slovakia            0,00  13300.0  220,1       0,035   0,672\n",
       "Cape Verde         23,93   1400.0  169,6       0,121    0,66\n",
       "Venezuela           0,31   4800.0  140,1        0,04   0,541\n",
       "Fiji                6,18   5800.0  112,6       0,089   0,776\n",
       "Bermuda           194,34  36000.0  851,4        0,01    0,89"
      ]
     },
     "execution_count": 9,
     "metadata": {},
     "output_type": "execute_result"
    }
   ],
   "source": [
    "countries = pd.read_csv('countries of the world.csv')\n",
    "countries = countries[['Country','Coastline (coast/area ratio)','GDP ($ per capita)','Phones (per 1000)','Agriculture', 'Service']].copy()\n",
    "countries.columns = ['country','coastline','gdp','phones','agriculture','service']\n",
    "countries = countries.set_index('country')\n",
    "countries.index = countries.index.str.strip()\n",
    "countries.sample(10)"
   ]
  },
  {
   "cell_type": "markdown",
   "metadata": {
    "execution": {
     "iopub.execute_input": "2021-05-29T05:58:59.50885Z",
     "iopub.status.busy": "2021-05-29T05:58:59.508546Z",
     "iopub.status.idle": "2021-05-29T05:58:59.512181Z",
     "shell.execute_reply": "2021-05-29T05:58:59.511517Z",
     "shell.execute_reply.started": "2021-05-29T05:58:59.508816Z"
    }
   },
   "source": [
    "### concap.csv\n",
    "Датасет для добавления признака столицы."
   ]
  },
  {
   "cell_type": "code",
   "execution_count": 10,
   "metadata": {
    "execution": {
     "iopub.execute_input": "2021-06-16T11:14:34.019117Z",
     "iopub.status.busy": "2021-06-16T11:14:34.018709Z",
     "iopub.status.idle": "2021-06-16T11:14:34.044659Z",
     "shell.execute_reply": "2021-06-16T11:14:34.043832Z",
     "shell.execute_reply.started": "2021-06-16T11:14:34.018997Z"
    }
   },
   "outputs": [
    {
     "data": {
      "text/html": [
       "<div>\n",
       "<style scoped>\n",
       "    .dataframe tbody tr th:only-of-type {\n",
       "        vertical-align: middle;\n",
       "    }\n",
       "\n",
       "    .dataframe tbody tr th {\n",
       "        vertical-align: top;\n",
       "    }\n",
       "\n",
       "    .dataframe thead th {\n",
       "        text-align: right;\n",
       "    }\n",
       "</style>\n",
       "<table border=\"1\" class=\"dataframe\">\n",
       "  <thead>\n",
       "    <tr style=\"text-align: right;\">\n",
       "      <th></th>\n",
       "      <th>capital</th>\n",
       "    </tr>\n",
       "    <tr>\n",
       "      <th>country</th>\n",
       "      <th></th>\n",
       "    </tr>\n",
       "  </thead>\n",
       "  <tbody>\n",
       "    <tr>\n",
       "      <th>Somaliland</th>\n",
       "      <td>Hargeisa</td>\n",
       "    </tr>\n",
       "    <tr>\n",
       "      <th>South Georgia and South Sandwich Islands</th>\n",
       "      <td>King Edward Point</td>\n",
       "    </tr>\n",
       "    <tr>\n",
       "      <th>French Southern and Antarctic Lands</th>\n",
       "      <td>Port-aux-Français</td>\n",
       "    </tr>\n",
       "    <tr>\n",
       "      <th>Palestine</th>\n",
       "      <td>Jerusalem</td>\n",
       "    </tr>\n",
       "    <tr>\n",
       "      <th>Aland Islands</th>\n",
       "      <td>Mariehamn</td>\n",
       "    </tr>\n",
       "    <tr>\n",
       "      <th>...</th>\n",
       "      <td>...</td>\n",
       "    </tr>\n",
       "    <tr>\n",
       "      <th>Northern Cyprus</th>\n",
       "      <td>North Nicosia</td>\n",
       "    </tr>\n",
       "    <tr>\n",
       "      <th>Hong Kong</th>\n",
       "      <td>NaN</td>\n",
       "    </tr>\n",
       "    <tr>\n",
       "      <th>Heard Island and McDonald Islands</th>\n",
       "      <td>NaN</td>\n",
       "    </tr>\n",
       "    <tr>\n",
       "      <th>British Indian Ocean Territory</th>\n",
       "      <td>Diego Garcia</td>\n",
       "    </tr>\n",
       "    <tr>\n",
       "      <th>Macau</th>\n",
       "      <td>NaN</td>\n",
       "    </tr>\n",
       "  </tbody>\n",
       "</table>\n",
       "<p>245 rows × 1 columns</p>\n",
       "</div>"
      ],
      "text/plain": [
       "                                                    capital\n",
       "country                                                    \n",
       "Somaliland                                         Hargeisa\n",
       "South Georgia and South Sandwich Islands  King Edward Point\n",
       "French Southern and Antarctic Lands       Port-aux-Français\n",
       "Palestine                                         Jerusalem\n",
       "Aland Islands                                     Mariehamn\n",
       "...                                                     ...\n",
       "Northern Cyprus                               North Nicosia\n",
       "Hong Kong                                               NaN\n",
       "Heard Island and McDonald Islands                       NaN\n",
       "British Indian Ocean Territory                 Diego Garcia\n",
       "Macau                                                   NaN\n",
       "\n",
       "[245 rows x 1 columns]"
      ]
     },
     "execution_count": 10,
     "metadata": {},
     "output_type": "execute_result"
    }
   ],
   "source": [
    "capitals = pd.read_csv('concap.csv')\n",
    "capitals = capitals[['CountryName','CapitalName']]\n",
    "capitals.columns  = ['country', 'capital']\n",
    "capitals = capitals.set_index('country')\n",
    "capitals.index = capitals.index.str.strip()\n",
    "capitals"
   ]
  },
  {
   "cell_type": "markdown",
   "metadata": {},
   "source": [
    "# Предобработка данных и РАД\n",
    "\n",
    "<!-- ![](https://analyticsindiamag.com/wp-content/uploads/2018/01/data-cleaning.png) -->"
   ]
  },
  {
   "cell_type": "markdown",
   "metadata": {},
   "source": [
    "## Кастомные функции "
   ]
  },
  {
   "cell_type": "code",
   "execution_count": 11,
   "metadata": {
    "execution": {
     "iopub.execute_input": "2021-06-16T11:14:34.046386Z",
     "iopub.status.busy": "2021-06-16T11:14:34.045981Z",
     "iopub.status.idle": "2021-06-16T11:14:34.058262Z",
     "shell.execute_reply": "2021-06-16T11:14:34.057051Z",
     "shell.execute_reply.started": "2021-06-16T11:14:34.046315Z"
    }
   },
   "outputs": [],
   "source": [
    "# Найти самый часто встречающийся вид кухни по странам или городам. \n",
    "def common_cuisine(data, name, by_country = True):\n",
    "    x = 'country' if by_country else 'city'\n",
    "    \n",
    "    stats = data[data[x] == name]['cuisine_style'].value_counts()\n",
    "    cuisine1 = stats.index[0]\n",
    "    perc = round(100 * stats.iloc[0]/(stats.iloc[0] + stats.iloc[1] + stats.iloc[2]))\n",
    "    \n",
    "    cuisine2 = stats.index[1]\n",
    "    perc2 = round(100 * stats.iloc[1]/(stats.iloc[0] + stats.iloc[1] + stats.iloc[2]))\n",
    "    \n",
    "    cuisine = stats.index[0] + ', ' + stats.index[1]\n",
    "    \n",
    "    print(name)\n",
    "    print('\\t '  + ' ' + str(perc) + '%\\t' + cuisine1)\n",
    "    print('\\t '  + ' ' + str(perc2) + '%\\t' + cuisine2)\n",
    "    pop_c1.append(cuisine1)\n",
    "    prc_c1.append(perc)\n",
    "    pop_c2.append(cuisine2)\n",
    "    prc_c2.append(perc2)\n",
    "    \n",
    "    return cuisine "
   ]
  },
  {
   "cell_type": "code",
   "execution_count": 12,
   "metadata": {
    "execution": {
     "iopub.execute_input": "2021-06-16T11:14:34.060834Z",
     "iopub.status.busy": "2021-06-16T11:14:34.060343Z",
     "iopub.status.idle": "2021-06-16T11:14:34.073993Z",
     "shell.execute_reply": "2021-06-16T11:14:34.073056Z",
     "shell.execute_reply.started": "2021-06-16T11:14:34.060761Z"
    }
   },
   "outputs": [],
   "source": [
    "# Певести входящие строки в формат даты.\n",
    "def to_date(*args):\n",
    "    res = list(map(lambda i: pd.to_datetime(i).date(), args)) \n",
    "    if len(res) == 0: \n",
    "        return None \n",
    "    else:\n",
    "        return res"
   ]
  },
  {
   "cell_type": "code",
   "execution_count": 13,
   "metadata": {
    "execution": {
     "iopub.execute_input": "2021-06-16T11:14:34.075966Z",
     "iopub.status.busy": "2021-06-16T11:14:34.075574Z",
     "iopub.status.idle": "2021-06-16T11:14:34.086318Z",
     "shell.execute_reply": "2021-06-16T11:14:34.085295Z",
     "shell.execute_reply.started": "2021-06-16T11:14:34.075892Z"
    }
   },
   "outputs": [],
   "source": [
    "# Вычислить разницу в количестве днях между двумя входящими  датами. \n",
    "def calculate_diff(*args):\n",
    "    try:\n",
    "        res = args[0] - args[1]\n",
    "        return  abs(res.days)\n",
    "    except:\n",
    "        return 0"
   ]
  },
  {
   "cell_type": "markdown",
   "metadata": {},
   "source": [
    "## Обработка неизвестных значений NaN и создание новых признаков\n",
    "### Перед обработкой NAN  выношу информацию о наличии пропусков как отдельный признак.  "
   ]
  },
  {
   "cell_type": "code",
   "execution_count": 14,
   "metadata": {
    "execution": {
     "iopub.execute_input": "2021-06-16T11:14:34.088465Z",
     "iopub.status.busy": "2021-06-16T11:14:34.088013Z",
     "iopub.status.idle": "2021-06-16T11:14:34.133594Z",
     "shell.execute_reply": "2021-06-16T11:14:34.132284Z",
     "shell.execute_reply.started": "2021-06-16T11:14:34.088390Z"
    }
   },
   "outputs": [
    {
     "data": {
      "text/plain": [
       "Index(['cuisine_style', 'price_range', 'number_of_reviews', 'reviews'], dtype='object')"
      ]
     },
     "execution_count": 14,
     "metadata": {},
     "output_type": "execute_result"
    }
   ],
   "source": [
    "# Найти столбцы с неизвестными значениями\n",
    "cols_with_nans = (data.isnull().any()[lambda c: c]).index\n",
    "cols_with_nans"
   ]
  },
  {
   "cell_type": "code",
   "execution_count": 15,
   "metadata": {
    "execution": {
     "iopub.execute_input": "2021-06-16T11:14:34.135952Z",
     "iopub.status.busy": "2021-06-16T11:14:34.135504Z",
     "iopub.status.idle": "2021-06-16T11:14:34.162230Z",
     "shell.execute_reply": "2021-06-16T11:14:34.161373Z",
     "shell.execute_reply.started": "2021-06-16T11:14:34.135874Z"
    }
   },
   "outputs": [],
   "source": [
    "# Создать новый бинарный признак для каждого столбца с неизвестными значениями о наличии пропусков.\n",
    "for col in cols_with_nans:\n",
    "    new_col_name = col+'_isNAN'\n",
    "    data[new_col_name] = pd.isna(data[col]).astype('uint8')"
   ]
  },
  {
   "cell_type": "markdown",
   "metadata": {},
   "source": [
    "### Разбор столбцов с NaN по отдельности: замена NaN значений и создание взаимосвязанных новых признаков. \n",
    "Неизвестные значения имеются в стобцах **cuisine_style**, **price_range**, **number_of_reviews** и **reviews**. Рассматриваю каждый из них по отдельности. Также, дополнительно создаю новые признаки такие, как **country**, **population**, **cuisine_count**. "
   ]
  },
  {
   "cell_type": "markdown",
   "metadata": {},
   "source": [
    "#### Признак cuisine_style и новые признаки country и population\n",
    "\n",
    "**23% (11590) неизвестных значений** \n",
    "\n",
    "1. В данном столбце каждая ячейка - строка, хоть и кажется, что в ней находится лист со строками. Преобразую формат ячеек из строки в настоящий лист со строками. \n",
    "\n",
    "2. Визуализирую популярность всех представленных в датасете кухонь. Самые популярные кухни по всему датасету ***Vegetarian Friendly*** (11.7%) и ***European*** (10.5%). "
   ]
  },
  {
   "cell_type": "code",
   "execution_count": 16,
   "metadata": {
    "execution": {
     "iopub.execute_input": "2021-06-16T11:14:34.164526Z",
     "iopub.status.busy": "2021-06-16T11:14:34.164154Z",
     "iopub.status.idle": "2021-06-16T11:14:34.179971Z",
     "shell.execute_reply": "2021-06-16T11:14:34.178777Z",
     "shell.execute_reply.started": "2021-06-16T11:14:34.164460Z"
    }
   },
   "outputs": [
    {
     "name": "stdout",
     "output_type": "stream",
     "text": [
      "False    38410\n",
      "True     11590\n",
      "Name: cuisine_style, dtype: int64\n",
      "23.18\n"
     ]
    }
   ],
   "source": [
    "# Посчитать процентное соотношение неизвестных значений. \n",
    "stats = data['cuisine_style'].isnull().value_counts()\n",
    "print(stats)\n",
    "print(100 * stats[1]/(stats[0]+ stats[1]))"
   ]
  },
  {
   "cell_type": "code",
   "execution_count": 17,
   "metadata": {
    "execution": {
     "iopub.execute_input": "2021-06-16T11:14:34.181757Z",
     "iopub.status.busy": "2021-06-16T11:14:34.181503Z",
     "iopub.status.idle": "2021-06-16T11:14:34.196609Z",
     "shell.execute_reply": "2021-06-16T11:14:34.195509Z",
     "shell.execute_reply.started": "2021-06-16T11:14:34.181721Z"
    }
   },
   "outputs": [
    {
     "data": {
      "text/html": [
       "<div>\n",
       "<style scoped>\n",
       "    .dataframe tbody tr th:only-of-type {\n",
       "        vertical-align: middle;\n",
       "    }\n",
       "\n",
       "    .dataframe tbody tr th {\n",
       "        vertical-align: top;\n",
       "    }\n",
       "\n",
       "    .dataframe thead th {\n",
       "        text-align: right;\n",
       "    }\n",
       "</style>\n",
       "<table border=\"1\" class=\"dataframe\">\n",
       "  <thead>\n",
       "    <tr style=\"text-align: right;\">\n",
       "      <th></th>\n",
       "      <th>cuisine_style</th>\n",
       "    </tr>\n",
       "  </thead>\n",
       "  <tbody>\n",
       "    <tr>\n",
       "      <th>0</th>\n",
       "      <td>['Bar', 'Pub']</td>\n",
       "    </tr>\n",
       "    <tr>\n",
       "      <th>1</th>\n",
       "      <td>['European', 'Scandinavian', 'Gluten Free Opti...</td>\n",
       "    </tr>\n",
       "    <tr>\n",
       "      <th>2</th>\n",
       "      <td>['Vegetarian Friendly']</td>\n",
       "    </tr>\n",
       "    <tr>\n",
       "      <th>3</th>\n",
       "      <td>['Italian', 'Mediterranean', 'European', 'Vege...</td>\n",
       "    </tr>\n",
       "    <tr>\n",
       "      <th>4</th>\n",
       "      <td>['Italian', 'Mediterranean', 'European', 'Seaf...</td>\n",
       "    </tr>\n",
       "    <tr>\n",
       "      <th>...</th>\n",
       "      <td>...</td>\n",
       "    </tr>\n",
       "    <tr>\n",
       "      <th>49995</th>\n",
       "      <td>['Italian', 'Vegetarian Friendly', 'Vegan Opti...</td>\n",
       "    </tr>\n",
       "    <tr>\n",
       "      <th>49996</th>\n",
       "      <td>['French', 'American', 'Bar', 'European', 'Veg...</td>\n",
       "    </tr>\n",
       "    <tr>\n",
       "      <th>49997</th>\n",
       "      <td>['Japanese', 'Sushi']</td>\n",
       "    </tr>\n",
       "    <tr>\n",
       "      <th>49998</th>\n",
       "      <td>['Polish', 'European', 'Eastern European', 'Ce...</td>\n",
       "    </tr>\n",
       "    <tr>\n",
       "      <th>49999</th>\n",
       "      <td>['Spanish']</td>\n",
       "    </tr>\n",
       "  </tbody>\n",
       "</table>\n",
       "<p>50000 rows × 1 columns</p>\n",
       "</div>"
      ],
      "text/plain": [
       "                                           cuisine_style\n",
       "0                                         ['Bar', 'Pub']\n",
       "1      ['European', 'Scandinavian', 'Gluten Free Opti...\n",
       "2                                ['Vegetarian Friendly']\n",
       "3      ['Italian', 'Mediterranean', 'European', 'Vege...\n",
       "4      ['Italian', 'Mediterranean', 'European', 'Seaf...\n",
       "...                                                  ...\n",
       "49995  ['Italian', 'Vegetarian Friendly', 'Vegan Opti...\n",
       "49996  ['French', 'American', 'Bar', 'European', 'Veg...\n",
       "49997                              ['Japanese', 'Sushi']\n",
       "49998  ['Polish', 'European', 'Eastern European', 'Ce...\n",
       "49999                                        ['Spanish']\n",
       "\n",
       "[50000 rows x 1 columns]"
      ]
     },
     "execution_count": 17,
     "metadata": {},
     "output_type": "execute_result"
    }
   ],
   "source": [
    "df = pd.DataFrame(data['cuisine_style'])\n",
    "df"
   ]
  },
  {
   "cell_type": "code",
   "execution_count": 18,
   "metadata": {
    "execution": {
     "iopub.execute_input": "2021-06-16T11:14:34.198141Z",
     "iopub.status.busy": "2021-06-16T11:14:34.197849Z",
     "iopub.status.idle": "2021-06-16T11:14:34.343174Z",
     "shell.execute_reply": "2021-06-16T11:14:34.342220Z",
     "shell.execute_reply.started": "2021-06-16T11:14:34.198094Z"
    }
   },
   "outputs": [
    {
     "data": {
      "text/plain": [
       "['Bar', 'Pub']"
      ]
     },
     "execution_count": 18,
     "metadata": {},
     "output_type": "execute_result"
    }
   ],
   "source": [
    "# Привести формат ячейки из формата строки в формат листа, состоящего из строк.\n",
    "df['cuisine_style'] = df['cuisine_style'].str.strip('[]')\n",
    "df['cuisine_style'] = df['cuisine_style'].str.replace('\\'','')\n",
    "data['cuisine_style'] = df['cuisine_style'].str.split(', ')\n",
    "data['cuisine_style'].iloc[0] "
   ]
  },
  {
   "cell_type": "code",
   "execution_count": 19,
   "metadata": {
    "execution": {
     "iopub.execute_input": "2021-06-16T11:14:34.344694Z",
     "iopub.status.busy": "2021-06-16T11:14:34.344456Z",
     "iopub.status.idle": "2021-06-16T11:14:35.974272Z",
     "shell.execute_reply": "2021-06-16T11:14:35.973226Z",
     "shell.execute_reply.started": "2021-06-16T11:14:34.344659Z"
    }
   },
   "outputs": [],
   "source": [
    "# Найти самый часто встречающийся вид кухни. \n",
    "all_cuisine = ''\n",
    "\n",
    "for x in list(df['cuisine_style'].dropna()):\n",
    "    all_cuisine = all_cuisine + x + ', '\n",
    "\n",
    "all_cuisine = all_cuisine.split(', ')\n",
    "all_cuisine = pd.DataFrame.from_dict(Counter(all_cuisine), orient='index').reset_index()\n",
    "all_cuisine.columns = ['name', 'count']\n",
    "all_cuisine.drop(all_cuisine[all_cuisine.name == ''].index, inplace = True)"
   ]
  },
  {
   "cell_type": "code",
   "execution_count": 20,
   "metadata": {
    "execution": {
     "iopub.execute_input": "2021-06-16T11:14:35.975639Z",
     "iopub.status.busy": "2021-06-16T11:14:35.975419Z",
     "iopub.status.idle": "2021-06-16T11:14:36.347248Z",
     "shell.execute_reply": "2021-06-16T11:14:36.345953Z",
     "shell.execute_reply.started": "2021-06-16T11:14:35.975606Z"
    }
   },
   "outputs": [
    {
     "data": {
      "image/png": "[encoded data removed]",
      "text/plain": [
       "<Figure size 720x504 with 1 Axes>"
      ]
     },
     "metadata": {
      "needs_background": "light"
     },
     "output_type": "display_data"
    }
   ],
   "source": [
    "all_cuisine['perc'] = round(all_cuisine['count'] * 100/all_cuisine['count'].sum(),1)\n",
    "stats = all_cuisine.sort_values(['count'], ascending = False).head(10)\n",
    "\n",
    "plot = stats.set_index('name').plot.bar(title='Самые популярные виды кухни')\n",
    "\n",
    "for p, perc in zip(plot.patches,list(stats['perc'])):\n",
    "    plot.annotate(str(perc)+'%', (p.get_x() , p.get_height()), color='orange')"
   ]
  },
  {
   "cell_type": "markdown",
   "metadata": {},
   "source": [
    "Прежде чем заполнить неизвестные значения, использую другой датасет, чтобы добавить новый признак **country**. Затем, сгруппировав по признаку **city** или **country**, заполняю неизвестные значение в **cuisine_style**."
   ]
  },
  {
   "cell_type": "code",
   "execution_count": 21,
   "metadata": {
    "execution": {
     "iopub.execute_input": "2021-06-16T11:14:36.349763Z",
     "iopub.status.busy": "2021-06-16T11:14:36.349162Z",
     "iopub.status.idle": "2021-06-16T11:14:36.369917Z",
     "shell.execute_reply": "2021-06-16T11:14:36.368608Z",
     "shell.execute_reply.started": "2021-06-16T11:14:36.349691Z"
    }
   },
   "outputs": [],
   "source": [
    "# Создать новый признак country в датасете. \n",
    "data['country'] = pd.Series(np.array([None]*data.shape[0]))"
   ]
  },
  {
   "cell_type": "code",
   "execution_count": 22,
   "metadata": {
    "execution": {
     "iopub.execute_input": "2021-06-16T11:14:36.372477Z",
     "iopub.status.busy": "2021-06-16T11:14:36.371740Z",
     "iopub.status.idle": "2021-06-16T11:14:36.925785Z",
     "shell.execute_reply": "2021-06-16T11:14:36.924733Z",
     "shell.execute_reply.started": "2021-06-16T11:14:36.372402Z"
    }
   },
   "outputs": [],
   "source": [
    "# Заполнить значение country в главном датасете с помощью датасета о городах. \n",
    "for name in data.city.unique():\n",
    "    if name in cities.index:\n",
    "        try:\n",
    "            data.loc[(data.city == name), 'country'] = cities.loc[name].country\n",
    "        except:\n",
    "            data.loc[(data.city  == name), 'country'] = cities.loc[name].country.values[0]"
   ]
  },
  {
   "cell_type": "code",
   "execution_count": 23,
   "metadata": {
    "execution": {
     "iopub.execute_input": "2021-06-16T11:14:36.928846Z",
     "iopub.status.busy": "2021-06-16T11:14:36.928406Z",
     "iopub.status.idle": "2021-06-16T11:14:36.975602Z",
     "shell.execute_reply": "2021-06-16T11:14:36.974648Z",
     "shell.execute_reply.started": "2021-06-16T11:14:36.928769Z"
    }
   },
   "outputs": [
    {
     "data": {
      "text/html": [
       "<div>\n",
       "<style scoped>\n",
       "    .dataframe tbody tr th:only-of-type {\n",
       "        vertical-align: middle;\n",
       "    }\n",
       "\n",
       "    .dataframe tbody tr th {\n",
       "        vertical-align: top;\n",
       "    }\n",
       "\n",
       "    .dataframe thead th {\n",
       "        text-align: right;\n",
       "    }\n",
       "</style>\n",
       "<table border=\"1\" class=\"dataframe\">\n",
       "  <thead>\n",
       "    <tr style=\"text-align: right;\">\n",
       "      <th></th>\n",
       "      <th>restaurant_id</th>\n",
       "      <th>city</th>\n",
       "      <th>cuisine_style</th>\n",
       "      <th>ranking</th>\n",
       "      <th>price_range</th>\n",
       "      <th>number_of_reviews</th>\n",
       "      <th>reviews</th>\n",
       "      <th>url_ta</th>\n",
       "      <th>id_ta</th>\n",
       "      <th>sample</th>\n",
       "      <th>rating</th>\n",
       "      <th>cuisine_style_isNAN</th>\n",
       "      <th>price_range_isNAN</th>\n",
       "      <th>number_of_reviews_isNAN</th>\n",
       "      <th>reviews_isNAN</th>\n",
       "      <th>country</th>\n",
       "    </tr>\n",
       "  </thead>\n",
       "  <tbody>\n",
       "    <tr>\n",
       "      <th>66</th>\n",
       "      <td>id_66</td>\n",
       "      <td>Oporto</td>\n",
       "      <td>NaN</td>\n",
       "      <td>878.0</td>\n",
       "      <td>NaN</td>\n",
       "      <td>7.0</td>\n",
       "      <td>[[], []]</td>\n",
       "      <td>/Restaurant_Review-g189180-d11667248-Reviews-C...</td>\n",
       "      <td>d11667248</td>\n",
       "      <td>0</td>\n",
       "      <td>0.0</td>\n",
       "      <td>1</td>\n",
       "      <td>1</td>\n",
       "      <td>0</td>\n",
       "      <td>0</td>\n",
       "      <td>None</td>\n",
       "    </tr>\n",
       "    <tr>\n",
       "      <th>84</th>\n",
       "      <td>id_84</td>\n",
       "      <td>Krakow</td>\n",
       "      <td>[Polish, Eastern European, European, Central E...</td>\n",
       "      <td>251.0</td>\n",
       "      <td>$$ - $$$</td>\n",
       "      <td>95.0</td>\n",
       "      <td>[['The right choice', 'Excellent Polish cuisin...</td>\n",
       "      <td>/Restaurant_Review-g274772-d3331669-Reviews-Go...</td>\n",
       "      <td>d3331669</td>\n",
       "      <td>0</td>\n",
       "      <td>0.0</td>\n",
       "      <td>0</td>\n",
       "      <td>0</td>\n",
       "      <td>0</td>\n",
       "      <td>0</td>\n",
       "      <td>None</td>\n",
       "    </tr>\n",
       "    <tr>\n",
       "      <th>124</th>\n",
       "      <td>id_124</td>\n",
       "      <td>Krakow</td>\n",
       "      <td>NaN</td>\n",
       "      <td>936.0</td>\n",
       "      <td>NaN</td>\n",
       "      <td>6.0</td>\n",
       "      <td>[[], []]</td>\n",
       "      <td>/Restaurant_Review-g274772-d10455057-Reviews-R...</td>\n",
       "      <td>d10455057</td>\n",
       "      <td>0</td>\n",
       "      <td>0.0</td>\n",
       "      <td>1</td>\n",
       "      <td>1</td>\n",
       "      <td>0</td>\n",
       "      <td>0</td>\n",
       "      <td>None</td>\n",
       "    </tr>\n",
       "    <tr>\n",
       "      <th>128</th>\n",
       "      <td>id_128</td>\n",
       "      <td>Zurich</td>\n",
       "      <td>NaN</td>\n",
       "      <td>1592.0</td>\n",
       "      <td>NaN</td>\n",
       "      <td>14.0</td>\n",
       "      <td>[['Cordon Bleu'], ['10/02/2014']]</td>\n",
       "      <td>/Restaurant_Review-g188113-d4961508-Reviews-Re...</td>\n",
       "      <td>d4961508</td>\n",
       "      <td>0</td>\n",
       "      <td>0.0</td>\n",
       "      <td>1</td>\n",
       "      <td>1</td>\n",
       "      <td>0</td>\n",
       "      <td>0</td>\n",
       "      <td>None</td>\n",
       "    </tr>\n",
       "    <tr>\n",
       "      <th>144</th>\n",
       "      <td>id_144</td>\n",
       "      <td>Zurich</td>\n",
       "      <td>[Swiss, European, Central European]</td>\n",
       "      <td>1101.0</td>\n",
       "      <td>$$ - $$$</td>\n",
       "      <td>99.0</td>\n",
       "      <td>[['Nice atmosphere', 'Good views, but medium f...</td>\n",
       "      <td>/Restaurant_Review-g188113-d2013573-Reviews-Al...</td>\n",
       "      <td>d2013573</td>\n",
       "      <td>0</td>\n",
       "      <td>0.0</td>\n",
       "      <td>0</td>\n",
       "      <td>0</td>\n",
       "      <td>0</td>\n",
       "      <td>0</td>\n",
       "      <td>None</td>\n",
       "    </tr>\n",
       "    <tr>\n",
       "      <th>...</th>\n",
       "      <td>...</td>\n",
       "      <td>...</td>\n",
       "      <td>...</td>\n",
       "      <td>...</td>\n",
       "      <td>...</td>\n",
       "      <td>...</td>\n",
       "      <td>...</td>\n",
       "      <td>...</td>\n",
       "      <td>...</td>\n",
       "      <td>...</td>\n",
       "      <td>...</td>\n",
       "      <td>...</td>\n",
       "      <td>...</td>\n",
       "      <td>...</td>\n",
       "      <td>...</td>\n",
       "      <td>...</td>\n",
       "    </tr>\n",
       "    <tr>\n",
       "      <th>49825</th>\n",
       "      <td>id_433</td>\n",
       "      <td>Zurich</td>\n",
       "      <td>[Mediterranean, Swiss, European, Vegetarian Fr...</td>\n",
       "      <td>436.0</td>\n",
       "      <td>$$ - $$$</td>\n",
       "      <td>33.0</td>\n",
       "      <td>[['Hammer!', 'Favourite!'], ['11/15/2017', '10...</td>\n",
       "      <td>/Restaurant_Review-g188113-d10124292-Reviews-S...</td>\n",
       "      <td>d10124292</td>\n",
       "      <td>1</td>\n",
       "      <td>4.5</td>\n",
       "      <td>0</td>\n",
       "      <td>0</td>\n",
       "      <td>0</td>\n",
       "      <td>0</td>\n",
       "      <td>None</td>\n",
       "    </tr>\n",
       "    <tr>\n",
       "      <th>49852</th>\n",
       "      <td>id_360</td>\n",
       "      <td>Zurich</td>\n",
       "      <td>[Chinese, Fast Food, Asian, Vegetarian Friendly]</td>\n",
       "      <td>362.0</td>\n",
       "      <td>$</td>\n",
       "      <td>41.0</td>\n",
       "      <td>[['Superb Take away place', 'Super good'], ['0...</td>\n",
       "      <td>/Restaurant_Review-g227102-d6675094-Reviews-Ch...</td>\n",
       "      <td>d6675094</td>\n",
       "      <td>1</td>\n",
       "      <td>4.5</td>\n",
       "      <td>0</td>\n",
       "      <td>0</td>\n",
       "      <td>0</td>\n",
       "      <td>0</td>\n",
       "      <td>None</td>\n",
       "    </tr>\n",
       "    <tr>\n",
       "      <th>49873</th>\n",
       "      <td>id_430</td>\n",
       "      <td>Oporto</td>\n",
       "      <td>[European, Portuguese]</td>\n",
       "      <td>431.0</td>\n",
       "      <td>$</td>\n",
       "      <td>65.0</td>\n",
       "      <td>[['yummy and huge francesinha', 'The best fran...</td>\n",
       "      <td>/Restaurant_Review-g189180-d10146257-Reviews-A...</td>\n",
       "      <td>d10146257</td>\n",
       "      <td>1</td>\n",
       "      <td>4.0</td>\n",
       "      <td>0</td>\n",
       "      <td>0</td>\n",
       "      <td>0</td>\n",
       "      <td>0</td>\n",
       "      <td>None</td>\n",
       "    </tr>\n",
       "    <tr>\n",
       "      <th>49895</th>\n",
       "      <td>id_871</td>\n",
       "      <td>Oporto</td>\n",
       "      <td>[Bar, European, Pub, Portuguese]</td>\n",
       "      <td>872.0</td>\n",
       "      <td>$</td>\n",
       "      <td>141.0</td>\n",
       "      <td>[['Football on TV', 'Nice place for a glass of...</td>\n",
       "      <td>/Restaurant_Review-g189180-d7315906-Reviews-Cr...</td>\n",
       "      <td>d7315906</td>\n",
       "      <td>1</td>\n",
       "      <td>3.5</td>\n",
       "      <td>0</td>\n",
       "      <td>0</td>\n",
       "      <td>0</td>\n",
       "      <td>0</td>\n",
       "      <td>None</td>\n",
       "    </tr>\n",
       "    <tr>\n",
       "      <th>49990</th>\n",
       "      <td>id_1187</td>\n",
       "      <td>Oporto</td>\n",
       "      <td>[European, Portuguese]</td>\n",
       "      <td>1188.0</td>\n",
       "      <td>NaN</td>\n",
       "      <td>14.0</td>\n",
       "      <td>[['Traditional \"home cooked\" food for an \"eco....</td>\n",
       "      <td>/Restaurant_Review-g189180-d3612719-Reviews-D_...</td>\n",
       "      <td>d3612719</td>\n",
       "      <td>1</td>\n",
       "      <td>4.5</td>\n",
       "      <td>0</td>\n",
       "      <td>1</td>\n",
       "      <td>0</td>\n",
       "      <td>0</td>\n",
       "      <td>None</td>\n",
       "    </tr>\n",
       "  </tbody>\n",
       "</table>\n",
       "<p>1881 rows × 16 columns</p>\n",
       "</div>"
      ],
      "text/plain": [
       "      restaurant_id    city  \\\n",
       "66            id_66  Oporto   \n",
       "84            id_84  Krakow   \n",
       "124          id_124  Krakow   \n",
       "128          id_128  Zurich   \n",
       "144          id_144  Zurich   \n",
       "...             ...     ...   \n",
       "49825        id_433  Zurich   \n",
       "49852        id_360  Zurich   \n",
       "49873        id_430  Oporto   \n",
       "49895        id_871  Oporto   \n",
       "49990       id_1187  Oporto   \n",
       "\n",
       "                                           cuisine_style  ranking price_range  \\\n",
       "66                                                   NaN    878.0         NaN   \n",
       "84     [Polish, Eastern European, European, Central E...    251.0    $$ - $$$   \n",
       "124                                                  NaN    936.0         NaN   \n",
       "128                                                  NaN   1592.0         NaN   \n",
       "144                  [Swiss, European, Central European]   1101.0    $$ - $$$   \n",
       "...                                                  ...      ...         ...   \n",
       "49825  [Mediterranean, Swiss, European, Vegetarian Fr...    436.0    $$ - $$$   \n",
       "49852   [Chinese, Fast Food, Asian, Vegetarian Friendly]    362.0           $   \n",
       "49873                             [European, Portuguese]    431.0           $   \n",
       "49895                   [Bar, European, Pub, Portuguese]    872.0           $   \n",
       "49990                             [European, Portuguese]   1188.0         NaN   \n",
       "\n",
       "       number_of_reviews                                            reviews  \\\n",
       "66                   7.0                                           [[], []]   \n",
       "84                  95.0  [['The right choice', 'Excellent Polish cuisin...   \n",
       "124                  6.0                                           [[], []]   \n",
       "128                 14.0                  [['Cordon Bleu'], ['10/02/2014']]   \n",
       "144                 99.0  [['Nice atmosphere', 'Good views, but medium f...   \n",
       "...                  ...                                                ...   \n",
       "49825               33.0  [['Hammer!', 'Favourite!'], ['11/15/2017', '10...   \n",
       "49852               41.0  [['Superb Take away place', 'Super good'], ['0...   \n",
       "49873               65.0  [['yummy and huge francesinha', 'The best fran...   \n",
       "49895              141.0  [['Football on TV', 'Nice place for a glass of...   \n",
       "49990               14.0  [['Traditional \"home cooked\" food for an \"eco....   \n",
       "\n",
       "                                                  url_ta      id_ta  sample  \\\n",
       "66     /Restaurant_Review-g189180-d11667248-Reviews-C...  d11667248       0   \n",
       "84     /Restaurant_Review-g274772-d3331669-Reviews-Go...   d3331669       0   \n",
       "124    /Restaurant_Review-g274772-d10455057-Reviews-R...  d10455057       0   \n",
       "128    /Restaurant_Review-g188113-d4961508-Reviews-Re...   d4961508       0   \n",
       "144    /Restaurant_Review-g188113-d2013573-Reviews-Al...   d2013573       0   \n",
       "...                                                  ...        ...     ...   \n",
       "49825  /Restaurant_Review-g188113-d10124292-Reviews-S...  d10124292       1   \n",
       "49852  /Restaurant_Review-g227102-d6675094-Reviews-Ch...   d6675094       1   \n",
       "49873  /Restaurant_Review-g189180-d10146257-Reviews-A...  d10146257       1   \n",
       "49895  /Restaurant_Review-g189180-d7315906-Reviews-Cr...   d7315906       1   \n",
       "49990  /Restaurant_Review-g189180-d3612719-Reviews-D_...   d3612719       1   \n",
       "\n",
       "       rating  cuisine_style_isNAN  price_range_isNAN  \\\n",
       "66        0.0                    1                  1   \n",
       "84        0.0                    0                  0   \n",
       "124       0.0                    1                  1   \n",
       "128       0.0                    1                  1   \n",
       "144       0.0                    0                  0   \n",
       "...       ...                  ...                ...   \n",
       "49825     4.5                    0                  0   \n",
       "49852     4.5                    0                  0   \n",
       "49873     4.0                    0                  0   \n",
       "49895     3.5                    0                  0   \n",
       "49990     4.5                    0                  1   \n",
       "\n",
       "       number_of_reviews_isNAN  reviews_isNAN country  \n",
       "66                           0              0    None  \n",
       "84                           0              0    None  \n",
       "124                          0              0    None  \n",
       "128                          0              0    None  \n",
       "144                          0              0    None  \n",
       "...                        ...            ...     ...  \n",
       "49825                        0              0    None  \n",
       "49852                        0              0    None  \n",
       "49873                        0              0    None  \n",
       "49895                        0              0    None  \n",
       "49990                        0              0    None  \n",
       "\n",
       "[1881 rows x 16 columns]"
      ]
     },
     "execution_count": 23,
     "metadata": {},
     "output_type": "execute_result"
    }
   ],
   "source": [
    "# Проверить заполнен country полностью. \n",
    "data[data.country.isnull()]"
   ]
  },
  {
   "cell_type": "code",
   "execution_count": 24,
   "metadata": {
    "execution": {
     "iopub.execute_input": "2021-06-16T11:14:36.977269Z",
     "iopub.status.busy": "2021-06-16T11:14:36.976957Z",
     "iopub.status.idle": "2021-06-16T11:14:37.018486Z",
     "shell.execute_reply": "2021-06-16T11:14:37.017537Z",
     "shell.execute_reply.started": "2021-06-16T11:14:36.977217Z"
    }
   },
   "outputs": [],
   "source": [
    "# Заполнить вручную отстутствующие значения для новых признаков.\n",
    "data.loc[(data.city == 'Oporto'), 'country'] = 'Portugal'\n",
    "data.loc[(data.city == 'Zurich'), 'country'] = 'Switzerland'\n",
    "data.loc[(data.city == 'Krakow'), 'country'] = 'Poland'"
   ]
  },
  {
   "cell_type": "markdown",
   "metadata": {},
   "source": [
    "Чтобы найти самую часто встречающуюся кухню мне нужно использовать ***explode***. Для этого создаю копию датасета tst, чтобы не повлияло на оригинал. "
   ]
  },
  {
   "cell_type": "code",
   "execution_count": 25,
   "metadata": {
    "execution": {
     "iopub.execute_input": "2021-06-16T11:14:37.020224Z",
     "iopub.status.busy": "2021-06-16T11:14:37.019923Z",
     "iopub.status.idle": "2021-06-16T11:14:37.478647Z",
     "shell.execute_reply": "2021-06-16T11:14:37.477590Z",
     "shell.execute_reply.started": "2021-06-16T11:14:37.020172Z"
    }
   },
   "outputs": [
    {
     "data": {
      "text/html": [
       "<div>\n",
       "<style scoped>\n",
       "    .dataframe tbody tr th:only-of-type {\n",
       "        vertical-align: middle;\n",
       "    }\n",
       "\n",
       "    .dataframe tbody tr th {\n",
       "        vertical-align: top;\n",
       "    }\n",
       "\n",
       "    .dataframe thead th {\n",
       "        text-align: right;\n",
       "    }\n",
       "</style>\n",
       "<table border=\"1\" class=\"dataframe\">\n",
       "  <thead>\n",
       "    <tr style=\"text-align: right;\">\n",
       "      <th></th>\n",
       "      <th>restaurant_id</th>\n",
       "      <th>city</th>\n",
       "      <th>cuisine_style</th>\n",
       "      <th>ranking</th>\n",
       "      <th>price_range</th>\n",
       "      <th>number_of_reviews</th>\n",
       "      <th>reviews</th>\n",
       "      <th>url_ta</th>\n",
       "      <th>id_ta</th>\n",
       "      <th>sample</th>\n",
       "      <th>rating</th>\n",
       "      <th>cuisine_style_isNAN</th>\n",
       "      <th>price_range_isNAN</th>\n",
       "      <th>number_of_reviews_isNAN</th>\n",
       "      <th>reviews_isNAN</th>\n",
       "      <th>country</th>\n",
       "    </tr>\n",
       "  </thead>\n",
       "  <tbody>\n",
       "    <tr>\n",
       "      <th>11675</th>\n",
       "      <td>id_424</td>\n",
       "      <td>Warsaw</td>\n",
       "      <td>European</td>\n",
       "      <td>425.0</td>\n",
       "      <td>$$ - $$$</td>\n",
       "      <td>44.0</td>\n",
       "      <td>[['Surprising!', 'Not worth taking a trip, ok ...</td>\n",
       "      <td>/Restaurant_Review-g274856-d4914891-Reviews-Ku...</td>\n",
       "      <td>d4914891</td>\n",
       "      <td>1</td>\n",
       "      <td>4.0</td>\n",
       "      <td>0</td>\n",
       "      <td>0</td>\n",
       "      <td>0</td>\n",
       "      <td>0</td>\n",
       "      <td>Poland</td>\n",
       "    </tr>\n",
       "    <tr>\n",
       "      <th>36508</th>\n",
       "      <td>id_1531</td>\n",
       "      <td>Hamburg</td>\n",
       "      <td>Indian</td>\n",
       "      <td>1533.0</td>\n",
       "      <td>NaN</td>\n",
       "      <td>2.0</td>\n",
       "      <td>[['Quality Food'], ['11/22/2013']]</td>\n",
       "      <td>/Restaurant_Review-g187331-d5511881-Reviews-Si...</td>\n",
       "      <td>d5511881</td>\n",
       "      <td>1</td>\n",
       "      <td>4.5</td>\n",
       "      <td>0</td>\n",
       "      <td>1</td>\n",
       "      <td>0</td>\n",
       "      <td>0</td>\n",
       "      <td>Germany</td>\n",
       "    </tr>\n",
       "    <tr>\n",
       "      <th>40167</th>\n",
       "      <td>id_924</td>\n",
       "      <td>Paris</td>\n",
       "      <td>Pizza</td>\n",
       "      <td>925.0</td>\n",
       "      <td>$$ - $$$</td>\n",
       "      <td>446.0</td>\n",
       "      <td>[['Nice find !', \"Good Italian food in one of ...</td>\n",
       "      <td>/Restaurant_Review-g187147-d3395351-Reviews-Ca...</td>\n",
       "      <td>d3395351</td>\n",
       "      <td>1</td>\n",
       "      <td>4.0</td>\n",
       "      <td>0</td>\n",
       "      <td>0</td>\n",
       "      <td>0</td>\n",
       "      <td>0</td>\n",
       "      <td>France</td>\n",
       "    </tr>\n",
       "    <tr>\n",
       "      <th>45863</th>\n",
       "      <td>id_1141</td>\n",
       "      <td>Lisbon</td>\n",
       "      <td>Pizza</td>\n",
       "      <td>1142.0</td>\n",
       "      <td>$$ - $$$</td>\n",
       "      <td>12.0</td>\n",
       "      <td>[['Delicious'], ['11/23/2017']]</td>\n",
       "      <td>/Restaurant_Review-g189158-d12975498-Reviews-P...</td>\n",
       "      <td>d12975498</td>\n",
       "      <td>1</td>\n",
       "      <td>4.5</td>\n",
       "      <td>0</td>\n",
       "      <td>0</td>\n",
       "      <td>0</td>\n",
       "      <td>0</td>\n",
       "      <td>Portugal</td>\n",
       "    </tr>\n",
       "    <tr>\n",
       "      <th>45994</th>\n",
       "      <td>id_2614</td>\n",
       "      <td>London</td>\n",
       "      <td>Pizza</td>\n",
       "      <td>2619.0</td>\n",
       "      <td>$$ - $$$</td>\n",
       "      <td>240.0</td>\n",
       "      <td>[['Good quality Italian food best service!', '...</td>\n",
       "      <td>/Restaurant_Review-g186338-d680441-Reviews-Bel...</td>\n",
       "      <td>d680441</td>\n",
       "      <td>1</td>\n",
       "      <td>4.0</td>\n",
       "      <td>0</td>\n",
       "      <td>0</td>\n",
       "      <td>0</td>\n",
       "      <td>0</td>\n",
       "      <td>United Kingdom</td>\n",
       "    </tr>\n",
       "  </tbody>\n",
       "</table>\n",
       "</div>"
      ],
      "text/plain": [
       "      restaurant_id     city cuisine_style  ranking price_range  \\\n",
       "11675        id_424   Warsaw      European    425.0    $$ - $$$   \n",
       "36508       id_1531  Hamburg        Indian   1533.0         NaN   \n",
       "40167        id_924    Paris         Pizza    925.0    $$ - $$$   \n",
       "45863       id_1141   Lisbon         Pizza   1142.0    $$ - $$$   \n",
       "45994       id_2614   London         Pizza   2619.0    $$ - $$$   \n",
       "\n",
       "       number_of_reviews                                            reviews  \\\n",
       "11675               44.0  [['Surprising!', 'Not worth taking a trip, ok ...   \n",
       "36508                2.0                 [['Quality Food'], ['11/22/2013']]   \n",
       "40167              446.0  [['Nice find !', \"Good Italian food in one of ...   \n",
       "45863               12.0                    [['Delicious'], ['11/23/2017']]   \n",
       "45994              240.0  [['Good quality Italian food best service!', '...   \n",
       "\n",
       "                                                  url_ta      id_ta  sample  \\\n",
       "11675  /Restaurant_Review-g274856-d4914891-Reviews-Ku...   d4914891       1   \n",
       "36508  /Restaurant_Review-g187331-d5511881-Reviews-Si...   d5511881       1   \n",
       "40167  /Restaurant_Review-g187147-d3395351-Reviews-Ca...   d3395351       1   \n",
       "45863  /Restaurant_Review-g189158-d12975498-Reviews-P...  d12975498       1   \n",
       "45994  /Restaurant_Review-g186338-d680441-Reviews-Bel...    d680441       1   \n",
       "\n",
       "       rating  cuisine_style_isNAN  price_range_isNAN  \\\n",
       "11675     4.0                    0                  0   \n",
       "36508     4.5                    0                  1   \n",
       "40167     4.0                    0                  0   \n",
       "45863     4.5                    0                  0   \n",
       "45994     4.0                    0                  0   \n",
       "\n",
       "       number_of_reviews_isNAN  reviews_isNAN         country  \n",
       "11675                        0              0          Poland  \n",
       "36508                        0              0         Germany  \n",
       "40167                        0              0          France  \n",
       "45863                        0              0        Portugal  \n",
       "45994                        0              0  United Kingdom  "
      ]
     },
     "execution_count": 25,
     "metadata": {},
     "output_type": "execute_result"
    }
   ],
   "source": [
    "tst = data.explode('cuisine_style')\n",
    "tst.sample(5)"
   ]
  },
  {
   "cell_type": "code",
   "execution_count": 26,
   "metadata": {
    "execution": {
     "iopub.execute_input": "2021-06-16T11:14:37.480320Z",
     "iopub.status.busy": "2021-06-16T11:14:37.480012Z",
     "iopub.status.idle": "2021-06-16T11:14:38.276628Z",
     "shell.execute_reply": "2021-06-16T11:14:38.275316Z",
     "shell.execute_reply.started": "2021-06-16T11:14:37.480261Z"
    }
   },
   "outputs": [
    {
     "name": "stdout",
     "output_type": "stream",
     "text": [
      "Paris\n",
      "\t  46%\tFrench\n",
      "\t  29%\tEuropean\n",
      "Helsinki\n",
      "\t  41%\tEuropean\n",
      "\t  38%\tVegetarian Friendly\n",
      "Edinburgh\n",
      "\t  41%\tVegetarian Friendly\n",
      "\t  30%\tBritish\n",
      "London\n",
      "\t  47%\tVegetarian Friendly\n",
      "\t  28%\tBritish\n",
      "Bratislava\n",
      "\t  50%\tEuropean\n",
      "\t  29%\tCentral European\n",
      "Lisbon\n",
      "\t  41%\tEuropean\n",
      "\t  40%\tPortuguese\n",
      "Budapest\n",
      "\t  43%\tEuropean\n",
      "\t  34%\tHungarian\n",
      "Stockholm\n",
      "\t  41%\tEuropean\n",
      "\t  34%\tVegetarian Friendly\n",
      "Rome\n",
      "\t  44%\tItalian\n",
      "\t  30%\tVegetarian Friendly\n",
      "Milan\n",
      "\t  49%\tItalian\n",
      "\t  27%\tVegetarian Friendly\n",
      "Munich\n",
      "\t  47%\tVegetarian Friendly\n",
      "\t  32%\tEuropean\n",
      "Hamburg\n",
      "\t  44%\tVegetarian Friendly\n",
      "\t  32%\tEuropean\n",
      "Prague\n",
      "\t  45%\tEuropean\n",
      "\t  36%\tCzech\n",
      "Vienna\n",
      "\t  40%\tEuropean\n",
      "\t  31%\tVegetarian Friendly\n",
      "Dublin\n",
      "\t  36%\tVegetarian Friendly\n",
      "\t  34%\tEuropean\n",
      "Barcelona\n",
      "\t  38%\tSpanish\n",
      "\t  37%\tMediterranean\n",
      "Brussels\n",
      "\t  46%\tEuropean\n",
      "\t  28%\tBelgian\n",
      "Madrid\n",
      "\t  49%\tSpanish\n",
      "\t  31%\tMediterranean\n",
      "Oslo\n",
      "\t  40%\tEuropean\n",
      "\t  34%\tVegetarian Friendly\n",
      "Amsterdam\n",
      "\t  40%\tEuropean\n",
      "\t  38%\tVegetarian Friendly\n",
      "Berlin\n",
      "\t  46%\tVegetarian Friendly\n",
      "\t  32%\tEuropean\n",
      "Lyon\n",
      "\t  62%\tFrench\n",
      "\t  21%\tEuropean\n",
      "Athens\n",
      "\t  46%\tGreek\n",
      "\t  34%\tMediterranean\n",
      "Warsaw\n",
      "\t  42%\tEuropean\n",
      "\t  30%\tVegetarian Friendly\n",
      "Oporto\n",
      "\t  41%\tPortuguese\n",
      "\t  41%\tEuropean\n",
      "Krakow\n",
      "\t  41%\tEuropean\n",
      "\t  31%\tPolish\n",
      "Copenhagen\n",
      "\t  43%\tEuropean\n",
      "\t  29%\tVegetarian Friendly\n",
      "Luxembourg\n",
      "\t  44%\tEuropean\n",
      "\t  34%\tVegetarian Friendly\n",
      "Zurich\n",
      "\t  40%\tEuropean\n",
      "\t  39%\tVegetarian Friendly\n",
      "Geneva\n",
      "\t  42%\tEuropean\n",
      "\t  31%\tVegetarian Friendly\n",
      "Ljubljana\n",
      "\t  46%\tEuropean\n",
      "\t  32%\tSlovenian\n"
     ]
    }
   ],
   "source": [
    "c = []\n",
    "pop_c1 = []\n",
    "pop_c2 = []\n",
    "prc_c1 = []\n",
    "prc_c2 = []\n",
    "\n",
    "# Найти популярные кухни по городам.\n",
    "for city in data['city'].unique():\n",
    "    c.append(city)\n",
    "    common_cuisine(tst, city,by_country = False)"
   ]
  },
  {
   "cell_type": "code",
   "execution_count": 27,
   "metadata": {
    "execution": {
     "iopub.execute_input": "2021-06-16T11:14:38.278808Z",
     "iopub.status.busy": "2021-06-16T11:14:38.278408Z",
     "iopub.status.idle": "2021-06-16T11:14:38.307991Z",
     "shell.execute_reply": "2021-06-16T11:14:38.306810Z",
     "shell.execute_reply.started": "2021-06-16T11:14:38.278740Z"
    }
   },
   "outputs": [
    {
     "data": {
      "text/html": [
       "<div>\n",
       "<style scoped>\n",
       "    .dataframe tbody tr th:only-of-type {\n",
       "        vertical-align: middle;\n",
       "    }\n",
       "\n",
       "    .dataframe tbody tr th {\n",
       "        vertical-align: top;\n",
       "    }\n",
       "\n",
       "    .dataframe thead th {\n",
       "        text-align: right;\n",
       "    }\n",
       "</style>\n",
       "<table border=\"1\" class=\"dataframe\">\n",
       "  <thead>\n",
       "    <tr style=\"text-align: right;\">\n",
       "      <th></th>\n",
       "      <th>restaurant_id</th>\n",
       "      <th>city</th>\n",
       "      <th>cuisine_style</th>\n",
       "      <th>ranking</th>\n",
       "      <th>price_range</th>\n",
       "      <th>number_of_reviews</th>\n",
       "      <th>reviews</th>\n",
       "      <th>url_ta</th>\n",
       "      <th>id_ta</th>\n",
       "      <th>sample</th>\n",
       "      <th>rating</th>\n",
       "      <th>cuisine_style_isNAN</th>\n",
       "      <th>price_range_isNAN</th>\n",
       "      <th>number_of_reviews_isNAN</th>\n",
       "      <th>reviews_isNAN</th>\n",
       "      <th>country</th>\n",
       "    </tr>\n",
       "  </thead>\n",
       "  <tbody>\n",
       "    <tr>\n",
       "      <th>7</th>\n",
       "      <td>id_7</td>\n",
       "      <td>Budapest</td>\n",
       "      <td>NaN</td>\n",
       "      <td>2330.0</td>\n",
       "      <td>NaN</td>\n",
       "      <td>NaN</td>\n",
       "      <td>[[], []]</td>\n",
       "      <td>/Restaurant_Review-g274887-d8286886-Reviews-Be...</td>\n",
       "      <td>d8286886</td>\n",
       "      <td>0</td>\n",
       "      <td>0.0</td>\n",
       "      <td>1</td>\n",
       "      <td>1</td>\n",
       "      <td>1</td>\n",
       "      <td>0</td>\n",
       "      <td>Hungary</td>\n",
       "    </tr>\n",
       "    <tr>\n",
       "      <th>10</th>\n",
       "      <td>id_10</td>\n",
       "      <td>Rome</td>\n",
       "      <td>NaN</td>\n",
       "      <td>1209.0</td>\n",
       "      <td>NaN</td>\n",
       "      <td>306.0</td>\n",
       "      <td>[['Very pretentious, but drinks are top notch'...</td>\n",
       "      <td>/Restaurant_Review-g187791-d7818546-Reviews-Je...</td>\n",
       "      <td>d7818546</td>\n",
       "      <td>0</td>\n",
       "      <td>0.0</td>\n",
       "      <td>1</td>\n",
       "      <td>1</td>\n",
       "      <td>0</td>\n",
       "      <td>0</td>\n",
       "      <td>Italy</td>\n",
       "    </tr>\n",
       "    <tr>\n",
       "      <th>13</th>\n",
       "      <td>id_13</td>\n",
       "      <td>Hamburg</td>\n",
       "      <td>NaN</td>\n",
       "      <td>1000.0</td>\n",
       "      <td>NaN</td>\n",
       "      <td>30.0</td>\n",
       "      <td>[['Surprisingly good pizza', 'Yummy'], ['09/28...</td>\n",
       "      <td>/Restaurant_Review-g187331-d1344523-Reviews-Il...</td>\n",
       "      <td>d1344523</td>\n",
       "      <td>0</td>\n",
       "      <td>0.0</td>\n",
       "      <td>1</td>\n",
       "      <td>1</td>\n",
       "      <td>0</td>\n",
       "      <td>0</td>\n",
       "      <td>Germany</td>\n",
       "    </tr>\n",
       "    <tr>\n",
       "      <th>18</th>\n",
       "      <td>id_18</td>\n",
       "      <td>Vienna</td>\n",
       "      <td>NaN</td>\n",
       "      <td>3360.0</td>\n",
       "      <td>NaN</td>\n",
       "      <td>2.0</td>\n",
       "      <td>[[], []]</td>\n",
       "      <td>/Restaurant_Review-g190454-d8435085-Reviews-An...</td>\n",
       "      <td>d8435085</td>\n",
       "      <td>0</td>\n",
       "      <td>0.0</td>\n",
       "      <td>1</td>\n",
       "      <td>1</td>\n",
       "      <td>0</td>\n",
       "      <td>0</td>\n",
       "      <td>Austria</td>\n",
       "    </tr>\n",
       "    <tr>\n",
       "      <th>20</th>\n",
       "      <td>id_20</td>\n",
       "      <td>Barcelona</td>\n",
       "      <td>NaN</td>\n",
       "      <td>6085.0</td>\n",
       "      <td>NaN</td>\n",
       "      <td>8.0</td>\n",
       "      <td>[[], []]</td>\n",
       "      <td>/Restaurant_Review-g187497-d8334752-Reviews-Re...</td>\n",
       "      <td>d8334752</td>\n",
       "      <td>0</td>\n",
       "      <td>0.0</td>\n",
       "      <td>1</td>\n",
       "      <td>1</td>\n",
       "      <td>0</td>\n",
       "      <td>0</td>\n",
       "      <td>Spain</td>\n",
       "    </tr>\n",
       "  </tbody>\n",
       "</table>\n",
       "</div>"
      ],
      "text/plain": [
       "   restaurant_id       city cuisine_style  ranking price_range  \\\n",
       "7           id_7   Budapest           NaN   2330.0         NaN   \n",
       "10         id_10       Rome           NaN   1209.0         NaN   \n",
       "13         id_13    Hamburg           NaN   1000.0         NaN   \n",
       "18         id_18     Vienna           NaN   3360.0         NaN   \n",
       "20         id_20  Barcelona           NaN   6085.0         NaN   \n",
       "\n",
       "    number_of_reviews                                            reviews  \\\n",
       "7                 NaN                                           [[], []]   \n",
       "10              306.0  [['Very pretentious, but drinks are top notch'...   \n",
       "13               30.0  [['Surprisingly good pizza', 'Yummy'], ['09/28...   \n",
       "18                2.0                                           [[], []]   \n",
       "20                8.0                                           [[], []]   \n",
       "\n",
       "                                               url_ta     id_ta  sample  \\\n",
       "7   /Restaurant_Review-g274887-d8286886-Reviews-Be...  d8286886       0   \n",
       "10  /Restaurant_Review-g187791-d7818546-Reviews-Je...  d7818546       0   \n",
       "13  /Restaurant_Review-g187331-d1344523-Reviews-Il...  d1344523       0   \n",
       "18  /Restaurant_Review-g190454-d8435085-Reviews-An...  d8435085       0   \n",
       "20  /Restaurant_Review-g187497-d8334752-Reviews-Re...  d8334752       0   \n",
       "\n",
       "    rating  cuisine_style_isNAN  price_range_isNAN  number_of_reviews_isNAN  \\\n",
       "7      0.0                    1                  1                        1   \n",
       "10     0.0                    1                  1                        0   \n",
       "13     0.0                    1                  1                        0   \n",
       "18     0.0                    1                  1                        0   \n",
       "20     0.0                    1                  1                        0   \n",
       "\n",
       "    reviews_isNAN  country  \n",
       "7               0  Hungary  \n",
       "10              0    Italy  \n",
       "13              0  Germany  \n",
       "18              0  Austria  \n",
       "20              0    Spain  "
      ]
     },
     "execution_count": 27,
     "metadata": {},
     "output_type": "execute_result"
    }
   ],
   "source": [
    "data[data.cuisine_style_isNAN == 1].head()"
   ]
  },
  {
   "cell_type": "markdown",
   "metadata": {},
   "source": [
    "Заполняю неизвестные значения самой популярной кухней в стране. "
   ]
  },
  {
   "cell_type": "code",
   "execution_count": 28,
   "metadata": {
    "execution": {
     "iopub.execute_input": "2021-06-16T11:14:38.311791Z",
     "iopub.status.busy": "2021-06-16T11:14:38.311513Z",
     "iopub.status.idle": "2021-06-16T11:14:39.174026Z",
     "shell.execute_reply": "2021-06-16T11:14:39.173004Z",
     "shell.execute_reply.started": "2021-06-16T11:14:38.311747Z"
    }
   },
   "outputs": [
    {
     "name": "stdout",
     "output_type": "stream",
     "text": [
      "France\n",
      "\t  48%\tFrench\n",
      "\t  28%\tEuropean\n",
      "Finland\n",
      "\t  41%\tEuropean\n",
      "\t  38%\tVegetarian Friendly\n",
      "United Kingdom\n",
      "\t  47%\tVegetarian Friendly\n",
      "\t  28%\tBritish\n",
      "Slovakia\n",
      "\t  50%\tEuropean\n",
      "\t  29%\tCentral European\n",
      "Portugal\n",
      "\t  41%\tEuropean\n",
      "\t  40%\tPortuguese\n",
      "Hungary\n",
      "\t  43%\tEuropean\n",
      "\t  34%\tHungarian\n",
      "Sweden\n",
      "\t  41%\tEuropean\n",
      "\t  34%\tVegetarian Friendly\n",
      "Italy\n",
      "\t  46%\tItalian\n",
      "\t  29%\tVegetarian Friendly\n",
      "Germany\n",
      "\t  46%\tVegetarian Friendly\n",
      "\t  32%\tEuropean\n",
      "Czechia\n",
      "\t  45%\tEuropean\n",
      "\t  36%\tCzech\n",
      "Austria\n",
      "\t  40%\tEuropean\n",
      "\t  31%\tVegetarian Friendly\n",
      "Ireland\n",
      "\t  36%\tVegetarian Friendly\n",
      "\t  34%\tEuropean\n",
      "Spain\n",
      "\t  43%\tSpanish\n",
      "\t  34%\tMediterranean\n",
      "Belgium\n",
      "\t  46%\tEuropean\n",
      "\t  28%\tBelgian\n",
      "Norway\n",
      "\t  40%\tEuropean\n",
      "\t  34%\tVegetarian Friendly\n",
      "Netherlands\n",
      "\t  40%\tEuropean\n",
      "\t  38%\tVegetarian Friendly\n",
      "Greece\n",
      "\t  46%\tGreek\n",
      "\t  34%\tMediterranean\n",
      "Poland\n",
      "\t  42%\tEuropean\n",
      "\t  30%\tPolish\n",
      "Denmark\n",
      "\t  43%\tEuropean\n",
      "\t  29%\tVegetarian Friendly\n",
      "Luxembourg\n",
      "\t  44%\tEuropean\n",
      "\t  34%\tVegetarian Friendly\n",
      "Switzerland\n",
      "\t  43%\tEuropean\n",
      "\t  38%\tVegetarian Friendly\n",
      "Slovenia\n",
      "\t  46%\tEuropean\n",
      "\t  32%\tSlovenian\n"
     ]
    }
   ],
   "source": [
    "# Заменить NaN значения по признаку страны.\n",
    "for name in data.country.unique():\n",
    "    data.loc[(data.country == name) & (data.cuisine_style_isNAN ==1),'cuisine_style'] = common_cuisine(tst, name,by_country = True)"
   ]
  },
  {
   "cell_type": "code",
   "execution_count": 29,
   "metadata": {
    "execution": {
     "iopub.execute_input": "2021-06-16T11:14:39.175557Z",
     "iopub.status.busy": "2021-06-16T11:14:39.175284Z",
     "iopub.status.idle": "2021-06-16T11:14:39.211500Z",
     "shell.execute_reply": "2021-06-16T11:14:39.210684Z",
     "shell.execute_reply.started": "2021-06-16T11:14:39.175515Z"
    }
   },
   "outputs": [],
   "source": [
    "data.cuisine_style = data.cuisine_style.apply(lambda x: x.split(', ') if type(x) == str else x)"
   ]
  },
  {
   "cell_type": "code",
   "execution_count": 30,
   "metadata": {
    "execution": {
     "iopub.execute_input": "2021-06-16T11:14:39.215370Z",
     "iopub.status.busy": "2021-06-16T11:14:39.215088Z",
     "iopub.status.idle": "2021-06-16T11:14:39.230854Z",
     "shell.execute_reply": "2021-06-16T11:14:39.229897Z",
     "shell.execute_reply.started": "2021-06-16T11:14:39.215325Z"
    }
   },
   "outputs": [
    {
     "data": {
      "text/plain": [
       "False    50000\n",
       "Name: cuisine_style, dtype: int64"
      ]
     },
     "execution_count": 30,
     "metadata": {},
     "output_type": "execute_result"
    }
   ],
   "source": [
    "data.cuisine_style.isnull().value_counts()"
   ]
  },
  {
   "cell_type": "markdown",
   "metadata": {
    "execution": {
     "iopub.execute_input": "2021-05-27T16:38:20.408064Z",
     "iopub.status.busy": "2021-05-27T16:38:20.407583Z",
     "iopub.status.idle": "2021-05-27T16:38:20.414801Z",
     "shell.execute_reply": "2021-05-27T16:38:20.413437Z",
     "shell.execute_reply.started": "2021-05-27T16:38:20.408004Z"
    }
   },
   "source": [
    "#### Новый признак cuisine_count\n",
    "Создаю новый признак - количество видов кухонь предлагаемых в ресторане. Если значение **cuisine_style** неизвестно, то по дефолту **cuisine_count** равен 1. "
   ]
  },
  {
   "cell_type": "code",
   "execution_count": 31,
   "metadata": {
    "execution": {
     "iopub.execute_input": "2021-06-16T11:14:39.232556Z",
     "iopub.status.busy": "2021-06-16T11:14:39.232124Z",
     "iopub.status.idle": "2021-06-16T11:14:39.595337Z",
     "shell.execute_reply": "2021-06-16T11:14:39.594404Z",
     "shell.execute_reply.started": "2021-06-16T11:14:39.232512Z"
    }
   },
   "outputs": [
    {
     "data": {
      "text/html": [
       "<div>\n",
       "<style scoped>\n",
       "    .dataframe tbody tr th:only-of-type {\n",
       "        vertical-align: middle;\n",
       "    }\n",
       "\n",
       "    .dataframe tbody tr th {\n",
       "        vertical-align: top;\n",
       "    }\n",
       "\n",
       "    .dataframe thead th {\n",
       "        text-align: right;\n",
       "    }\n",
       "</style>\n",
       "<table border=\"1\" class=\"dataframe\">\n",
       "  <thead>\n",
       "    <tr style=\"text-align: right;\">\n",
       "      <th></th>\n",
       "      <th>cuisine_style</th>\n",
       "      <th>cuisine_count</th>\n",
       "    </tr>\n",
       "  </thead>\n",
       "  <tbody>\n",
       "    <tr>\n",
       "      <th>0</th>\n",
       "      <td>[Bar, Pub]</td>\n",
       "      <td>2</td>\n",
       "    </tr>\n",
       "    <tr>\n",
       "      <th>1</th>\n",
       "      <td>[European, Scandinavian, Gluten Free Options, ...</td>\n",
       "      <td>5</td>\n",
       "    </tr>\n",
       "    <tr>\n",
       "      <th>2</th>\n",
       "      <td>[Vegetarian Friendly]</td>\n",
       "      <td>1</td>\n",
       "    </tr>\n",
       "    <tr>\n",
       "      <th>3</th>\n",
       "      <td>[Italian, Mediterranean, European, Vegetarian ...</td>\n",
       "      <td>5</td>\n",
       "    </tr>\n",
       "    <tr>\n",
       "      <th>4</th>\n",
       "      <td>[Italian, Mediterranean, European, Seafood, Ve...</td>\n",
       "      <td>6</td>\n",
       "    </tr>\n",
       "    <tr>\n",
       "      <th>5</th>\n",
       "      <td>[French, Cafe, Fast Food]</td>\n",
       "      <td>3</td>\n",
       "    </tr>\n",
       "    <tr>\n",
       "      <th>6</th>\n",
       "      <td>[European, Portuguese]</td>\n",
       "      <td>2</td>\n",
       "    </tr>\n",
       "    <tr>\n",
       "      <th>7</th>\n",
       "      <td>[European, Hungarian]</td>\n",
       "      <td>1</td>\n",
       "    </tr>\n",
       "    <tr>\n",
       "      <th>8</th>\n",
       "      <td>[European, Scandinavian]</td>\n",
       "      <td>2</td>\n",
       "    </tr>\n",
       "    <tr>\n",
       "      <th>9</th>\n",
       "      <td>[Italian]</td>\n",
       "      <td>1</td>\n",
       "    </tr>\n",
       "  </tbody>\n",
       "</table>\n",
       "</div>"
      ],
      "text/plain": [
       "                                       cuisine_style  cuisine_count\n",
       "0                                         [Bar, Pub]              2\n",
       "1  [European, Scandinavian, Gluten Free Options, ...              5\n",
       "2                              [Vegetarian Friendly]              1\n",
       "3  [Italian, Mediterranean, European, Vegetarian ...              5\n",
       "4  [Italian, Mediterranean, European, Seafood, Ve...              6\n",
       "5                          [French, Cafe, Fast Food]              3\n",
       "6                             [European, Portuguese]              2\n",
       "7                              [European, Hungarian]              1\n",
       "8                           [European, Scandinavian]              2\n",
       "9                                          [Italian]              1"
      ]
     },
     "execution_count": 31,
     "metadata": {},
     "output_type": "execute_result"
    }
   ],
   "source": [
    "data['cuisine_count'] = df['cuisine_style'].str.split(', ').apply(lambda x: 1 if str(x) == 'nan' else len(x))\n",
    "data[['cuisine_style','cuisine_count']].head(10)"
   ]
  },
  {
   "cell_type": "markdown",
   "metadata": {},
   "source": [
    "#### Признак price_range \n",
    "\n",
    "**34.7% (17361) неизвестных значений.** \n",
    " \n",
    "Так как 70.6% ресторанов в ценовом диапазоне от  10-999 долларов, то все неизвестные значения ресторанов будут заменены на этот ценовой диапазон. "
   ]
  },
  {
   "cell_type": "code",
   "execution_count": 32,
   "metadata": {
    "execution": {
     "iopub.execute_input": "2021-06-16T11:14:39.596961Z",
     "iopub.status.busy": "2021-06-16T11:14:39.596714Z",
     "iopub.status.idle": "2021-06-16T11:14:39.610710Z",
     "shell.execute_reply": "2021-06-16T11:14:39.609693Z",
     "shell.execute_reply.started": "2021-06-16T11:14:39.596919Z"
    }
   },
   "outputs": [
    {
     "data": {
      "text/plain": [
       "34.722"
      ]
     },
     "execution_count": 32,
     "metadata": {},
     "output_type": "execute_result"
    }
   ],
   "source": [
    "stats = data.price_range.isna().value_counts()\n",
    "stats[1]*100/(stats[0]+stats[1])"
   ]
  },
  {
   "cell_type": "code",
   "execution_count": 33,
   "metadata": {
    "execution": {
     "iopub.execute_input": "2021-06-16T11:14:39.619451Z",
     "iopub.status.busy": "2021-06-16T11:14:39.619132Z",
     "iopub.status.idle": "2021-06-16T11:14:39.634736Z",
     "shell.execute_reply": "2021-06-16T11:14:39.633825Z",
     "shell.execute_reply.started": "2021-06-16T11:14:39.619403Z"
    }
   },
   "outputs": [],
   "source": [
    "common_price = data.price_range.value_counts().index[0]"
   ]
  },
  {
   "cell_type": "code",
   "execution_count": 34,
   "metadata": {
    "execution": {
     "iopub.execute_input": "2021-06-16T11:14:39.636145Z",
     "iopub.status.busy": "2021-06-16T11:14:39.635854Z",
     "iopub.status.idle": "2021-06-16T11:14:39.866973Z",
     "shell.execute_reply": "2021-06-16T11:14:39.865961Z",
     "shell.execute_reply.started": "2021-06-16T11:14:39.636096Z"
    }
   },
   "outputs": [
    {
     "data": {
      "image/png": "[encoded data removed]",
      "text/plain": [
       "<Figure size 720x504 with 1 Axes>"
      ]
     },
     "metadata": {
      "needs_background": "light"
     },
     "output_type": "display_data"
    }
   ],
   "source": [
    "y = data.price_range.value_counts().values\n",
    "graph = plt.bar(['Средняя цена', 'Дешево', 'Дорого'], y, color = 'pink')"
   ]
  },
  {
   "cell_type": "code",
   "execution_count": 35,
   "metadata": {
    "execution": {
     "iopub.execute_input": "2021-06-16T11:14:39.869315Z",
     "iopub.status.busy": "2021-06-16T11:14:39.868702Z",
     "iopub.status.idle": "2021-06-16T11:14:39.882576Z",
     "shell.execute_reply": "2021-06-16T11:14:39.881511Z",
     "shell.execute_reply.started": "2021-06-16T11:14:39.869252Z"
    }
   },
   "outputs": [],
   "source": [
    "data.price_range.fillna(common_price, inplace = True)"
   ]
  },
  {
   "cell_type": "markdown",
   "metadata": {},
   "source": [
    "#### Признак reviews\n",
    "**2 незивестных значения.**\n",
    "\n",
    "Так как об этих двух ресторанах имеется мало информации, а именно есть 3-4 неизвестных значения, удаляю эти рестораны из датасета полностью."
   ]
  },
  {
   "cell_type": "code",
   "execution_count": 36,
   "metadata": {
    "execution": {
     "iopub.execute_input": "2021-06-16T11:14:39.884802Z",
     "iopub.status.busy": "2021-06-16T11:14:39.884222Z",
     "iopub.status.idle": "2021-06-16T11:14:39.928050Z",
     "shell.execute_reply": "2021-06-16T11:14:39.927086Z",
     "shell.execute_reply.started": "2021-06-16T11:14:39.884742Z"
    }
   },
   "outputs": [
    {
     "data": {
      "text/html": [
       "<div>\n",
       "<style scoped>\n",
       "    .dataframe tbody tr th:only-of-type {\n",
       "        vertical-align: middle;\n",
       "    }\n",
       "\n",
       "    .dataframe tbody tr th {\n",
       "        vertical-align: top;\n",
       "    }\n",
       "\n",
       "    .dataframe thead th {\n",
       "        text-align: right;\n",
       "    }\n",
       "</style>\n",
       "<table border=\"1\" class=\"dataframe\">\n",
       "  <thead>\n",
       "    <tr style=\"text-align: right;\">\n",
       "      <th></th>\n",
       "      <th>restaurant_id</th>\n",
       "      <th>city</th>\n",
       "      <th>cuisine_style</th>\n",
       "      <th>ranking</th>\n",
       "      <th>price_range</th>\n",
       "      <th>number_of_reviews</th>\n",
       "      <th>reviews</th>\n",
       "      <th>url_ta</th>\n",
       "      <th>id_ta</th>\n",
       "      <th>sample</th>\n",
       "      <th>rating</th>\n",
       "      <th>cuisine_style_isNAN</th>\n",
       "      <th>price_range_isNAN</th>\n",
       "      <th>number_of_reviews_isNAN</th>\n",
       "      <th>reviews_isNAN</th>\n",
       "      <th>country</th>\n",
       "      <th>cuisine_count</th>\n",
       "    </tr>\n",
       "  </thead>\n",
       "  <tbody>\n",
       "    <tr>\n",
       "      <th>8168</th>\n",
       "      <td>id_8168</td>\n",
       "      <td>Lisbon</td>\n",
       "      <td>[European, Portuguese]</td>\n",
       "      <td>3389.0</td>\n",
       "      <td>$$ - $$$</td>\n",
       "      <td>2.0</td>\n",
       "      <td>NaN</td>\n",
       "      <td>/Restaurant_Review-g189158-d12683988-Reviews-O...</td>\n",
       "      <td>d12683988</td>\n",
       "      <td>0</td>\n",
       "      <td>0.0</td>\n",
       "      <td>1</td>\n",
       "      <td>1</td>\n",
       "      <td>0</td>\n",
       "      <td>1</td>\n",
       "      <td>Portugal</td>\n",
       "      <td>1</td>\n",
       "    </tr>\n",
       "    <tr>\n",
       "      <th>9608</th>\n",
       "      <td>id_9608</td>\n",
       "      <td>Vienna</td>\n",
       "      <td>[European, Vegetarian Friendly]</td>\n",
       "      <td>1779.0</td>\n",
       "      <td>$$ - $$$</td>\n",
       "      <td>NaN</td>\n",
       "      <td>NaN</td>\n",
       "      <td>/Restaurant_Review-g190454-d12605368-Reviews-R...</td>\n",
       "      <td>d12605368</td>\n",
       "      <td>0</td>\n",
       "      <td>0.0</td>\n",
       "      <td>1</td>\n",
       "      <td>1</td>\n",
       "      <td>1</td>\n",
       "      <td>1</td>\n",
       "      <td>Austria</td>\n",
       "      <td>1</td>\n",
       "    </tr>\n",
       "  </tbody>\n",
       "</table>\n",
       "</div>"
      ],
      "text/plain": [
       "     restaurant_id    city                    cuisine_style  ranking  \\\n",
       "8168       id_8168  Lisbon           [European, Portuguese]   3389.0   \n",
       "9608       id_9608  Vienna  [European, Vegetarian Friendly]   1779.0   \n",
       "\n",
       "     price_range  number_of_reviews reviews  \\\n",
       "8168    $$ - $$$                2.0     NaN   \n",
       "9608    $$ - $$$                NaN     NaN   \n",
       "\n",
       "                                                 url_ta      id_ta  sample  \\\n",
       "8168  /Restaurant_Review-g189158-d12683988-Reviews-O...  d12683988       0   \n",
       "9608  /Restaurant_Review-g190454-d12605368-Reviews-R...  d12605368       0   \n",
       "\n",
       "      rating  cuisine_style_isNAN  price_range_isNAN  number_of_reviews_isNAN  \\\n",
       "8168     0.0                    1                  1                        0   \n",
       "9608     0.0                    1                  1                        1   \n",
       "\n",
       "      reviews_isNAN   country  cuisine_count  \n",
       "8168              1  Portugal              1  \n",
       "9608              1   Austria              1  "
      ]
     },
     "metadata": {},
     "output_type": "display_data"
    },
    {
     "name": "stdout",
     "output_type": "stream",
     "text": [
      "[['Very good reviews!', 'Fine dining in Hakaniemi'], ['12/05/2017', '10/29/2017']]\n",
      "<class 'str'>\n"
     ]
    }
   ],
   "source": [
    "display(data[data['reviews_isNAN']==1])\n",
    "print(data.reviews.iloc[1])\n",
    "print(type(data.reviews.iloc[1]))"
   ]
  },
  {
   "cell_type": "code",
   "execution_count": 37,
   "metadata": {
    "execution": {
     "iopub.execute_input": "2021-06-16T11:14:39.929995Z",
     "iopub.status.busy": "2021-06-16T11:14:39.929615Z",
     "iopub.status.idle": "2021-06-16T11:14:39.944930Z",
     "shell.execute_reply": "2021-06-16T11:14:39.944153Z",
     "shell.execute_reply.started": "2021-06-16T11:14:39.929956Z"
    }
   },
   "outputs": [],
   "source": [
    "data['reviews'] = data['reviews'].dropna(axis=0)"
   ]
  },
  {
   "cell_type": "markdown",
   "metadata": {},
   "source": [
    "#### Новый признак reviews_diff\n",
    "Создаю новый признак, **review_diff**, выражающий разницу между самым недавним и старым отзывом. "
   ]
  },
  {
   "cell_type": "code",
   "execution_count": 38,
   "metadata": {
    "execution": {
     "iopub.execute_input": "2021-06-16T11:14:39.946716Z",
     "iopub.status.busy": "2021-06-16T11:14:39.946263Z",
     "iopub.status.idle": "2021-06-16T11:14:40.541062Z",
     "shell.execute_reply": "2021-06-16T11:14:40.540068Z",
     "shell.execute_reply.started": "2021-06-16T11:14:39.946672Z"
    }
   },
   "outputs": [
    {
     "data": {
      "text/plain": [
       "3551                           []\n",
       "28248    [04/28/2017, 02/23/2014]\n",
       "47903                          []\n",
       "45097                          []\n",
       "18612    [08/31/2017, 08/23/2017]\n",
       "20583    [06/04/2017, 05/20/2017]\n",
       "47276    [01/02/2018, 12/13/2017]\n",
       "34121    [08/31/2016, 08/08/2016]\n",
       "35888    [11/29/2016, 08/04/2016]\n",
       "11115    [06/23/2017, 07/05/2016]\n",
       "Name: reviews, dtype: object"
      ]
     },
     "execution_count": 38,
     "metadata": {},
     "output_type": "execute_result"
    }
   ],
   "source": [
    "reviews = data['reviews']\n",
    "reviews = reviews.apply(lambda x: re.split('\\],\\s\\[',str(x)))\n",
    "reviews = reviews.apply(lambda x: re.findall('\\d+/\\d+/\\\\d+', str(x)))\n",
    "reviews.sample(10)"
   ]
  },
  {
   "cell_type": "code",
   "execution_count": 39,
   "metadata": {
    "execution": {
     "iopub.execute_input": "2021-06-16T11:14:40.542701Z",
     "iopub.status.busy": "2021-06-16T11:14:40.542408Z",
     "iopub.status.idle": "2021-06-16T11:14:53.317275Z",
     "shell.execute_reply": "2021-06-16T11:14:53.316449Z",
     "shell.execute_reply.started": "2021-06-16T11:14:40.542644Z"
    }
   },
   "outputs": [
    {
     "data": {
      "text/plain": [
       "0                            None\n",
       "1        [2017-12-05, 2017-10-29]\n",
       "2        [2017-12-28, 2017-12-06]\n",
       "3        [2017-12-06, 2017-11-22]\n",
       "4        [2018-02-08, 2018-01-24]\n",
       "                   ...           \n",
       "49995    [2017-12-16, 2017-11-12]\n",
       "49996    [2017-12-21, 2017-12-12]\n",
       "49997    [2016-11-03, 2008-04-12]\n",
       "49998    [2017-07-11, 2017-06-18]\n",
       "49999    [2016-01-31, 2012-07-04]\n",
       "Name: reviews, Length: 50000, dtype: object"
      ]
     },
     "execution_count": 39,
     "metadata": {},
     "output_type": "execute_result"
    }
   ],
   "source": [
    "dates = reviews.apply(lambda x: to_date(*x))\n",
    "dates"
   ]
  },
  {
   "cell_type": "code",
   "execution_count": 40,
   "metadata": {
    "execution": {
     "iopub.execute_input": "2021-06-16T11:14:53.320058Z",
     "iopub.status.busy": "2021-06-16T11:14:53.319494Z",
     "iopub.status.idle": "2021-06-16T11:14:53.384917Z",
     "shell.execute_reply": "2021-06-16T11:14:53.383885Z",
     "shell.execute_reply.started": "2021-06-16T11:14:53.319844Z"
    }
   },
   "outputs": [],
   "source": [
    "review_difference = dates.apply(lambda x: calculate_diff(*x) if x is not None else 0)"
   ]
  },
  {
   "cell_type": "code",
   "execution_count": 41,
   "metadata": {
    "execution": {
     "iopub.execute_input": "2021-06-16T11:14:53.387323Z",
     "iopub.status.busy": "2021-06-16T11:14:53.386698Z",
     "iopub.status.idle": "2021-06-16T11:14:53.403858Z",
     "shell.execute_reply": "2021-06-16T11:14:53.402552Z",
     "shell.execute_reply.started": "2021-06-16T11:14:53.387178Z"
    }
   },
   "outputs": [
    {
     "data": {
      "text/plain": [
       "1966     3296\n",
       "17990    3207\n",
       "20997    3137\n",
       "49997    3127\n",
       "18356    3096\n",
       "         ... \n",
       "24146       0\n",
       "24147       0\n",
       "24150       0\n",
       "24152       0\n",
       "0           0\n",
       "Name: review_diff, Length: 50000, dtype: int64"
      ]
     },
     "execution_count": 41,
     "metadata": {},
     "output_type": "execute_result"
    }
   ],
   "source": [
    "data['review_diff'] = review_difference.copy()\n",
    "data['review_diff'].sort_values(ascending=False)"
   ]
  },
  {
   "cell_type": "markdown",
   "metadata": {
    "execution": {
     "iopub.execute_input": "2021-05-27T17:53:23.543918Z",
     "iopub.status.busy": "2021-05-27T17:53:23.543605Z",
     "iopub.status.idle": "2021-05-27T17:53:23.547584Z",
     "shell.execute_reply": "2021-05-27T17:53:23.546632Z",
     "shell.execute_reply.started": "2021-05-27T17:53:23.543866Z"
    }
   },
   "source": [
    "#### Признак number_of_reviews\n",
    "6.4% (3200) неизвестных значений. \n",
    "\n",
    "Между **number_of_reviews** и **cuisine_count** имеется средняя позитивная корреляция 0.4. Также, между **number_of_reviews** и **ranking** существует слабая негативная корреляция -0.2. График медианного значения кол-ва отзывов по кол-ву видов кухни показывает то, что в принципе медианное количество отзывов разнится между ресторанами, предлагающими разное количество видов кухонь. В связи с чем заполняю неизвестные значения ресторана медианным значением той группы ресторанов, сгруппированных по кол-ву видов кухни, в которую он квалифицируется. "
   ]
  },
  {
   "cell_type": "code",
   "execution_count": 42,
   "metadata": {
    "execution": {
     "iopub.execute_input": "2021-06-16T11:14:53.406327Z",
     "iopub.status.busy": "2021-06-16T11:14:53.405778Z",
     "iopub.status.idle": "2021-06-16T11:14:53.419833Z",
     "shell.execute_reply": "2021-06-16T11:14:53.418466Z",
     "shell.execute_reply.started": "2021-06-16T11:14:53.406102Z"
    }
   },
   "outputs": [
    {
     "data": {
      "text/plain": [
       "6.4"
      ]
     },
     "execution_count": 42,
     "metadata": {},
     "output_type": "execute_result"
    }
   ],
   "source": [
    "data[data['number_of_reviews_isNAN']==1].shape[0]/data.shape[0] *100"
   ]
  },
  {
   "cell_type": "code",
   "execution_count": 43,
   "metadata": {
    "execution": {
     "iopub.execute_input": "2021-06-16T11:14:53.422013Z",
     "iopub.status.busy": "2021-06-16T11:14:53.421597Z",
     "iopub.status.idle": "2021-06-16T11:14:53.944452Z",
     "shell.execute_reply": "2021-06-16T11:14:53.942503Z",
     "shell.execute_reply.started": "2021-06-16T11:14:53.421941Z"
    }
   },
   "outputs": [
    {
     "name": "stdout",
     "output_type": "stream",
     "text": [
      "price_range_isNAN         -0.254281\n",
      "ranking                   -0.223775\n",
      "cuisine_style_isNAN       -0.195227\n",
      "review_diff               -0.103222\n",
      "reviews_isNAN             -0.001925\n",
      "sample                     0.002412\n",
      "rating                     0.011472\n",
      "cuisine_count              0.402590\n",
      "number_of_reviews          1.000000\n",
      "number_of_reviews_isNAN         NaN\n",
      "Name: number_of_reviews, dtype: float64\n"
     ]
    },
    {
     "data": {
      "image/png": "[encoded data removed]",
      "text/plain": [
       "<Figure size 792x576 with 2 Axes>"
      ]
     },
     "metadata": {},
     "output_type": "display_data"
    }
   ],
   "source": [
    "sns.set(rc={'figure.figsize':(11,8)}, font_scale=1.5, style='whitegrid')\n",
    "print(data.select_dtypes('number').corr().loc['number_of_reviews'].sort_values())\n",
    "\n",
    "sns.heatmap(data.select_dtypes('number').corr());"
   ]
  },
  {
   "cell_type": "code",
   "execution_count": 44,
   "metadata": {
    "execution": {
     "iopub.execute_input": "2021-06-16T11:14:53.947429Z",
     "iopub.status.busy": "2021-06-16T11:14:53.946736Z",
     "iopub.status.idle": "2021-06-16T11:14:54.868004Z",
     "shell.execute_reply": "2021-06-16T11:14:54.867013Z",
     "shell.execute_reply.started": "2021-06-16T11:14:53.947105Z"
    }
   },
   "outputs": [
    {
     "data": {
      "image/png": "[encoded data removed]",
      "text/plain": [
       "<Figure size 792x576 with 1 Axes>"
      ]
     },
     "metadata": {},
     "output_type": "display_data"
    }
   ],
   "source": [
    "plt.scatter(data.number_of_reviews, data.ranking)\n",
    "plt.title(\"ranking vs number_of_reviews\")\n",
    "plt.xlabel(\"number_of_reviews\")\n",
    "plt.ylabel(\"ranking\")\n",
    "plt.show()"
   ]
  },
  {
   "cell_type": "code",
   "execution_count": 45,
   "metadata": {
    "execution": {
     "iopub.execute_input": "2021-06-16T11:14:54.869639Z",
     "iopub.status.busy": "2021-06-16T11:14:54.869292Z",
     "iopub.status.idle": "2021-06-16T11:14:55.798622Z",
     "shell.execute_reply": "2021-06-16T11:14:55.797661Z",
     "shell.execute_reply.started": "2021-06-16T11:14:54.869589Z"
    }
   },
   "outputs": [
    {
     "data": {
      "image/png": "[encoded data removed]",
      "text/plain": [
       "<Figure size 792x576 with 1 Axes>"
      ]
     },
     "metadata": {},
     "output_type": "display_data"
    }
   ],
   "source": [
    "plt.scatter(data.cuisine_count, data.number_of_reviews)\n",
    "plt.title(\"cuisine_count vs number_of_reviews\")\n",
    "plt.xlabel(\"cuisine_count\")\n",
    "plt.ylabel(\"number_of_reviews\")\n",
    "plt.show()"
   ]
  },
  {
   "cell_type": "code",
   "execution_count": 46,
   "metadata": {
    "execution": {
     "iopub.execute_input": "2021-06-16T11:14:55.800084Z",
     "iopub.status.busy": "2021-06-16T11:14:55.799823Z",
     "iopub.status.idle": "2021-06-16T11:14:55.815353Z",
     "shell.execute_reply": "2021-06-16T11:14:55.814408Z",
     "shell.execute_reply.started": "2021-06-16T11:14:55.800038Z"
    }
   },
   "outputs": [
    {
     "data": {
      "text/plain": [
       "count    46800.000000\n",
       "mean       124.471197\n",
       "std        294.114345\n",
       "min          2.000000\n",
       "25%          9.000000\n",
       "50%         33.000000\n",
       "75%        115.000000\n",
       "max       9660.000000\n",
       "Name: number_of_reviews, dtype: float64"
      ]
     },
     "execution_count": 46,
     "metadata": {},
     "output_type": "execute_result"
    }
   ],
   "source": [
    "data.number_of_reviews.describe()"
   ]
  },
  {
   "cell_type": "markdown",
   "metadata": {},
   "source": [
    "Разница между средним значением и медианой большая: есть большие выбросы, влияющие сильно на среднее значение. "
   ]
  },
  {
   "cell_type": "code",
   "execution_count": 47,
   "metadata": {
    "execution": {
     "iopub.execute_input": "2021-06-16T11:14:55.816935Z",
     "iopub.status.busy": "2021-06-16T11:14:55.816669Z",
     "iopub.status.idle": "2021-06-16T11:14:55.825136Z",
     "shell.execute_reply": "2021-06-16T11:14:55.824144Z",
     "shell.execute_reply.started": "2021-06-16T11:14:55.816891Z"
    }
   },
   "outputs": [
    {
     "name": "stdout",
     "output_type": "stream",
     "text": [
      "124.47119658119658\n",
      "33.0\n",
      "294.1143451116421\n"
     ]
    }
   ],
   "source": [
    "print(data.number_of_reviews.mean())\n",
    "print(data.number_of_reviews.median())\n",
    "print(data.number_of_reviews.std())"
   ]
  },
  {
   "cell_type": "code",
   "execution_count": 48,
   "metadata": {
    "execution": {
     "iopub.execute_input": "2021-06-16T11:14:55.826850Z",
     "iopub.status.busy": "2021-06-16T11:14:55.826439Z",
     "iopub.status.idle": "2021-06-16T11:14:56.174377Z",
     "shell.execute_reply": "2021-06-16T11:14:56.173185Z",
     "shell.execute_reply.started": "2021-06-16T11:14:55.826803Z"
    }
   },
   "outputs": [
    {
     "data": {
      "image/png": "[encoded data removed]",
      "text/plain": [
       "<Figure size 792x576 with 1 Axes>"
      ]
     },
     "metadata": {},
     "output_type": "display_data"
    }
   ],
   "source": [
    "# Вычислить медиану для каждой группы рестроранов, сгруппированных по кол-ву предлагаемых видов кухни. \n",
    "reviews_count_data = pd.DataFrame(data.groupby('cuisine_count').median().number_of_reviews)\n",
    "plot = reviews_count_data.plot.bar(title='Медианное значение кол-ва отзывов по кол-ву видов кухни')\n",
    "for p in plot.patches:\n",
    "    plot.annotate(str(int(p.get_height())), (p.get_x() , p.get_height()), color='purple')"
   ]
  },
  {
   "cell_type": "code",
   "execution_count": 49,
   "metadata": {
    "execution": {
     "iopub.execute_input": "2021-06-16T11:14:56.176922Z",
     "iopub.status.busy": "2021-06-16T11:14:56.176264Z",
     "iopub.status.idle": "2021-06-16T11:14:59.068319Z",
     "shell.execute_reply": "2021-06-16T11:14:59.067297Z",
     "shell.execute_reply.started": "2021-06-16T11:14:56.176575Z"
    }
   },
   "outputs": [],
   "source": [
    "# Заполнить неизвестные значения медианой соответсвенно группе, которой принадлежит ресторан. \n",
    "data.number_of_reviews = data.apply(lambda row: (reviews_count_data.loc[row.cuisine_count])[0] if np.isnan(row.number_of_reviews) else row.number_of_reviews,axis=1)"
   ]
  },
  {
   "cell_type": "code",
   "execution_count": 50,
   "metadata": {
    "execution": {
     "iopub.execute_input": "2021-06-16T11:14:59.069984Z",
     "iopub.status.busy": "2021-06-16T11:14:59.069682Z",
     "iopub.status.idle": "2021-06-16T11:14:59.088642Z",
     "shell.execute_reply": "2021-06-16T11:14:59.087523Z",
     "shell.execute_reply.started": "2021-06-16T11:14:59.069933Z"
    }
   },
   "outputs": [],
   "source": [
    "data.price_range = data.price_range.map({'$': 1, '$$ - $$$': 2, '$$$$': 3})"
   ]
  },
  {
   "cell_type": "markdown",
   "metadata": {},
   "source": [
    "## Feature Engineering, обработка новых признаков и РАД\n",
    "\n",
    "Создаю новые признаки, путем добавления информации из других датасетов, импортированных ранее. "
   ]
  },
  {
   "cell_type": "markdown",
   "metadata": {},
   "source": [
    "### Новые признаки **capital**, **is_capital**, **population**, **coastline**, **gdp**, **phones**, **agriculture**, **service**"
   ]
  },
  {
   "cell_type": "code",
   "execution_count": 51,
   "metadata": {
    "execution": {
     "iopub.execute_input": "2021-06-16T11:14:59.090465Z",
     "iopub.status.busy": "2021-06-16T11:14:59.090158Z",
     "iopub.status.idle": "2021-06-16T11:15:01.426978Z",
     "shell.execute_reply": "2021-06-16T11:15:01.425874Z",
     "shell.execute_reply.started": "2021-06-16T11:14:59.090411Z"
    }
   },
   "outputs": [
    {
     "data": {
      "text/html": [
       "<div>\n",
       "<style scoped>\n",
       "    .dataframe tbody tr th:only-of-type {\n",
       "        vertical-align: middle;\n",
       "    }\n",
       "\n",
       "    .dataframe tbody tr th {\n",
       "        vertical-align: top;\n",
       "    }\n",
       "\n",
       "    .dataframe thead th {\n",
       "        text-align: right;\n",
       "    }\n",
       "</style>\n",
       "<table border=\"1\" class=\"dataframe\">\n",
       "  <thead>\n",
       "    <tr style=\"text-align: right;\">\n",
       "      <th></th>\n",
       "      <th>country</th>\n",
       "      <th>capital</th>\n",
       "      <th>population</th>\n",
       "      <th>coastline</th>\n",
       "      <th>gdp</th>\n",
       "      <th>phones</th>\n",
       "      <th>agriculture</th>\n",
       "      <th>service</th>\n",
       "    </tr>\n",
       "  </thead>\n",
       "  <tbody>\n",
       "    <tr>\n",
       "      <th>0</th>\n",
       "      <td>France</td>\n",
       "      <td>Paris</td>\n",
       "      <td>11020000</td>\n",
       "      <td>0,63</td>\n",
       "      <td>27600</td>\n",
       "      <td>586,4</td>\n",
       "      <td>0,022</td>\n",
       "      <td>0,764</td>\n",
       "    </tr>\n",
       "    <tr>\n",
       "      <th>1</th>\n",
       "      <td>Finland</td>\n",
       "      <td>Helsinki</td>\n",
       "      <td>642045</td>\n",
       "      <td>0,37</td>\n",
       "      <td>27400</td>\n",
       "      <td>405,3</td>\n",
       "      <td>0,028</td>\n",
       "      <td>0,676</td>\n",
       "    </tr>\n",
       "    <tr>\n",
       "      <th>2</th>\n",
       "      <td>United Kingdom</td>\n",
       "      <td>London</td>\n",
       "      <td>488050</td>\n",
       "      <td>5,08</td>\n",
       "      <td>27700</td>\n",
       "      <td>543,5</td>\n",
       "      <td>0,005</td>\n",
       "      <td>0,758</td>\n",
       "    </tr>\n",
       "    <tr>\n",
       "      <th>3</th>\n",
       "      <td>United Kingdom</td>\n",
       "      <td>London</td>\n",
       "      <td>10979000</td>\n",
       "      <td>5,08</td>\n",
       "      <td>27700</td>\n",
       "      <td>543,5</td>\n",
       "      <td>0,005</td>\n",
       "      <td>0,758</td>\n",
       "    </tr>\n",
       "    <tr>\n",
       "      <th>4</th>\n",
       "      <td>Slovakia</td>\n",
       "      <td>Bratislava</td>\n",
       "      <td>429564</td>\n",
       "      <td>0,00</td>\n",
       "      <td>13300</td>\n",
       "      <td>220,1</td>\n",
       "      <td>0,035</td>\n",
       "      <td>0,672</td>\n",
       "    </tr>\n",
       "    <tr>\n",
       "      <th>...</th>\n",
       "      <td>...</td>\n",
       "      <td>...</td>\n",
       "      <td>...</td>\n",
       "      <td>...</td>\n",
       "      <td>...</td>\n",
       "      <td>...</td>\n",
       "      <td>...</td>\n",
       "      <td>...</td>\n",
       "    </tr>\n",
       "    <tr>\n",
       "      <th>49995</th>\n",
       "      <td>Italy</td>\n",
       "      <td>Rome</td>\n",
       "      <td>1351562</td>\n",
       "      <td>2,52</td>\n",
       "      <td>26700</td>\n",
       "      <td>430,9</td>\n",
       "      <td>0,021</td>\n",
       "      <td>0,688</td>\n",
       "    </tr>\n",
       "    <tr>\n",
       "      <th>49996</th>\n",
       "      <td>France</td>\n",
       "      <td>Paris</td>\n",
       "      <td>11020000</td>\n",
       "      <td>0,63</td>\n",
       "      <td>27600</td>\n",
       "      <td>586,4</td>\n",
       "      <td>0,022</td>\n",
       "      <td>0,764</td>\n",
       "    </tr>\n",
       "    <tr>\n",
       "      <th>49997</th>\n",
       "      <td>Sweden</td>\n",
       "      <td>Stockholm</td>\n",
       "      <td>972647</td>\n",
       "      <td>0,72</td>\n",
       "      <td>26800</td>\n",
       "      <td>715,0</td>\n",
       "      <td>0,011</td>\n",
       "      <td>0,707</td>\n",
       "    </tr>\n",
       "    <tr>\n",
       "      <th>49998</th>\n",
       "      <td>Poland</td>\n",
       "      <td>Warsaw</td>\n",
       "      <td>1790658</td>\n",
       "      <td>0,16</td>\n",
       "      <td>11100</td>\n",
       "      <td>306,3</td>\n",
       "      <td>0,05</td>\n",
       "      <td>0,64</td>\n",
       "    </tr>\n",
       "    <tr>\n",
       "      <th>49999</th>\n",
       "      <td>Italy</td>\n",
       "      <td>Rome</td>\n",
       "      <td>1351562</td>\n",
       "      <td>2,52</td>\n",
       "      <td>26700</td>\n",
       "      <td>430,9</td>\n",
       "      <td>0,021</td>\n",
       "      <td>0,688</td>\n",
       "    </tr>\n",
       "  </tbody>\n",
       "</table>\n",
       "<p>50000 rows × 8 columns</p>\n",
       "</div>"
      ],
      "text/plain": [
       "              country     capital population coastline    gdp phones  \\\n",
       "0              France       Paris   11020000      0,63  27600  586,4   \n",
       "1             Finland    Helsinki     642045      0,37  27400  405,3   \n",
       "2      United Kingdom      London     488050      5,08  27700  543,5   \n",
       "3      United Kingdom      London   10979000      5,08  27700  543,5   \n",
       "4            Slovakia  Bratislava     429564      0,00  13300  220,1   \n",
       "...               ...         ...        ...       ...    ...    ...   \n",
       "49995           Italy        Rome    1351562      2,52  26700  430,9   \n",
       "49996          France       Paris   11020000      0,63  27600  586,4   \n",
       "49997          Sweden   Stockholm     972647      0,72  26800  715,0   \n",
       "49998          Poland      Warsaw    1790658      0,16  11100  306,3   \n",
       "49999           Italy        Rome    1351562      2,52  26700  430,9   \n",
       "\n",
       "      agriculture service  \n",
       "0           0,022   0,764  \n",
       "1           0,028   0,676  \n",
       "2           0,005   0,758  \n",
       "3           0,005   0,758  \n",
       "4           0,035   0,672  \n",
       "...           ...     ...  \n",
       "49995       0,021   0,688  \n",
       "49996       0,022   0,764  \n",
       "49997       0,011   0,707  \n",
       "49998        0,05    0,64  \n",
       "49999       0,021   0,688  \n",
       "\n",
       "[50000 rows x 8 columns]"
      ]
     },
     "execution_count": 51,
     "metadata": {},
     "output_type": "execute_result"
    }
   ],
   "source": [
    "new_cols = ['country','capital','population','coastline','gdp','phones','agriculture','service']\n",
    "for col in new_cols:\n",
    "    data[col] = pd.Series(np.array([None]*data.shape[0]))\n",
    "\n",
    "# Заполнить значения новых признаков в главном датасете с помощью датасета о городах. \n",
    "for city_name in data.city.unique():\n",
    "    if city_name in cities.index:\n",
    "        try:\n",
    "            data.loc[(data.city == city_name), 'country'] = cities.loc[city_name].country\n",
    "            data.loc[(data.city == city_name), 'population'] = int(cities.loc[city_name].population)\n",
    "        except:\n",
    "            data.loc[(data.city  == city_name), 'country'] = cities.loc[city_name].country.values[0]\n",
    "            data.loc[(data.city == city_name), 'population'] = int(cities.loc[city_name].population.values[0])\n",
    "\n",
    "for country_name in data.country.unique():\n",
    "    if country_name in capitals.index:\n",
    "            data.loc[data.country == country_name,'capital'] = capitals.loc[country_name].capital\n",
    "    if country_name in countries.index:\n",
    "        for col in ['coastline','gdp','phones','agriculture','service']:\n",
    "                data.loc[data.country == country_name, col] = countries.loc[country_name][col]\n",
    "data[new_cols]"
   ]
  },
  {
   "cell_type": "code",
   "execution_count": 52,
   "metadata": {
    "execution": {
     "iopub.execute_input": "2021-06-16T11:15:01.428835Z",
     "iopub.status.busy": "2021-06-16T11:15:01.428527Z",
     "iopub.status.idle": "2021-06-16T11:15:01.861414Z",
     "shell.execute_reply": "2021-06-16T11:15:01.860517Z",
     "shell.execute_reply.started": "2021-06-16T11:15:01.428783Z"
    }
   },
   "outputs": [],
   "source": [
    "to_change = ['coastline','phones','agriculture','service','gdp']\n",
    "for col in to_change: \n",
    "    data[col] = pd.to_numeric(data[col].astype(str).str.replace(',','.'), errors='coerce')"
   ]
  },
  {
   "cell_type": "code",
   "execution_count": 53,
   "metadata": {
    "execution": {
     "iopub.execute_input": "2021-06-16T11:15:01.863546Z",
     "iopub.status.busy": "2021-06-16T11:15:01.863254Z",
     "iopub.status.idle": "2021-06-16T11:15:01.890617Z",
     "shell.execute_reply": "2021-06-16T11:15:01.889496Z",
     "shell.execute_reply.started": "2021-06-16T11:15:01.863492Z"
    }
   },
   "outputs": [
    {
     "data": {
      "text/html": [
       "<div>\n",
       "<style scoped>\n",
       "    .dataframe tbody tr th:only-of-type {\n",
       "        vertical-align: middle;\n",
       "    }\n",
       "\n",
       "    .dataframe tbody tr th {\n",
       "        vertical-align: top;\n",
       "    }\n",
       "\n",
       "    .dataframe thead th {\n",
       "        text-align: right;\n",
       "    }\n",
       "</style>\n",
       "<table border=\"1\" class=\"dataframe\">\n",
       "  <thead>\n",
       "    <tr style=\"text-align: right;\">\n",
       "      <th></th>\n",
       "      <th>country</th>\n",
       "      <th>capital</th>\n",
       "      <th>population</th>\n",
       "      <th>coastline</th>\n",
       "      <th>gdp</th>\n",
       "      <th>phones</th>\n",
       "      <th>agriculture</th>\n",
       "      <th>service</th>\n",
       "    </tr>\n",
       "  </thead>\n",
       "  <tbody>\n",
       "    <tr>\n",
       "      <th>0</th>\n",
       "      <td>France</td>\n",
       "      <td>Paris</td>\n",
       "      <td>11020000</td>\n",
       "      <td>0.63</td>\n",
       "      <td>27600.0</td>\n",
       "      <td>586.4</td>\n",
       "      <td>0.022</td>\n",
       "      <td>0.764</td>\n",
       "    </tr>\n",
       "    <tr>\n",
       "      <th>1</th>\n",
       "      <td>Finland</td>\n",
       "      <td>Helsinki</td>\n",
       "      <td>642045</td>\n",
       "      <td>0.37</td>\n",
       "      <td>27400.0</td>\n",
       "      <td>405.3</td>\n",
       "      <td>0.028</td>\n",
       "      <td>0.676</td>\n",
       "    </tr>\n",
       "    <tr>\n",
       "      <th>2</th>\n",
       "      <td>United Kingdom</td>\n",
       "      <td>London</td>\n",
       "      <td>488050</td>\n",
       "      <td>5.08</td>\n",
       "      <td>27700.0</td>\n",
       "      <td>543.5</td>\n",
       "      <td>0.005</td>\n",
       "      <td>0.758</td>\n",
       "    </tr>\n",
       "    <tr>\n",
       "      <th>3</th>\n",
       "      <td>United Kingdom</td>\n",
       "      <td>London</td>\n",
       "      <td>10979000</td>\n",
       "      <td>5.08</td>\n",
       "      <td>27700.0</td>\n",
       "      <td>543.5</td>\n",
       "      <td>0.005</td>\n",
       "      <td>0.758</td>\n",
       "    </tr>\n",
       "    <tr>\n",
       "      <th>4</th>\n",
       "      <td>Slovakia</td>\n",
       "      <td>Bratislava</td>\n",
       "      <td>429564</td>\n",
       "      <td>0.00</td>\n",
       "      <td>13300.0</td>\n",
       "      <td>220.1</td>\n",
       "      <td>0.035</td>\n",
       "      <td>0.672</td>\n",
       "    </tr>\n",
       "    <tr>\n",
       "      <th>...</th>\n",
       "      <td>...</td>\n",
       "      <td>...</td>\n",
       "      <td>...</td>\n",
       "      <td>...</td>\n",
       "      <td>...</td>\n",
       "      <td>...</td>\n",
       "      <td>...</td>\n",
       "      <td>...</td>\n",
       "    </tr>\n",
       "    <tr>\n",
       "      <th>49995</th>\n",
       "      <td>Italy</td>\n",
       "      <td>Rome</td>\n",
       "      <td>1351562</td>\n",
       "      <td>2.52</td>\n",
       "      <td>26700.0</td>\n",
       "      <td>430.9</td>\n",
       "      <td>0.021</td>\n",
       "      <td>0.688</td>\n",
       "    </tr>\n",
       "    <tr>\n",
       "      <th>49996</th>\n",
       "      <td>France</td>\n",
       "      <td>Paris</td>\n",
       "      <td>11020000</td>\n",
       "      <td>0.63</td>\n",
       "      <td>27600.0</td>\n",
       "      <td>586.4</td>\n",
       "      <td>0.022</td>\n",
       "      <td>0.764</td>\n",
       "    </tr>\n",
       "    <tr>\n",
       "      <th>49997</th>\n",
       "      <td>Sweden</td>\n",
       "      <td>Stockholm</td>\n",
       "      <td>972647</td>\n",
       "      <td>0.72</td>\n",
       "      <td>26800.0</td>\n",
       "      <td>715.0</td>\n",
       "      <td>0.011</td>\n",
       "      <td>0.707</td>\n",
       "    </tr>\n",
       "    <tr>\n",
       "      <th>49998</th>\n",
       "      <td>Poland</td>\n",
       "      <td>Warsaw</td>\n",
       "      <td>1790658</td>\n",
       "      <td>0.16</td>\n",
       "      <td>11100.0</td>\n",
       "      <td>306.3</td>\n",
       "      <td>0.050</td>\n",
       "      <td>0.640</td>\n",
       "    </tr>\n",
       "    <tr>\n",
       "      <th>49999</th>\n",
       "      <td>Italy</td>\n",
       "      <td>Rome</td>\n",
       "      <td>1351562</td>\n",
       "      <td>2.52</td>\n",
       "      <td>26700.0</td>\n",
       "      <td>430.9</td>\n",
       "      <td>0.021</td>\n",
       "      <td>0.688</td>\n",
       "    </tr>\n",
       "  </tbody>\n",
       "</table>\n",
       "<p>50000 rows × 8 columns</p>\n",
       "</div>"
      ],
      "text/plain": [
       "              country     capital population  coastline      gdp  phones  \\\n",
       "0              France       Paris   11020000       0.63  27600.0   586.4   \n",
       "1             Finland    Helsinki     642045       0.37  27400.0   405.3   \n",
       "2      United Kingdom      London     488050       5.08  27700.0   543.5   \n",
       "3      United Kingdom      London   10979000       5.08  27700.0   543.5   \n",
       "4            Slovakia  Bratislava     429564       0.00  13300.0   220.1   \n",
       "...               ...         ...        ...        ...      ...     ...   \n",
       "49995           Italy        Rome    1351562       2.52  26700.0   430.9   \n",
       "49996          France       Paris   11020000       0.63  27600.0   586.4   \n",
       "49997          Sweden   Stockholm     972647       0.72  26800.0   715.0   \n",
       "49998          Poland      Warsaw    1790658       0.16  11100.0   306.3   \n",
       "49999           Italy        Rome    1351562       2.52  26700.0   430.9   \n",
       "\n",
       "       agriculture  service  \n",
       "0            0.022    0.764  \n",
       "1            0.028    0.676  \n",
       "2            0.005    0.758  \n",
       "3            0.005    0.758  \n",
       "4            0.035    0.672  \n",
       "...            ...      ...  \n",
       "49995        0.021    0.688  \n",
       "49996        0.022    0.764  \n",
       "49997        0.011    0.707  \n",
       "49998        0.050    0.640  \n",
       "49999        0.021    0.688  \n",
       "\n",
       "[50000 rows x 8 columns]"
      ]
     },
     "execution_count": 53,
     "metadata": {},
     "output_type": "execute_result"
    }
   ],
   "source": [
    "data[new_cols]"
   ]
  },
  {
   "cell_type": "code",
   "execution_count": 54,
   "metadata": {
    "execution": {
     "iopub.execute_input": "2021-06-16T11:15:01.892309Z",
     "iopub.status.busy": "2021-06-16T11:15:01.891981Z",
     "iopub.status.idle": "2021-06-16T11:15:01.984012Z",
     "shell.execute_reply": "2021-06-16T11:15:01.982983Z",
     "shell.execute_reply.started": "2021-06-16T11:15:01.892257Z"
    }
   },
   "outputs": [],
   "source": [
    "# Заполнить вручную отстутствующие значения для популяции и стран.\n",
    "data.loc[(data.city == 'Oporto'), 'population'] = 214349\n",
    "data.loc[(data.city == 'Zurich'), 'population'] = 402762\n",
    "data.loc[(data.city == 'Krakow'), 'population'] = 766683\n",
    "\n",
    "data.loc[(data.city == 'Oporto'), 'country'] = 'Portugal'\n",
    "data.loc[(data.city == 'Zurich'), 'country'] = 'Switzerland'\n",
    "data.loc[(data.city == 'Krakow'), 'country'] = 'Poland'"
   ]
  },
  {
   "cell_type": "code",
   "execution_count": 55,
   "metadata": {
    "execution": {
     "iopub.execute_input": "2021-06-16T11:15:01.985628Z",
     "iopub.status.busy": "2021-06-16T11:15:01.985334Z",
     "iopub.status.idle": "2021-06-16T11:15:02.003420Z",
     "shell.execute_reply": "2021-06-16T11:15:02.001868Z",
     "shell.execute_reply.started": "2021-06-16T11:15:01.985577Z"
    }
   },
   "outputs": [
    {
     "data": {
      "text/plain": [
       "array(['Czechia', 'Portugal', 'Poland', 'Switzerland'], dtype=object)"
      ]
     },
     "execution_count": 55,
     "metadata": {},
     "output_type": "execute_result"
    }
   ],
   "source": [
    "data[data.capital.isnull()]['country'].unique()"
   ]
  },
  {
   "cell_type": "code",
   "execution_count": 56,
   "metadata": {
    "execution": {
     "iopub.execute_input": "2021-06-16T11:15:02.005284Z",
     "iopub.status.busy": "2021-06-16T11:15:02.004955Z",
     "iopub.status.idle": "2021-06-16T11:15:02.010940Z",
     "shell.execute_reply": "2021-06-16T11:15:02.009907Z",
     "shell.execute_reply.started": "2021-06-16T11:15:02.005229Z"
    }
   },
   "outputs": [],
   "source": [
    "missing_info = {'Czechia': ['Prague', 23495, 0], 'Portugal': ['Lisbon', 23252, 0.98],'Poland': ['Warsaw', 15693, 0],'Switzerland': ['Bern', 81994,0]}"
   ]
  },
  {
   "cell_type": "code",
   "execution_count": 57,
   "metadata": {
    "execution": {
     "iopub.execute_input": "2021-06-16T11:15:02.012935Z",
     "iopub.status.busy": "2021-06-16T11:15:02.012567Z",
     "iopub.status.idle": "2021-06-16T11:15:02.031429Z",
     "shell.execute_reply": "2021-06-16T11:15:02.030390Z",
     "shell.execute_reply.started": "2021-06-16T11:15:02.012853Z"
    }
   },
   "outputs": [
    {
     "data": {
      "text/plain": [
       "['Lisbon', 23252, 0.98]"
      ]
     },
     "execution_count": 57,
     "metadata": {},
     "output_type": "execute_result"
    }
   ],
   "source": [
    "missing_info['Portugal']"
   ]
  },
  {
   "cell_type": "code",
   "execution_count": 58,
   "metadata": {
    "execution": {
     "iopub.execute_input": "2021-06-16T11:15:02.033182Z",
     "iopub.status.busy": "2021-06-16T11:15:02.032762Z",
     "iopub.status.idle": "2021-06-16T11:15:02.162731Z",
     "shell.execute_reply": "2021-06-16T11:15:02.161669Z",
     "shell.execute_reply.started": "2021-06-16T11:15:02.033003Z"
    }
   },
   "outputs": [],
   "source": [
    "# Найти для каких стран нет информации по столицам,ввп и соотношению береговой линии и заполнить вручную.\n",
    "missing = data[data.capital.isnull()]['country'].unique()\n",
    "missing_info = {'Czechia': ['Prague', 23495, 0], 'Portugal': ['Lisbon', 23252, 0.98],'Poland': ['Warsaw', 15693, 0],'Switzerland': ['Bern', 81994,0]}\n",
    "\n",
    "for country in missing:\n",
    "    for i,col in zip([0,1,2], ['capital', 'gdp', 'coastline']):\n",
    "        data.loc[(data.country == country), col] = missing_info[country][i]"
   ]
  },
  {
   "cell_type": "code",
   "execution_count": 59,
   "metadata": {
    "execution": {
     "iopub.execute_input": "2021-06-16T11:15:02.164491Z",
     "iopub.status.busy": "2021-06-16T11:15:02.164229Z",
     "iopub.status.idle": "2021-06-16T11:15:02.420756Z",
     "shell.execute_reply": "2021-06-16T11:15:02.419690Z",
     "shell.execute_reply.started": "2021-06-16T11:15:02.164446Z"
    }
   },
   "outputs": [],
   "source": [
    "# Создать признак is_capital\n",
    "new_cols.append('is_capital')\n",
    "data['is_capital'] = pd.Series(np.array([0]*data.shape[0]))\n",
    "for capital_name in data.capital.unique():\n",
    "    data.loc[(data.city == capital_name), 'is_capital'] = 1"
   ]
  },
  {
   "cell_type": "code",
   "execution_count": 60,
   "metadata": {
    "execution": {
     "iopub.execute_input": "2021-06-16T11:15:02.422573Z",
     "iopub.status.busy": "2021-06-16T11:15:02.422308Z",
     "iopub.status.idle": "2021-06-16T11:15:02.439398Z",
     "shell.execute_reply": "2021-06-16T11:15:02.438310Z",
     "shell.execute_reply.started": "2021-06-16T11:15:02.422530Z"
    }
   },
   "outputs": [
    {
     "data": {
      "text/html": [
       "<div>\n",
       "<style scoped>\n",
       "    .dataframe tbody tr th:only-of-type {\n",
       "        vertical-align: middle;\n",
       "    }\n",
       "\n",
       "    .dataframe tbody tr th {\n",
       "        vertical-align: top;\n",
       "    }\n",
       "\n",
       "    .dataframe thead th {\n",
       "        text-align: right;\n",
       "    }\n",
       "</style>\n",
       "<table border=\"1\" class=\"dataframe\">\n",
       "  <thead>\n",
       "    <tr style=\"text-align: right;\">\n",
       "      <th></th>\n",
       "      <th>country</th>\n",
       "      <th>city</th>\n",
       "      <th>capital</th>\n",
       "      <th>is_capital</th>\n",
       "    </tr>\n",
       "  </thead>\n",
       "  <tbody>\n",
       "    <tr>\n",
       "      <th>45301</th>\n",
       "      <td>Switzerland</td>\n",
       "      <td>Zurich</td>\n",
       "      <td>Bern</td>\n",
       "      <td>0</td>\n",
       "    </tr>\n",
       "    <tr>\n",
       "      <th>44138</th>\n",
       "      <td>Spain</td>\n",
       "      <td>Barcelona</td>\n",
       "      <td>Madrid</td>\n",
       "      <td>0</td>\n",
       "    </tr>\n",
       "    <tr>\n",
       "      <th>28624</th>\n",
       "      <td>United Kingdom</td>\n",
       "      <td>London</td>\n",
       "      <td>London</td>\n",
       "      <td>1</td>\n",
       "    </tr>\n",
       "    <tr>\n",
       "      <th>12045</th>\n",
       "      <td>Denmark</td>\n",
       "      <td>Copenhagen</td>\n",
       "      <td>Copenhagen</td>\n",
       "      <td>1</td>\n",
       "    </tr>\n",
       "    <tr>\n",
       "      <th>2626</th>\n",
       "      <td>France</td>\n",
       "      <td>Paris</td>\n",
       "      <td>Paris</td>\n",
       "      <td>1</td>\n",
       "    </tr>\n",
       "    <tr>\n",
       "      <th>46120</th>\n",
       "      <td>France</td>\n",
       "      <td>Paris</td>\n",
       "      <td>Paris</td>\n",
       "      <td>1</td>\n",
       "    </tr>\n",
       "    <tr>\n",
       "      <th>26713</th>\n",
       "      <td>France</td>\n",
       "      <td>Paris</td>\n",
       "      <td>Paris</td>\n",
       "      <td>1</td>\n",
       "    </tr>\n",
       "    <tr>\n",
       "      <th>20422</th>\n",
       "      <td>United Kingdom</td>\n",
       "      <td>London</td>\n",
       "      <td>London</td>\n",
       "      <td>1</td>\n",
       "    </tr>\n",
       "    <tr>\n",
       "      <th>46273</th>\n",
       "      <td>Czechia</td>\n",
       "      <td>Prague</td>\n",
       "      <td>Prague</td>\n",
       "      <td>1</td>\n",
       "    </tr>\n",
       "    <tr>\n",
       "      <th>46860</th>\n",
       "      <td>United Kingdom</td>\n",
       "      <td>London</td>\n",
       "      <td>London</td>\n",
       "      <td>1</td>\n",
       "    </tr>\n",
       "  </tbody>\n",
       "</table>\n",
       "</div>"
      ],
      "text/plain": [
       "              country        city     capital  is_capital\n",
       "45301     Switzerland      Zurich        Bern           0\n",
       "44138           Spain   Barcelona      Madrid           0\n",
       "28624  United Kingdom      London      London           1\n",
       "12045         Denmark  Copenhagen  Copenhagen           1\n",
       "2626           France       Paris       Paris           1\n",
       "46120          France       Paris       Paris           1\n",
       "26713          France       Paris       Paris           1\n",
       "20422  United Kingdom      London      London           1\n",
       "46273         Czechia      Prague      Prague           1\n",
       "46860  United Kingdom      London      London           1"
      ]
     },
     "execution_count": 60,
     "metadata": {},
     "output_type": "execute_result"
    }
   ],
   "source": [
    "data[['country','city','capital','is_capital']].sample(10)"
   ]
  },
  {
   "cell_type": "markdown",
   "metadata": {},
   "source": [
    "Сервис и агрокультура не сильно разнятся по странам или ВВП, поэтому заполняю пропущенные значения средним значением. "
   ]
  },
  {
   "cell_type": "code",
   "execution_count": 61,
   "metadata": {
    "execution": {
     "iopub.execute_input": "2021-06-16T11:15:02.440909Z",
     "iopub.status.busy": "2021-06-16T11:15:02.440660Z",
     "iopub.status.idle": "2021-06-16T11:15:03.384321Z",
     "shell.execute_reply": "2021-06-16T11:15:03.383282Z",
     "shell.execute_reply.started": "2021-06-16T11:15:02.440867Z"
    }
   },
   "outputs": [
    {
     "name": "stderr",
     "output_type": "stream",
     "text": [
      "<ipython-input-61-e8e1b22a6bb3>:4: FutureWarning: Indexing with multiple keys (implicitly converted to a tuple of keys) will be deprecated, use a list instead.\n",
      "  data.groupby('country')['service','agriculture'].mean().plot.bar(ax = axes[0],rot = 90, title = 'Развитость по сервису vs агрокультуре по странам');\n",
      "<ipython-input-61-e8e1b22a6bb3>:5: FutureWarning: Indexing with multiple keys (implicitly converted to a tuple of keys) will be deprecated, use a list instead.\n",
      "  data.groupby('gdp')['service','agriculture'].mean().plot.bar(ax = axes[1],rot = 90, title = 'Развитость по сервису vs агрокультуре по ВВП');\n"
     ]
    },
    {
     "data": {
      "image/png": "[encoded data removed]",
      "text/plain": [
       "<Figure size 1080x1080 with 2 Axes>"
      ]
     },
     "metadata": {},
     "output_type": "display_data"
    }
   ],
   "source": [
    "figure, axes = plt.subplots(2, 1, figsize=(15,15))\n",
    "figure.tight_layout(pad=9.0)\n",
    "\n",
    "data.groupby('country')['service','agriculture'].mean().plot.bar(ax = axes[0],rot = 90, title = 'Развитость по сервису vs агрокультуре по странам');\n",
    "data.groupby('gdp')['service','agriculture'].mean().plot.bar(ax = axes[1],rot = 90, title = 'Развитость по сервису vs агрокультуре по ВВП');"
   ]
  },
  {
   "cell_type": "markdown",
   "metadata": {},
   "source": [
    "Сервис и агрокультура не сильно разнятся по странам или ВВП, поэтому заполняю пропущенные значения средним значением. "
   ]
  },
  {
   "cell_type": "code",
   "execution_count": 62,
   "metadata": {
    "execution": {
     "iopub.execute_input": "2021-06-16T11:15:03.386452Z",
     "iopub.status.busy": "2021-06-16T11:15:03.386096Z",
     "iopub.status.idle": "2021-06-16T11:15:03.396755Z",
     "shell.execute_reply": "2021-06-16T11:15:03.396006Z",
     "shell.execute_reply.started": "2021-06-16T11:15:03.386395Z"
    }
   },
   "outputs": [],
   "source": [
    "data['service'].fillna(data['service'].mean(), inplace = True)\n",
    "data['agriculture'].fillna(data['agriculture'].mean(), inplace = True)"
   ]
  },
  {
   "cell_type": "code",
   "execution_count": 63,
   "metadata": {
    "execution": {
     "iopub.execute_input": "2021-06-16T11:15:03.399085Z",
     "iopub.status.busy": "2021-06-16T11:15:03.398430Z",
     "iopub.status.idle": "2021-06-16T11:15:04.107155Z",
     "shell.execute_reply": "2021-06-16T11:15:04.106204Z",
     "shell.execute_reply.started": "2021-06-16T11:15:03.399010Z"
    }
   },
   "outputs": [
    {
     "data": {
      "image/png": "[encoded data removed]",
      "text/plain": [
       "<Figure size 1080x1080 with 2 Axes>"
      ]
     },
     "metadata": {},
     "output_type": "display_data"
    }
   ],
   "source": [
    "figure, axes = plt.subplots(2, 1, figsize=(15,15))\n",
    "figure.tight_layout(pad=10)\n",
    "data.groupby('country')['phones'].mean().plot.bar(ax = axes[0], rot = 90, title = 'Кол-во телефонов на 1000 человек по странам', color='orange')\n",
    "data.groupby('gdp')['phones'].mean().plot.bar(ax = axes[1],rot = 90, title = 'Кол-во телефонов на 1000 человек по ВВП', color='purple')\n",
    "plt.show()"
   ]
  },
  {
   "cell_type": "markdown",
   "metadata": {},
   "source": [
    "Пропущенные значения кол-ва телефонов заменяю медианой,так как значения по странам и ввп разнятся.  "
   ]
  },
  {
   "cell_type": "code",
   "execution_count": 64,
   "metadata": {
    "execution": {
     "iopub.execute_input": "2021-06-16T11:15:04.109524Z",
     "iopub.status.busy": "2021-06-16T11:15:04.108870Z",
     "iopub.status.idle": "2021-06-16T11:15:04.117619Z",
     "shell.execute_reply": "2021-06-16T11:15:04.116622Z",
     "shell.execute_reply.started": "2021-06-16T11:15:04.109462Z"
    }
   },
   "outputs": [],
   "source": [
    "data['phones'].fillna(data['phones'].median(), inplace = True)"
   ]
  },
  {
   "cell_type": "markdown",
   "metadata": {},
   "source": [
    "Создаю новые признаки с названиями, соответствующими видам кухни"
   ]
  },
  {
   "cell_type": "code",
   "execution_count": 65,
   "metadata": {
    "execution": {
     "iopub.execute_input": "2021-06-16T11:15:04.120080Z",
     "iopub.status.busy": "2021-06-16T11:15:04.119411Z",
     "iopub.status.idle": "2021-06-16T11:15:04.395963Z",
     "shell.execute_reply": "2021-06-16T11:15:04.395188Z",
     "shell.execute_reply.started": "2021-06-16T11:15:04.119995Z"
    }
   },
   "outputs": [],
   "source": [
    "from sklearn.preprocessing import MultiLabelBinarizer\n",
    "\n",
    "mlb = MultiLabelBinarizer()\n",
    "\n",
    "data = data.join(pd.DataFrame(mlb.fit_transform(data.pop('cuisine_style')), index=data.index, columns=mlb.classes_))"
   ]
  },
  {
   "cell_type": "code",
   "execution_count": 66,
   "metadata": {
    "execution": {
     "iopub.execute_input": "2021-06-16T11:15:04.398338Z",
     "iopub.status.busy": "2021-06-16T11:15:04.397655Z",
     "iopub.status.idle": "2021-06-16T11:15:04.546582Z",
     "shell.execute_reply": "2021-06-16T11:15:04.545741Z",
     "shell.execute_reply.started": "2021-06-16T11:15:04.398279Z"
    }
   },
   "outputs": [],
   "source": [
    "# Создать новый столбец с городами, чтобы применить к нему метод get_dummies\n",
    "data['new_city'] = data['city']\n",
    "data = pd.get_dummies(data, columns= ['new_city'])"
   ]
  },
  {
   "cell_type": "markdown",
   "metadata": {},
   "source": [
    "### Более подробный анализ признаков **ranking**, так как он должен быть связан с целевой переменной"
   ]
  },
  {
   "cell_type": "code",
   "execution_count": 67,
   "metadata": {
    "execution": {
     "iopub.execute_input": "2021-06-16T11:15:04.549163Z",
     "iopub.status.busy": "2021-06-16T11:15:04.548420Z",
     "iopub.status.idle": "2021-06-16T11:15:04.958353Z",
     "shell.execute_reply": "2021-06-16T11:15:04.957425Z",
     "shell.execute_reply.started": "2021-06-16T11:15:04.549096Z"
    }
   },
   "outputs": [
    {
     "data": {
      "text/plain": [
       "<AxesSubplot:>"
      ]
     },
     "execution_count": 67,
     "metadata": {},
     "output_type": "execute_result"
    },
    {
     "data": {
      "image/png": "[encoded data removed]",
      "text/plain": [
       "<Figure size 792x576 with 1 Axes>"
      ]
     },
     "metadata": {},
     "output_type": "display_data"
    }
   ],
   "source": [
    "# Посторить распределение ранга ресторонов в общем.\n",
    "data['ranking'].hist(bins=100)"
   ]
  },
  {
   "cell_type": "code",
   "execution_count": 68,
   "metadata": {
    "execution": {
     "iopub.execute_input": "2021-06-16T11:15:04.960814Z",
     "iopub.status.busy": "2021-06-16T11:15:04.960114Z",
     "iopub.status.idle": "2021-06-16T11:15:05.744344Z",
     "shell.execute_reply": "2021-06-16T11:15:05.743081Z",
     "shell.execute_reply.started": "2021-06-16T11:15:04.960751Z"
    }
   },
   "outputs": [
    {
     "data": {
      "image/png": "[encoded data removed]",
      "text/plain": [
       "<Figure size 1080x1080 with 2 Axes>"
      ]
     },
     "metadata": {},
     "output_type": "display_data"
    }
   ],
   "source": [
    "# Рассмотреть количество ресторанов по городам и странам\n",
    "figure, axes = plt.subplots(1, 2, figsize=(15,15))\n",
    "figure.tight_layout(pad=4)\n",
    "data['city'].value_counts(ascending=True).plot(kind='barh',ax=axes[0]);\n",
    "data['country'].value_counts(ascending=True).plot(kind='barh',ax=axes[1]);"
   ]
  },
  {
   "cell_type": "code",
   "execution_count": 69,
   "metadata": {
    "execution": {
     "iopub.execute_input": "2021-06-16T11:15:05.746730Z",
     "iopub.status.busy": "2021-06-16T11:15:05.746319Z",
     "iopub.status.idle": "2021-06-16T11:15:06.328148Z",
     "shell.execute_reply": "2021-06-16T11:15:06.326859Z",
     "shell.execute_reply.started": "2021-06-16T11:15:05.746670Z"
    }
   },
   "outputs": [
    {
     "data": {
      "image/png": "[encoded data removed]",
      "text/plain": [
       "<Figure size 792x576 with 1 Axes>"
      ]
     },
     "metadata": {},
     "output_type": "display_data"
    }
   ],
   "source": [
    "# Рассмотреть распределение ресторанов одного города. \n",
    "data['ranking'][data['city'] =='London'].hist(bins=100);"
   ]
  },
  {
   "cell_type": "markdown",
   "metadata": {},
   "source": [
    "Из гистограммы ниже следует то,что вероятней всего ранг ресторанов не глобальный, а локальный, то есть в каждом городе в отдельности. "
   ]
  },
  {
   "cell_type": "code",
   "execution_count": 70,
   "metadata": {
    "execution": {
     "iopub.execute_input": "2021-06-16T11:15:06.330518Z",
     "iopub.status.busy": "2021-06-16T11:15:06.329969Z",
     "iopub.status.idle": "2021-06-16T11:15:10.191603Z",
     "shell.execute_reply": "2021-06-16T11:15:10.190580Z",
     "shell.execute_reply.started": "2021-06-16T11:15:06.330309Z"
    }
   },
   "outputs": [
    {
     "data": {
      "image/png": "[encoded data removed]",
      "text/plain": [
       "<Figure size 792x576 with 1 Axes>"
      ]
     },
     "metadata": {},
     "output_type": "display_data"
    }
   ],
   "source": [
    "def show_distr(n, by = 'city', of = 'ranking', title = ''):\n",
    "    top_n = (data[by].value_counts())[0:n].index\n",
    "    for x in top_n:\n",
    "        plot = data[of][data[by] == x].plot(kind='hist', legend=True, bins=100, title=title)\n",
    "    plot.legend(top_n)\n",
    "    plt.show()\n",
    "    \n",
    "def normalise(data, by, feature):\n",
    "    feature_maxes = data.groupby(by)[feature].max()\n",
    "    return data[[by, feature]].apply(lambda row: row[feature] / feature_maxes.loc[row[by]], axis=1)\n",
    "\n",
    "show_distr(10, title = 'Распределение ранга ресторанов городов топ-10 по кол-ву ресторанов')"
   ]
  },
  {
   "cell_type": "code",
   "execution_count": 71,
   "metadata": {
    "execution": {
     "iopub.execute_input": "2021-06-16T11:15:10.193119Z",
     "iopub.status.busy": "2021-06-16T11:15:10.192851Z",
     "iopub.status.idle": "2021-06-16T11:15:13.694662Z",
     "shell.execute_reply": "2021-06-16T11:15:13.693706Z",
     "shell.execute_reply.started": "2021-06-16T11:15:10.193077Z"
    }
   },
   "outputs": [
    {
     "data": {
      "text/plain": [
       "0        0.926855\n",
       "1        0.092901\n",
       "2        0.458664\n",
       "3        0.101496\n",
       "4        0.041620\n",
       "           ...   \n",
       "49995    0.079681\n",
       "49996    0.453382\n",
       "49997    0.670455\n",
       "49998    0.297586\n",
       "49999    0.769243\n",
       "Name: normalised_rank, Length: 50000, dtype: float64"
      ]
     },
     "execution_count": 71,
     "metadata": {},
     "output_type": "execute_result"
    }
   ],
   "source": [
    "# Нормализовать переменную с целью подведения под одну шкалу ранг и создать новый признак\n",
    "data['normalised_rank'] = data['ranking']\n",
    "data['normalised_rank'] = normalise(data, 'city', 'ranking')\n",
    "data['normalised_rank']"
   ]
  },
  {
   "cell_type": "code",
   "execution_count": 72,
   "metadata": {
    "execution": {
     "iopub.execute_input": "2021-06-16T11:15:13.696341Z",
     "iopub.status.busy": "2021-06-16T11:15:13.696066Z",
     "iopub.status.idle": "2021-06-16T11:15:17.527261Z",
     "shell.execute_reply": "2021-06-16T11:15:17.524625Z",
     "shell.execute_reply.started": "2021-06-16T11:15:13.696281Z"
    }
   },
   "outputs": [
    {
     "data": {
      "image/png": "[encoded data removed]",
      "text/plain": [
       "<Figure size 792x576 with 1 Axes>"
      ]
     },
     "metadata": {},
     "output_type": "display_data"
    }
   ],
   "source": [
    "# Показать распределение нового признака нормализованный ранг. \n",
    "show_distr(10, 'city', 'normalised_rank', title='Нормализованный ранг ресторанов топа-10 городов')"
   ]
  },
  {
   "cell_type": "markdown",
   "metadata": {
    "execution": {
     "iopub.execute_input": "2021-05-29T13:56:43.656402Z",
     "iopub.status.busy": "2021-05-29T13:56:43.656086Z",
     "iopub.status.idle": "2021-05-29T13:56:43.659787Z",
     "shell.execute_reply": "2021-05-29T13:56:43.659156Z",
     "shell.execute_reply.started": "2021-05-29T13:56:43.656356Z"
    }
   },
   "source": [
    "### Анализ целевой переменной **rating**"
   ]
  },
  {
   "cell_type": "code",
   "execution_count": 73,
   "metadata": {
    "execution": {
     "iopub.execute_input": "2021-06-16T11:15:17.528879Z",
     "iopub.status.busy": "2021-06-16T11:15:17.528551Z",
     "iopub.status.idle": "2021-06-16T11:15:17.878599Z",
     "shell.execute_reply": "2021-06-16T11:15:17.877641Z",
     "shell.execute_reply.started": "2021-06-16T11:15:17.528788Z"
    }
   },
   "outputs": [
    {
     "data": {
      "image/png": "[encoded data removed]",
      "text/plain": [
       "<Figure size 792x576 with 1 Axes>"
      ]
     },
     "metadata": {},
     "output_type": "display_data"
    }
   ],
   "source": [
    "# Постоить гистограмму распределения рейтинга ресторанов.\n",
    "stats = data['rating'].value_counts(ascending=True).sort_index()\n",
    "plot = stats.plot(kind='bar', color='orange', title = 'Распределение рейтинга ресторанов')\n",
    "for p in plot.patches:\n",
    "    perc = round(int(p.get_height()) / sum(stats.values) * 100,1)\n",
    "    plot.annotate(str(perc)+'%', (p.get_x() , p.get_height()), color='purple')"
   ]
  },
  {
   "cell_type": "markdown",
   "metadata": {
    "execution": {
     "iopub.execute_input": "2021-05-29T15:37:05.140358Z",
     "iopub.status.busy": "2021-05-29T15:37:05.14004Z",
     "iopub.status.idle": "2021-05-29T15:37:05.144572Z",
     "shell.execute_reply": "2021-05-29T15:37:05.143583Z",
     "shell.execute_reply.started": "2021-05-29T15:37:05.140309Z"
    }
   },
   "source": [
    "# Подготовка"
   ]
  },
  {
   "cell_type": "code",
   "execution_count": 74,
   "metadata": {
    "execution": {
     "iopub.execute_input": "2021-06-16T11:15:17.880875Z",
     "iopub.status.busy": "2021-06-16T11:15:17.880245Z",
     "iopub.status.idle": "2021-06-16T11:15:18.270753Z",
     "shell.execute_reply": "2021-06-16T11:15:18.269900Z",
     "shell.execute_reply.started": "2021-06-16T11:15:17.880817Z"
    }
   },
   "outputs": [],
   "source": [
    "md = data.select_dtypes('number').drop_duplicates()"
   ]
  },
  {
   "cell_type": "code",
   "execution_count": 75,
   "metadata": {
    "execution": {
     "iopub.execute_input": "2021-06-16T11:15:18.274111Z",
     "iopub.status.busy": "2021-06-16T11:15:18.273424Z",
     "iopub.status.idle": "2021-06-16T11:15:18.321273Z",
     "shell.execute_reply": "2021-06-16T11:15:18.320300Z",
     "shell.execute_reply.started": "2021-06-16T11:15:18.274051Z"
    }
   },
   "outputs": [
    {
     "data": {
      "text/html": [
       "<div>\n",
       "<style scoped>\n",
       "    .dataframe tbody tr th:only-of-type {\n",
       "        vertical-align: middle;\n",
       "    }\n",
       "\n",
       "    .dataframe tbody tr th {\n",
       "        vertical-align: top;\n",
       "    }\n",
       "\n",
       "    .dataframe thead th {\n",
       "        text-align: right;\n",
       "    }\n",
       "</style>\n",
       "<table border=\"1\" class=\"dataframe\">\n",
       "  <thead>\n",
       "    <tr style=\"text-align: right;\">\n",
       "      <th></th>\n",
       "      <th>ranking</th>\n",
       "      <th>price_range</th>\n",
       "      <th>number_of_reviews</th>\n",
       "      <th>sample</th>\n",
       "      <th>rating</th>\n",
       "      <th>cuisine_style_isNAN</th>\n",
       "      <th>price_range_isNAN</th>\n",
       "      <th>number_of_reviews_isNAN</th>\n",
       "      <th>reviews_isNAN</th>\n",
       "      <th>cuisine_count</th>\n",
       "      <th>...</th>\n",
       "      <th>new_city_Oporto</th>\n",
       "      <th>new_city_Oslo</th>\n",
       "      <th>new_city_Paris</th>\n",
       "      <th>new_city_Prague</th>\n",
       "      <th>new_city_Rome</th>\n",
       "      <th>new_city_Stockholm</th>\n",
       "      <th>new_city_Vienna</th>\n",
       "      <th>new_city_Warsaw</th>\n",
       "      <th>new_city_Zurich</th>\n",
       "      <th>normalised_rank</th>\n",
       "    </tr>\n",
       "  </thead>\n",
       "  <tbody>\n",
       "    <tr>\n",
       "      <th>0</th>\n",
       "      <td>12963.0</td>\n",
       "      <td>2</td>\n",
       "      <td>4.0</td>\n",
       "      <td>0</td>\n",
       "      <td>0.0</td>\n",
       "      <td>0</td>\n",
       "      <td>0</td>\n",
       "      <td>0</td>\n",
       "      <td>0</td>\n",
       "      <td>2</td>\n",
       "      <td>...</td>\n",
       "      <td>0</td>\n",
       "      <td>0</td>\n",
       "      <td>1</td>\n",
       "      <td>0</td>\n",
       "      <td>0</td>\n",
       "      <td>0</td>\n",
       "      <td>0</td>\n",
       "      <td>0</td>\n",
       "      <td>0</td>\n",
       "      <td>0.926855</td>\n",
       "    </tr>\n",
       "    <tr>\n",
       "      <th>1</th>\n",
       "      <td>106.0</td>\n",
       "      <td>2</td>\n",
       "      <td>97.0</td>\n",
       "      <td>0</td>\n",
       "      <td>0.0</td>\n",
       "      <td>0</td>\n",
       "      <td>0</td>\n",
       "      <td>0</td>\n",
       "      <td>0</td>\n",
       "      <td>5</td>\n",
       "      <td>...</td>\n",
       "      <td>0</td>\n",
       "      <td>0</td>\n",
       "      <td>0</td>\n",
       "      <td>0</td>\n",
       "      <td>0</td>\n",
       "      <td>0</td>\n",
       "      <td>0</td>\n",
       "      <td>0</td>\n",
       "      <td>0</td>\n",
       "      <td>0.092901</td>\n",
       "    </tr>\n",
       "    <tr>\n",
       "      <th>2</th>\n",
       "      <td>810.0</td>\n",
       "      <td>2</td>\n",
       "      <td>28.0</td>\n",
       "      <td>0</td>\n",
       "      <td>0.0</td>\n",
       "      <td>0</td>\n",
       "      <td>0</td>\n",
       "      <td>0</td>\n",
       "      <td>0</td>\n",
       "      <td>1</td>\n",
       "      <td>...</td>\n",
       "      <td>0</td>\n",
       "      <td>0</td>\n",
       "      <td>0</td>\n",
       "      <td>0</td>\n",
       "      <td>0</td>\n",
       "      <td>0</td>\n",
       "      <td>0</td>\n",
       "      <td>0</td>\n",
       "      <td>0</td>\n",
       "      <td>0.458664</td>\n",
       "    </tr>\n",
       "    <tr>\n",
       "      <th>3</th>\n",
       "      <td>1669.0</td>\n",
       "      <td>3</td>\n",
       "      <td>202.0</td>\n",
       "      <td>0</td>\n",
       "      <td>0.0</td>\n",
       "      <td>0</td>\n",
       "      <td>0</td>\n",
       "      <td>0</td>\n",
       "      <td>0</td>\n",
       "      <td>5</td>\n",
       "      <td>...</td>\n",
       "      <td>0</td>\n",
       "      <td>0</td>\n",
       "      <td>0</td>\n",
       "      <td>0</td>\n",
       "      <td>0</td>\n",
       "      <td>0</td>\n",
       "      <td>0</td>\n",
       "      <td>0</td>\n",
       "      <td>0</td>\n",
       "      <td>0.101496</td>\n",
       "    </tr>\n",
       "    <tr>\n",
       "      <th>4</th>\n",
       "      <td>37.0</td>\n",
       "      <td>3</td>\n",
       "      <td>162.0</td>\n",
       "      <td>0</td>\n",
       "      <td>0.0</td>\n",
       "      <td>0</td>\n",
       "      <td>0</td>\n",
       "      <td>0</td>\n",
       "      <td>0</td>\n",
       "      <td>6</td>\n",
       "      <td>...</td>\n",
       "      <td>0</td>\n",
       "      <td>0</td>\n",
       "      <td>0</td>\n",
       "      <td>0</td>\n",
       "      <td>0</td>\n",
       "      <td>0</td>\n",
       "      <td>0</td>\n",
       "      <td>0</td>\n",
       "      <td>0</td>\n",
       "      <td>0.041620</td>\n",
       "    </tr>\n",
       "    <tr>\n",
       "      <th>...</th>\n",
       "      <td>...</td>\n",
       "      <td>...</td>\n",
       "      <td>...</td>\n",
       "      <td>...</td>\n",
       "      <td>...</td>\n",
       "      <td>...</td>\n",
       "      <td>...</td>\n",
       "      <td>...</td>\n",
       "      <td>...</td>\n",
       "      <td>...</td>\n",
       "      <td>...</td>\n",
       "      <td>...</td>\n",
       "      <td>...</td>\n",
       "      <td>...</td>\n",
       "      <td>...</td>\n",
       "      <td>...</td>\n",
       "      <td>...</td>\n",
       "      <td>...</td>\n",
       "      <td>...</td>\n",
       "      <td>...</td>\n",
       "      <td>...</td>\n",
       "    </tr>\n",
       "    <tr>\n",
       "      <th>49995</th>\n",
       "      <td>500.0</td>\n",
       "      <td>2</td>\n",
       "      <td>79.0</td>\n",
       "      <td>1</td>\n",
       "      <td>4.5</td>\n",
       "      <td>0</td>\n",
       "      <td>0</td>\n",
       "      <td>0</td>\n",
       "      <td>0</td>\n",
       "      <td>4</td>\n",
       "      <td>...</td>\n",
       "      <td>0</td>\n",
       "      <td>0</td>\n",
       "      <td>0</td>\n",
       "      <td>0</td>\n",
       "      <td>0</td>\n",
       "      <td>0</td>\n",
       "      <td>0</td>\n",
       "      <td>0</td>\n",
       "      <td>0</td>\n",
       "      <td>0.079681</td>\n",
       "    </tr>\n",
       "    <tr>\n",
       "      <th>49996</th>\n",
       "      <td>6341.0</td>\n",
       "      <td>2</td>\n",
       "      <td>542.0</td>\n",
       "      <td>1</td>\n",
       "      <td>3.5</td>\n",
       "      <td>0</td>\n",
       "      <td>0</td>\n",
       "      <td>0</td>\n",
       "      <td>0</td>\n",
       "      <td>5</td>\n",
       "      <td>...</td>\n",
       "      <td>0</td>\n",
       "      <td>0</td>\n",
       "      <td>1</td>\n",
       "      <td>0</td>\n",
       "      <td>0</td>\n",
       "      <td>0</td>\n",
       "      <td>0</td>\n",
       "      <td>0</td>\n",
       "      <td>0</td>\n",
       "      <td>0.453382</td>\n",
       "    </tr>\n",
       "    <tr>\n",
       "      <th>49997</th>\n",
       "      <td>1652.0</td>\n",
       "      <td>2</td>\n",
       "      <td>4.0</td>\n",
       "      <td>1</td>\n",
       "      <td>4.5</td>\n",
       "      <td>0</td>\n",
       "      <td>1</td>\n",
       "      <td>0</td>\n",
       "      <td>0</td>\n",
       "      <td>2</td>\n",
       "      <td>...</td>\n",
       "      <td>0</td>\n",
       "      <td>0</td>\n",
       "      <td>0</td>\n",
       "      <td>0</td>\n",
       "      <td>0</td>\n",
       "      <td>1</td>\n",
       "      <td>0</td>\n",
       "      <td>0</td>\n",
       "      <td>0</td>\n",
       "      <td>0.670455</td>\n",
       "    </tr>\n",
       "    <tr>\n",
       "      <th>49998</th>\n",
       "      <td>641.0</td>\n",
       "      <td>2</td>\n",
       "      <td>70.0</td>\n",
       "      <td>1</td>\n",
       "      <td>4.0</td>\n",
       "      <td>0</td>\n",
       "      <td>0</td>\n",
       "      <td>0</td>\n",
       "      <td>0</td>\n",
       "      <td>5</td>\n",
       "      <td>...</td>\n",
       "      <td>0</td>\n",
       "      <td>0</td>\n",
       "      <td>0</td>\n",
       "      <td>0</td>\n",
       "      <td>0</td>\n",
       "      <td>0</td>\n",
       "      <td>0</td>\n",
       "      <td>1</td>\n",
       "      <td>0</td>\n",
       "      <td>0.297586</td>\n",
       "    </tr>\n",
       "    <tr>\n",
       "      <th>49999</th>\n",
       "      <td>4827.0</td>\n",
       "      <td>2</td>\n",
       "      <td>260.0</td>\n",
       "      <td>1</td>\n",
       "      <td>3.0</td>\n",
       "      <td>0</td>\n",
       "      <td>0</td>\n",
       "      <td>0</td>\n",
       "      <td>0</td>\n",
       "      <td>1</td>\n",
       "      <td>...</td>\n",
       "      <td>0</td>\n",
       "      <td>0</td>\n",
       "      <td>0</td>\n",
       "      <td>0</td>\n",
       "      <td>0</td>\n",
       "      <td>0</td>\n",
       "      <td>0</td>\n",
       "      <td>0</td>\n",
       "      <td>0</td>\n",
       "      <td>0.769243</td>\n",
       "    </tr>\n",
       "  </tbody>\n",
       "</table>\n",
       "<p>50000 rows × 174 columns</p>\n",
       "</div>"
      ],
      "text/plain": [
       "       ranking  price_range  number_of_reviews  sample  rating  \\\n",
       "0      12963.0            2                4.0       0     0.0   \n",
       "1        106.0            2               97.0       0     0.0   \n",
       "2        810.0            2               28.0       0     0.0   \n",
       "3       1669.0            3              202.0       0     0.0   \n",
       "4         37.0            3              162.0       0     0.0   \n",
       "...        ...          ...                ...     ...     ...   \n",
       "49995    500.0            2               79.0       1     4.5   \n",
       "49996   6341.0            2              542.0       1     3.5   \n",
       "49997   1652.0            2                4.0       1     4.5   \n",
       "49998    641.0            2               70.0       1     4.0   \n",
       "49999   4827.0            2              260.0       1     3.0   \n",
       "\n",
       "       cuisine_style_isNAN  price_range_isNAN  number_of_reviews_isNAN  \\\n",
       "0                        0                  0                        0   \n",
       "1                        0                  0                        0   \n",
       "2                        0                  0                        0   \n",
       "3                        0                  0                        0   \n",
       "4                        0                  0                        0   \n",
       "...                    ...                ...                      ...   \n",
       "49995                    0                  0                        0   \n",
       "49996                    0                  0                        0   \n",
       "49997                    0                  1                        0   \n",
       "49998                    0                  0                        0   \n",
       "49999                    0                  0                        0   \n",
       "\n",
       "       reviews_isNAN  cuisine_count  ...  new_city_Oporto  new_city_Oslo  \\\n",
       "0                  0              2  ...                0              0   \n",
       "1                  0              5  ...                0              0   \n",
       "2                  0              1  ...                0              0   \n",
       "3                  0              5  ...                0              0   \n",
       "4                  0              6  ...                0              0   \n",
       "...              ...            ...  ...              ...            ...   \n",
       "49995              0              4  ...                0              0   \n",
       "49996              0              5  ...                0              0   \n",
       "49997              0              2  ...                0              0   \n",
       "49998              0              5  ...                0              0   \n",
       "49999              0              1  ...                0              0   \n",
       "\n",
       "       new_city_Paris  new_city_Prague  new_city_Rome  new_city_Stockholm  \\\n",
       "0                   1                0              0                   0   \n",
       "1                   0                0              0                   0   \n",
       "2                   0                0              0                   0   \n",
       "3                   0                0              0                   0   \n",
       "4                   0                0              0                   0   \n",
       "...               ...              ...            ...                 ...   \n",
       "49995               0                0              0                   0   \n",
       "49996               1                0              0                   0   \n",
       "49997               0                0              0                   1   \n",
       "49998               0                0              0                   0   \n",
       "49999               0                0              0                   0   \n",
       "\n",
       "       new_city_Vienna  new_city_Warsaw  new_city_Zurich  normalised_rank  \n",
       "0                    0                0                0         0.926855  \n",
       "1                    0                0                0         0.092901  \n",
       "2                    0                0                0         0.458664  \n",
       "3                    0                0                0         0.101496  \n",
       "4                    0                0                0         0.041620  \n",
       "...                ...              ...              ...              ...  \n",
       "49995                0                0                0         0.079681  \n",
       "49996                0                0                0         0.453382  \n",
       "49997                0                0                0         0.670455  \n",
       "49998                0                1                0         0.297586  \n",
       "49999                0                0                0         0.769243  \n",
       "\n",
       "[50000 rows x 174 columns]"
      ]
     },
     "execution_count": 75,
     "metadata": {},
     "output_type": "execute_result"
    }
   ],
   "source": [
    "md"
   ]
  },
  {
   "cell_type": "markdown",
   "metadata": {},
   "source": [
    "# Обучение модели"
   ]
  },
  {
   "cell_type": "code",
   "execution_count": 76,
   "metadata": {
    "execution": {
     "iopub.execute_input": "2021-06-16T11:15:18.323654Z",
     "iopub.status.busy": "2021-06-16T11:15:18.322999Z",
     "iopub.status.idle": "2021-06-16T11:15:18.417111Z",
     "shell.execute_reply": "2021-06-16T11:15:18.416239Z",
     "shell.execute_reply.started": "2021-06-16T11:15:18.323596Z"
    }
   },
   "outputs": [],
   "source": [
    "# Выделим тестовую часть\n",
    "\n",
    "train_data = md.query('sample == 1').drop(['sample'], axis=1)\n",
    "test_data = md.query('sample == 0').drop(['sample'], axis=1)\n",
    "\n",
    "y = train_data.rating.values            # наш таргет\n",
    "X = train_data.drop(['rating'], axis=1)"
   ]
  },
  {
   "cell_type": "markdown",
   "metadata": {},
   "source": [
    "**Перед тем как отправлять наши данные на обучение, разделим данные на еще один тест и трейн, для валидации. \n",
    "Это поможет нам проверить, как хорошо наша модель работает, до отправки submissiona на kaggle.**"
   ]
  },
  {
   "cell_type": "code",
   "execution_count": 77,
   "metadata": {
    "execution": {
     "iopub.execute_input": "2021-06-16T11:15:18.419510Z",
     "iopub.status.busy": "2021-06-16T11:15:18.418843Z",
     "iopub.status.idle": "2021-06-16T11:15:18.473544Z",
     "shell.execute_reply": "2021-06-16T11:15:18.472524Z",
     "shell.execute_reply.started": "2021-06-16T11:15:18.419448Z"
    }
   },
   "outputs": [],
   "source": [
    "# Воспользуемся специальной функцие train_test_split для разбивки тестовых данных\n",
    "# выделим 20% данных на валидацию (параметр test_size)\n",
    "X_train, X_test, y_train, y_test = train_test_split(X, y, test_size=0.2, random_state=RANDOM_SEED)"
   ]
  },
  {
   "cell_type": "code",
   "execution_count": 78,
   "metadata": {
    "execution": {
     "iopub.execute_input": "2021-06-16T11:15:18.475084Z",
     "iopub.status.busy": "2021-06-16T11:15:18.474808Z",
     "iopub.status.idle": "2021-06-16T11:15:18.482099Z",
     "shell.execute_reply": "2021-06-16T11:15:18.480960Z",
     "shell.execute_reply.started": "2021-06-16T11:15:18.475041Z"
    }
   },
   "outputs": [
    {
     "data": {
      "text/plain": [
       "((10000, 173), (40000, 173), (40000, 172), (32000, 172), (8000, 172))"
      ]
     },
     "execution_count": 78,
     "metadata": {},
     "output_type": "execute_result"
    }
   ],
   "source": [
    "# проверяем\n",
    "test_data.shape, train_data.shape, X.shape, X_train.shape, X_test.shape"
   ]
  },
  {
   "cell_type": "markdown",
   "metadata": {},
   "source": [
    "# Model \n",
    "Сам ML"
   ]
  },
  {
   "cell_type": "code",
   "execution_count": 79,
   "metadata": {
    "execution": {
     "iopub.execute_input": "2021-06-16T11:15:18.483999Z",
     "iopub.status.busy": "2021-06-16T11:15:18.483750Z",
     "iopub.status.idle": "2021-06-16T11:15:18.496439Z",
     "shell.execute_reply": "2021-06-16T11:15:18.495492Z",
     "shell.execute_reply.started": "2021-06-16T11:15:18.483957Z"
    }
   },
   "outputs": [],
   "source": [
    "# Импортируем необходимые библиотеки:\n",
    "from sklearn.ensemble import RandomForestRegressor # инструмент для создания и обучения модели\n",
    "from sklearn import metrics # инструменты для оценки точности модели"
   ]
  },
  {
   "cell_type": "code",
   "execution_count": 80,
   "metadata": {
    "execution": {
     "iopub.execute_input": "2021-06-16T11:15:18.498214Z",
     "iopub.status.busy": "2021-06-16T11:15:18.497926Z",
     "iopub.status.idle": "2021-06-16T11:15:36.859770Z",
     "shell.execute_reply": "2021-06-16T11:15:36.858210Z",
     "shell.execute_reply.started": "2021-06-16T11:15:18.498170Z"
    }
   },
   "outputs": [
    {
     "name": "stderr",
     "output_type": "stream",
     "text": [
      "[Parallel(n_jobs=-1)]: Using backend ThreadingBackend with 12 concurrent workers.\n",
      "[Parallel(n_jobs=-1)]: Done  26 tasks      | elapsed:    2.4s\n",
      "[Parallel(n_jobs=-1)]: Done 100 out of 100 | elapsed:    7.2s finished\n",
      "[Parallel(n_jobs=12)]: Using backend ThreadingBackend with 12 concurrent workers.\n",
      "[Parallel(n_jobs=12)]: Done  26 tasks      | elapsed:    0.0s\n",
      "[Parallel(n_jobs=12)]: Done 100 out of 100 | elapsed:    0.0s finished\n"
     ]
    }
   ],
   "source": [
    "# Создаём модель (НАСТРОЙКИ НЕ ТРОГАЕМ)\n",
    "model = RandomForestRegressor(n_estimators=100, verbose=1, n_jobs=-1, random_state=RANDOM_SEED)\n",
    "# Обучаем модель на тестовом наборе данных\n",
    "model.fit(X_train, y_train)\n",
    "\n",
    "# Используем обученную модель для предсказания рейтинга ресторанов в тестовой выборке.\n",
    "# Предсказанные значения записываем в переменную y_pred\n",
    "y_pred = model.predict(X_test)"
   ]
  },
  {
   "cell_type": "code",
   "execution_count": 81,
   "metadata": {
    "execution": {
     "iopub.execute_input": "2021-06-16T11:15:36.863644Z",
     "iopub.status.busy": "2021-06-16T11:15:36.863362Z",
     "iopub.status.idle": "2021-06-16T11:15:36.868315Z",
     "shell.execute_reply": "2021-06-16T11:15:36.867389Z",
     "shell.execute_reply.started": "2021-06-16T11:15:36.863598Z"
    }
   },
   "outputs": [],
   "source": [
    "y_pred = np.round(y_pred * 2)/2"
   ]
  },
  {
   "cell_type": "code",
   "execution_count": 82,
   "metadata": {
    "execution": {
     "iopub.execute_input": "2021-06-16T11:15:36.870571Z",
     "iopub.status.busy": "2021-06-16T11:15:36.870051Z",
     "iopub.status.idle": "2021-06-16T11:15:36.882980Z",
     "shell.execute_reply": "2021-06-16T11:15:36.881877Z",
     "shell.execute_reply.started": "2021-06-16T11:15:36.870514Z"
    }
   },
   "outputs": [
    {
     "name": "stdout",
     "output_type": "stream",
     "text": [
      "MAE: 0.1710625\n"
     ]
    }
   ],
   "source": [
    "# Сравниваем предсказанные значения (y_pred) с реальными (y_test), и смотрим насколько они в среднем отличаются\n",
    "# Метрика называется Mean Absolute Error (MAE) и показывает среднее отклонение предсказанных значений от фактических.\n",
    "print('MAE:', metrics.mean_absolute_error(y_test, y_pred))"
   ]
  },
  {
   "cell_type": "code",
   "execution_count": 83,
   "metadata": {
    "execution": {
     "iopub.execute_input": "2021-06-16T11:15:36.885367Z",
     "iopub.status.busy": "2021-06-16T11:15:36.884738Z",
     "iopub.status.idle": "2021-06-16T11:15:37.257902Z",
     "shell.execute_reply": "2021-06-16T11:15:37.257253Z",
     "shell.execute_reply.started": "2021-06-16T11:15:36.885078Z"
    }
   },
   "outputs": [
    {
     "data": {
      "image/png": "[encoded data removed]",
      "text/plain": [
       "<Figure size 720x720 with 1 Axes>"
      ]
     },
     "metadata": {},
     "output_type": "display_data"
    }
   ],
   "source": [
    "# в RandomForestRegressor есть возможность вывести самые важные признаки для модели\n",
    "plt.rcParams['figure.figsize'] = (10,10)\n",
    "feat_importances = pd.Series(model.feature_importances_, index=X.columns)\n",
    "feat_importances.nlargest(15).plot(kind='barh');"
   ]
  },
  {
   "cell_type": "markdown",
   "metadata": {},
   "source": [
    "# Submission\n"
   ]
  },
  {
   "cell_type": "code",
   "execution_count": 84,
   "metadata": {
    "execution": {
     "iopub.execute_input": "2021-06-16T11:15:37.262216Z",
     "iopub.status.busy": "2021-06-16T11:15:37.261401Z",
     "iopub.status.idle": "2021-06-16T11:15:37.295692Z",
     "shell.execute_reply": "2021-06-16T11:15:37.294591Z",
     "shell.execute_reply.started": "2021-06-16T11:15:37.262147Z"
    }
   },
   "outputs": [
    {
     "data": {
      "text/html": [
       "<div>\n",
       "<style scoped>\n",
       "    .dataframe tbody tr th:only-of-type {\n",
       "        vertical-align: middle;\n",
       "    }\n",
       "\n",
       "    .dataframe tbody tr th {\n",
       "        vertical-align: top;\n",
       "    }\n",
       "\n",
       "    .dataframe thead th {\n",
       "        text-align: right;\n",
       "    }\n",
       "</style>\n",
       "<table border=\"1\" class=\"dataframe\">\n",
       "  <thead>\n",
       "    <tr style=\"text-align: right;\">\n",
       "      <th></th>\n",
       "      <th>ranking</th>\n",
       "      <th>price_range</th>\n",
       "      <th>number_of_reviews</th>\n",
       "      <th>rating</th>\n",
       "      <th>cuisine_style_isNAN</th>\n",
       "      <th>price_range_isNAN</th>\n",
       "      <th>number_of_reviews_isNAN</th>\n",
       "      <th>reviews_isNAN</th>\n",
       "      <th>cuisine_count</th>\n",
       "      <th>review_diff</th>\n",
       "      <th>...</th>\n",
       "      <th>new_city_Oporto</th>\n",
       "      <th>new_city_Oslo</th>\n",
       "      <th>new_city_Paris</th>\n",
       "      <th>new_city_Prague</th>\n",
       "      <th>new_city_Rome</th>\n",
       "      <th>new_city_Stockholm</th>\n",
       "      <th>new_city_Vienna</th>\n",
       "      <th>new_city_Warsaw</th>\n",
       "      <th>new_city_Zurich</th>\n",
       "      <th>normalised_rank</th>\n",
       "    </tr>\n",
       "  </thead>\n",
       "  <tbody>\n",
       "    <tr>\n",
       "      <th>6552</th>\n",
       "      <td>33.0</td>\n",
       "      <td>2</td>\n",
       "      <td>844.0</td>\n",
       "      <td>0.0</td>\n",
       "      <td>0</td>\n",
       "      <td>0</td>\n",
       "      <td>0</td>\n",
       "      <td>0</td>\n",
       "      <td>2</td>\n",
       "      <td>2</td>\n",
       "      <td>...</td>\n",
       "      <td>0</td>\n",
       "      <td>0</td>\n",
       "      <td>0</td>\n",
       "      <td>0</td>\n",
       "      <td>0</td>\n",
       "      <td>0</td>\n",
       "      <td>0</td>\n",
       "      <td>0</td>\n",
       "      <td>0</td>\n",
       "      <td>0.005179</td>\n",
       "    </tr>\n",
       "    <tr>\n",
       "      <th>6137</th>\n",
       "      <td>323.0</td>\n",
       "      <td>2</td>\n",
       "      <td>81.0</td>\n",
       "      <td>0.0</td>\n",
       "      <td>0</td>\n",
       "      <td>0</td>\n",
       "      <td>0</td>\n",
       "      <td>0</td>\n",
       "      <td>5</td>\n",
       "      <td>67</td>\n",
       "      <td>...</td>\n",
       "      <td>0</td>\n",
       "      <td>0</td>\n",
       "      <td>0</td>\n",
       "      <td>0</td>\n",
       "      <td>0</td>\n",
       "      <td>0</td>\n",
       "      <td>0</td>\n",
       "      <td>0</td>\n",
       "      <td>0</td>\n",
       "      <td>0.086898</td>\n",
       "    </tr>\n",
       "    <tr>\n",
       "      <th>9267</th>\n",
       "      <td>7303.0</td>\n",
       "      <td>2</td>\n",
       "      <td>4.0</td>\n",
       "      <td>0.0</td>\n",
       "      <td>1</td>\n",
       "      <td>1</td>\n",
       "      <td>0</td>\n",
       "      <td>0</td>\n",
       "      <td>1</td>\n",
       "      <td>53</td>\n",
       "      <td>...</td>\n",
       "      <td>0</td>\n",
       "      <td>0</td>\n",
       "      <td>0</td>\n",
       "      <td>0</td>\n",
       "      <td>0</td>\n",
       "      <td>0</td>\n",
       "      <td>0</td>\n",
       "      <td>0</td>\n",
       "      <td>0</td>\n",
       "      <td>0.444113</td>\n",
       "    </tr>\n",
       "    <tr>\n",
       "      <th>1759</th>\n",
       "      <td>2782.0</td>\n",
       "      <td>1</td>\n",
       "      <td>4.0</td>\n",
       "      <td>0.0</td>\n",
       "      <td>0</td>\n",
       "      <td>0</td>\n",
       "      <td>0</td>\n",
       "      <td>0</td>\n",
       "      <td>2</td>\n",
       "      <td>328</td>\n",
       "      <td>...</td>\n",
       "      <td>0</td>\n",
       "      <td>0</td>\n",
       "      <td>0</td>\n",
       "      <td>0</td>\n",
       "      <td>0</td>\n",
       "      <td>0</td>\n",
       "      <td>0</td>\n",
       "      <td>0</td>\n",
       "      <td>0</td>\n",
       "      <td>0.436598</td>\n",
       "    </tr>\n",
       "    <tr>\n",
       "      <th>204</th>\n",
       "      <td>5751.0</td>\n",
       "      <td>1</td>\n",
       "      <td>3.0</td>\n",
       "      <td>0.0</td>\n",
       "      <td>0</td>\n",
       "      <td>0</td>\n",
       "      <td>0</td>\n",
       "      <td>0</td>\n",
       "      <td>1</td>\n",
       "      <td>0</td>\n",
       "      <td>...</td>\n",
       "      <td>0</td>\n",
       "      <td>0</td>\n",
       "      <td>0</td>\n",
       "      <td>0</td>\n",
       "      <td>1</td>\n",
       "      <td>0</td>\n",
       "      <td>0</td>\n",
       "      <td>0</td>\n",
       "      <td>0</td>\n",
       "      <td>0.966880</td>\n",
       "    </tr>\n",
       "    <tr>\n",
       "      <th>7696</th>\n",
       "      <td>2589.0</td>\n",
       "      <td>2</td>\n",
       "      <td>28.0</td>\n",
       "      <td>0.0</td>\n",
       "      <td>0</td>\n",
       "      <td>0</td>\n",
       "      <td>0</td>\n",
       "      <td>0</td>\n",
       "      <td>2</td>\n",
       "      <td>29</td>\n",
       "      <td>...</td>\n",
       "      <td>0</td>\n",
       "      <td>0</td>\n",
       "      <td>0</td>\n",
       "      <td>0</td>\n",
       "      <td>0</td>\n",
       "      <td>0</td>\n",
       "      <td>0</td>\n",
       "      <td>0</td>\n",
       "      <td>0</td>\n",
       "      <td>0.795636</td>\n",
       "    </tr>\n",
       "    <tr>\n",
       "      <th>2862</th>\n",
       "      <td>1011.0</td>\n",
       "      <td>2</td>\n",
       "      <td>48.0</td>\n",
       "      <td>0.0</td>\n",
       "      <td>0</td>\n",
       "      <td>0</td>\n",
       "      <td>0</td>\n",
       "      <td>0</td>\n",
       "      <td>2</td>\n",
       "      <td>74</td>\n",
       "      <td>...</td>\n",
       "      <td>0</td>\n",
       "      <td>0</td>\n",
       "      <td>0</td>\n",
       "      <td>0</td>\n",
       "      <td>0</td>\n",
       "      <td>0</td>\n",
       "      <td>0</td>\n",
       "      <td>0</td>\n",
       "      <td>0</td>\n",
       "      <td>0.158663</td>\n",
       "    </tr>\n",
       "    <tr>\n",
       "      <th>8792</th>\n",
       "      <td>1195.0</td>\n",
       "      <td>1</td>\n",
       "      <td>162.0</td>\n",
       "      <td>0.0</td>\n",
       "      <td>0</td>\n",
       "      <td>0</td>\n",
       "      <td>0</td>\n",
       "      <td>0</td>\n",
       "      <td>3</td>\n",
       "      <td>96</td>\n",
       "      <td>...</td>\n",
       "      <td>0</td>\n",
       "      <td>0</td>\n",
       "      <td>1</td>\n",
       "      <td>0</td>\n",
       "      <td>0</td>\n",
       "      <td>0</td>\n",
       "      <td>0</td>\n",
       "      <td>0</td>\n",
       "      <td>0</td>\n",
       "      <td>0.085443</td>\n",
       "    </tr>\n",
       "    <tr>\n",
       "      <th>2638</th>\n",
       "      <td>4605.0</td>\n",
       "      <td>2</td>\n",
       "      <td>326.0</td>\n",
       "      <td>0.0</td>\n",
       "      <td>0</td>\n",
       "      <td>0</td>\n",
       "      <td>0</td>\n",
       "      <td>0</td>\n",
       "      <td>6</td>\n",
       "      <td>13</td>\n",
       "      <td>...</td>\n",
       "      <td>0</td>\n",
       "      <td>0</td>\n",
       "      <td>0</td>\n",
       "      <td>0</td>\n",
       "      <td>0</td>\n",
       "      <td>0</td>\n",
       "      <td>0</td>\n",
       "      <td>0</td>\n",
       "      <td>0</td>\n",
       "      <td>0.280041</td>\n",
       "    </tr>\n",
       "    <tr>\n",
       "      <th>4165</th>\n",
       "      <td>587.0</td>\n",
       "      <td>2</td>\n",
       "      <td>56.0</td>\n",
       "      <td>0.0</td>\n",
       "      <td>0</td>\n",
       "      <td>0</td>\n",
       "      <td>0</td>\n",
       "      <td>0</td>\n",
       "      <td>2</td>\n",
       "      <td>137</td>\n",
       "      <td>...</td>\n",
       "      <td>0</td>\n",
       "      <td>0</td>\n",
       "      <td>0</td>\n",
       "      <td>0</td>\n",
       "      <td>0</td>\n",
       "      <td>0</td>\n",
       "      <td>0</td>\n",
       "      <td>0</td>\n",
       "      <td>0</td>\n",
       "      <td>0.195276</td>\n",
       "    </tr>\n",
       "  </tbody>\n",
       "</table>\n",
       "<p>10 rows × 173 columns</p>\n",
       "</div>"
      ],
      "text/plain": [
       "      ranking  price_range  number_of_reviews  rating  cuisine_style_isNAN  \\\n",
       "6552     33.0            2              844.0     0.0                    0   \n",
       "6137    323.0            2               81.0     0.0                    0   \n",
       "9267   7303.0            2                4.0     0.0                    1   \n",
       "1759   2782.0            1                4.0     0.0                    0   \n",
       "204    5751.0            1                3.0     0.0                    0   \n",
       "7696   2589.0            2               28.0     0.0                    0   \n",
       "2862   1011.0            2               48.0     0.0                    0   \n",
       "8792   1195.0            1              162.0     0.0                    0   \n",
       "2638   4605.0            2              326.0     0.0                    0   \n",
       "4165    587.0            2               56.0     0.0                    0   \n",
       "\n",
       "      price_range_isNAN  number_of_reviews_isNAN  reviews_isNAN  \\\n",
       "6552                  0                        0              0   \n",
       "6137                  0                        0              0   \n",
       "9267                  1                        0              0   \n",
       "1759                  0                        0              0   \n",
       "204                   0                        0              0   \n",
       "7696                  0                        0              0   \n",
       "2862                  0                        0              0   \n",
       "8792                  0                        0              0   \n",
       "2638                  0                        0              0   \n",
       "4165                  0                        0              0   \n",
       "\n",
       "      cuisine_count  review_diff  ...  new_city_Oporto  new_city_Oslo  \\\n",
       "6552              2            2  ...                0              0   \n",
       "6137              5           67  ...                0              0   \n",
       "9267              1           53  ...                0              0   \n",
       "1759              2          328  ...                0              0   \n",
       "204               1            0  ...                0              0   \n",
       "7696              2           29  ...                0              0   \n",
       "2862              2           74  ...                0              0   \n",
       "8792              3           96  ...                0              0   \n",
       "2638              6           13  ...                0              0   \n",
       "4165              2          137  ...                0              0   \n",
       "\n",
       "      new_city_Paris  new_city_Prague  new_city_Rome  new_city_Stockholm  \\\n",
       "6552               0                0              0                   0   \n",
       "6137               0                0              0                   0   \n",
       "9267               0                0              0                   0   \n",
       "1759               0                0              0                   0   \n",
       "204                0                0              1                   0   \n",
       "7696               0                0              0                   0   \n",
       "2862               0                0              0                   0   \n",
       "8792               1                0              0                   0   \n",
       "2638               0                0              0                   0   \n",
       "4165               0                0              0                   0   \n",
       "\n",
       "      new_city_Vienna  new_city_Warsaw  new_city_Zurich  normalised_rank  \n",
       "6552                0                0                0         0.005179  \n",
       "6137                0                0                0         0.086898  \n",
       "9267                0                0                0         0.444113  \n",
       "1759                0                0                0         0.436598  \n",
       "204                 0                0                0         0.966880  \n",
       "7696                0                0                0         0.795636  \n",
       "2862                0                0                0         0.158663  \n",
       "8792                0                0                0         0.085443  \n",
       "2638                0                0                0         0.280041  \n",
       "4165                0                0                0         0.195276  \n",
       "\n",
       "[10 rows x 173 columns]"
      ]
     },
     "execution_count": 84,
     "metadata": {},
     "output_type": "execute_result"
    }
   ],
   "source": [
    "test_data.sample(10)"
   ]
  },
  {
   "cell_type": "code",
   "execution_count": 85,
   "metadata": {
    "execution": {
     "iopub.execute_input": "2021-06-16T11:15:37.298242Z",
     "iopub.status.busy": "2021-06-16T11:15:37.297673Z",
     "iopub.status.idle": "2021-06-16T11:15:37.309922Z",
     "shell.execute_reply": "2021-06-16T11:15:37.308642Z",
     "shell.execute_reply.started": "2021-06-16T11:15:37.297994Z"
    }
   },
   "outputs": [],
   "source": [
    "test_data = test_data.drop(['rating'], axis=1)"
   ]
  },
  {
   "cell_type": "code",
   "execution_count": 86,
   "metadata": {
    "execution": {
     "iopub.execute_input": "2021-06-16T11:15:37.311498Z",
     "iopub.status.busy": "2021-06-16T11:15:37.311198Z",
     "iopub.status.idle": "2021-06-16T11:15:37.436647Z",
     "shell.execute_reply": "2021-06-16T11:15:37.434336Z",
     "shell.execute_reply.started": "2021-06-16T11:15:37.311444Z"
    }
   },
   "outputs": [
    {
     "name": "stderr",
     "output_type": "stream",
     "text": [
      "[Parallel(n_jobs=12)]: Using backend ThreadingBackend with 12 concurrent workers.\n",
      "[Parallel(n_jobs=12)]: Done  26 tasks      | elapsed:    0.0s\n",
      "[Parallel(n_jobs=12)]: Done 100 out of 100 | elapsed:    0.0s finished\n"
     ]
    }
   ],
   "source": [
    "predict_submission = model.predict(test_data)"
   ]
  },
  {
   "cell_type": "code",
   "execution_count": 87,
   "metadata": {
    "execution": {
     "iopub.execute_input": "2021-06-16T11:15:37.438641Z",
     "iopub.status.busy": "2021-06-16T11:15:37.438247Z",
     "iopub.status.idle": "2021-06-16T11:15:37.445392Z",
     "shell.execute_reply": "2021-06-16T11:15:37.444447Z",
     "shell.execute_reply.started": "2021-06-16T11:15:37.438568Z"
    }
   },
   "outputs": [],
   "source": [
    "predict_submission = np.round(predict_submission * 2)/2"
   ]
  },
  {
   "cell_type": "code",
   "execution_count": 89,
   "metadata": {
    "execution": {
     "iopub.execute_input": "2021-06-16T11:15:37.447729Z",
     "iopub.status.busy": "2021-06-16T11:15:37.447339Z",
     "iopub.status.idle": "2021-06-16T11:15:37.966765Z",
     "shell.execute_reply": "2021-06-16T11:15:37.965440Z",
     "shell.execute_reply.started": "2021-06-16T11:15:37.447658Z"
    }
   },
   "outputs": [
    {
     "data": {
      "text/html": [
       "<div>\n",
       "<style scoped>\n",
       "    .dataframe tbody tr th:only-of-type {\n",
       "        vertical-align: middle;\n",
       "    }\n",
       "\n",
       "    .dataframe tbody tr th {\n",
       "        vertical-align: top;\n",
       "    }\n",
       "\n",
       "    .dataframe thead th {\n",
       "        text-align: right;\n",
       "    }\n",
       "</style>\n",
       "<table border=\"1\" class=\"dataframe\">\n",
       "  <thead>\n",
       "    <tr style=\"text-align: right;\">\n",
       "      <th></th>\n",
       "      <th>restaurant_id</th>\n",
       "      <th>rating</th>\n",
       "    </tr>\n",
       "  </thead>\n",
       "  <tbody>\n",
       "    <tr>\n",
       "      <th>0</th>\n",
       "      <td>id_0</td>\n",
       "      <td>3.0</td>\n",
       "    </tr>\n",
       "    <tr>\n",
       "      <th>1</th>\n",
       "      <td>id_1</td>\n",
       "      <td>4.0</td>\n",
       "    </tr>\n",
       "    <tr>\n",
       "      <th>2</th>\n",
       "      <td>id_2</td>\n",
       "      <td>4.5</td>\n",
       "    </tr>\n",
       "    <tr>\n",
       "      <th>3</th>\n",
       "      <td>id_3</td>\n",
       "      <td>4.5</td>\n",
       "    </tr>\n",
       "    <tr>\n",
       "      <th>4</th>\n",
       "      <td>id_4</td>\n",
       "      <td>4.5</td>\n",
       "    </tr>\n",
       "    <tr>\n",
       "      <th>5</th>\n",
       "      <td>id_5</td>\n",
       "      <td>4.5</td>\n",
       "    </tr>\n",
       "    <tr>\n",
       "      <th>6</th>\n",
       "      <td>id_6</td>\n",
       "      <td>1.5</td>\n",
       "    </tr>\n",
       "    <tr>\n",
       "      <th>7</th>\n",
       "      <td>id_7</td>\n",
       "      <td>3.0</td>\n",
       "    </tr>\n",
       "    <tr>\n",
       "      <th>8</th>\n",
       "      <td>id_8</td>\n",
       "      <td>4.0</td>\n",
       "    </tr>\n",
       "    <tr>\n",
       "      <th>9</th>\n",
       "      <td>id_9</td>\n",
       "      <td>4.5</td>\n",
       "    </tr>\n",
       "  </tbody>\n",
       "</table>\n",
       "</div>"
      ],
      "text/plain": [
       "  restaurant_id  rating\n",
       "0          id_0     3.0\n",
       "1          id_1     4.0\n",
       "2          id_2     4.5\n",
       "3          id_3     4.5\n",
       "4          id_4     4.5\n",
       "5          id_5     4.5\n",
       "6          id_6     1.5\n",
       "7          id_7     3.0\n",
       "8          id_8     4.0\n",
       "9          id_9     4.5"
      ]
     },
     "execution_count": 89,
     "metadata": {},
     "output_type": "execute_result"
    }
   ],
   "source": [
    "sample_submission['rating'] = predict_submission\n",
    "sample_submission.to_csv('submission1.csv', index=False)\n",
    "sample_submission.head(10)"
   ]
  },
  {
   "cell_type": "code",
   "execution_count": null,
   "metadata": {},
   "outputs": [],
   "source": []
  }
 ],
 "metadata": {
  "kernelspec": {
   "display_name": "Python 3",
   "language": "python",
   "name": "python3"
  },
  "language_info": {
   "codemirror_mode": {
    "name": "ipython",
    "version": 3
   },
   "file_extension": ".py",
   "mimetype": "text/x-python",
   "name": "python",
   "nbconvert_exporter": "python",
   "pygments_lexer": "ipython3",
   "version": "3.8.5"
  }
 },
 "nbformat": 4,
 "nbformat_minor": 4
}
